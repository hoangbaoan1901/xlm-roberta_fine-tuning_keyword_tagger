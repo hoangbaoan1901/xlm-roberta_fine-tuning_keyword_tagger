{
 "cells": [
  {
   "cell_type": "markdown",
   "metadata": {},
   "source": [
    "### Load data"
   ]
  },
  {
   "cell_type": "code",
   "execution_count": 1,
   "metadata": {},
   "outputs": [
    {
     "data": {
      "text/html": [
       "<div>\n",
       "<style scoped>\n",
       "    .dataframe tbody tr th:only-of-type {\n",
       "        vertical-align: middle;\n",
       "    }\n",
       "\n",
       "    .dataframe tbody tr th {\n",
       "        vertical-align: top;\n",
       "    }\n",
       "\n",
       "    .dataframe thead th {\n",
       "        text-align: right;\n",
       "    }\n",
       "</style>\n",
       "<table border=\"1\" class=\"dataframe\">\n",
       "  <thead>\n",
       "    <tr style=\"text-align: right;\">\n",
       "      <th></th>\n",
       "      <th>content</th>\n",
       "      <th>tags</th>\n",
       "    </tr>\n",
       "  </thead>\n",
       "  <tbody>\n",
       "    <tr>\n",
       "      <th>0</th>\n",
       "      <td>Bước vào trận đấu, Barcelona nhanh chóng tràn ...</td>\n",
       "      <td>La Liga,Sevilla,Olimpic Lluis Companys,đè bẹp,...</td>\n",
       "    </tr>\n",
       "    <tr>\n",
       "      <th>1</th>\n",
       "      <td>Willian đi vào lịch sử bóng đá xứ samba. Với 1...</td>\n",
       "      <td>Estevao Willian,Neymar,giải VĐQG Brazil,Serie ...</td>\n",
       "    </tr>\n",
       "    <tr>\n",
       "      <th>2</th>\n",
       "      <td>Giải vô địch ná cao su thế giới năm 2024 đã di...</td>\n",
       "      <td>ná cao su,giải vô địch,giải Ba,Thượng Hải,đồng...</td>\n",
       "    </tr>\n",
       "    <tr>\n",
       "      <th>3</th>\n",
       "      <td>Mục tiêu lớn Phó Thủ tướng Chính phủ Lê Thành ...</td>\n",
       "      <td>đăng cai,Đại hội Thể thao châu Á,ASIAD,thể dục...</td>\n",
       "    </tr>\n",
       "    <tr>\n",
       "      <th>4</th>\n",
       "      <td>Ngày 20-10, Giải bơi và lặn vô địch quốc gia n...</td>\n",
       "      <td>toàn đoàn,lặn,Vũ Đặng Nhật Nam,Nguyễn Lê Truyề...</td>\n",
       "    </tr>\n",
       "    <tr>\n",
       "      <th>...</th>\n",
       "      <td>...</td>\n",
       "      <td>...</td>\n",
       "    </tr>\n",
       "    <tr>\n",
       "      <th>99845</th>\n",
       "      <td>Tạo động lực phát triển nhanh và bền vững của ...</td>\n",
       "      <td>Kỳ họp,Quốc hội,tư duy,Trần Thanh Mẫn,nguồn lự...</td>\n",
       "    </tr>\n",
       "    <tr>\n",
       "      <th>99846</th>\n",
       "      <td>Theo số liệu của Tổng cục Hải quan, trong 9 th...</td>\n",
       "      <td>cao su tự nhiên,cao su,ANRPC,Chứng khoán MB,nư...</td>\n",
       "    </tr>\n",
       "    <tr>\n",
       "      <th>99847</th>\n",
       "      <td>Mong có chiến lược ứng phó hiệu quả với thiên ...</td>\n",
       "      <td>Kỳ họp thứ Tám,Trần Thanh Mẫn,ngắn gọn,Chủ tịc...</td>\n",
       "    </tr>\n",
       "    <tr>\n",
       "      <th>99848</th>\n",
       "      <td>Nhà chức trách xác định, Hoàng Văn Thảo có hàn...</td>\n",
       "      <td>Hoàng Văn Thảo,chạy án,Cục phó,giả danh,TP Hồ ...</td>\n",
       "    </tr>\n",
       "    <tr>\n",
       "      <th>99849</th>\n",
       "      <td>Trong 6 tháng đầu năm 2024, Sở Y tế thành phố ...</td>\n",
       "      <td>đấu thầu,vật tư,hóa chất,thiết bị y tế,thông t...</td>\n",
       "    </tr>\n",
       "  </tbody>\n",
       "</table>\n",
       "<p>99850 rows × 2 columns</p>\n",
       "</div>"
      ],
      "text/plain": [
       "                                                 content  \\\n",
       "0      Bước vào trận đấu, Barcelona nhanh chóng tràn ...   \n",
       "1      Willian đi vào lịch sử bóng đá xứ samba. Với 1...   \n",
       "2      Giải vô địch ná cao su thế giới năm 2024 đã di...   \n",
       "3      Mục tiêu lớn Phó Thủ tướng Chính phủ Lê Thành ...   \n",
       "4      Ngày 20-10, Giải bơi và lặn vô địch quốc gia n...   \n",
       "...                                                  ...   \n",
       "99845  Tạo động lực phát triển nhanh và bền vững của ...   \n",
       "99846  Theo số liệu của Tổng cục Hải quan, trong 9 th...   \n",
       "99847  Mong có chiến lược ứng phó hiệu quả với thiên ...   \n",
       "99848  Nhà chức trách xác định, Hoàng Văn Thảo có hàn...   \n",
       "99849  Trong 6 tháng đầu năm 2024, Sở Y tế thành phố ...   \n",
       "\n",
       "                                                    tags  \n",
       "0      La Liga,Sevilla,Olimpic Lluis Companys,đè bẹp,...  \n",
       "1      Estevao Willian,Neymar,giải VĐQG Brazil,Serie ...  \n",
       "2      ná cao su,giải vô địch,giải Ba,Thượng Hải,đồng...  \n",
       "3      đăng cai,Đại hội Thể thao châu Á,ASIAD,thể dục...  \n",
       "4      toàn đoàn,lặn,Vũ Đặng Nhật Nam,Nguyễn Lê Truyề...  \n",
       "...                                                  ...  \n",
       "99845  Kỳ họp,Quốc hội,tư duy,Trần Thanh Mẫn,nguồn lự...  \n",
       "99846  cao su tự nhiên,cao su,ANRPC,Chứng khoán MB,nư...  \n",
       "99847  Kỳ họp thứ Tám,Trần Thanh Mẫn,ngắn gọn,Chủ tịc...  \n",
       "99848  Hoàng Văn Thảo,chạy án,Cục phó,giả danh,TP Hồ ...  \n",
       "99849  đấu thầu,vật tư,hóa chất,thiết bị y tế,thông t...  \n",
       "\n",
       "[99850 rows x 2 columns]"
      ]
     },
     "execution_count": 1,
     "metadata": {},
     "output_type": "execute_result"
    }
   ],
   "source": [
    "import pandas as pd\n",
    "import os\n",
    "from dotenv import load_dotenv\n",
    "\n",
    "load_dotenv()\n",
    "DATA_PATH = os.getenv(\"DATA_PATH\")\n",
    "\n",
    "data = pd.read_csv(DATA_PATH+\"articles_training.tsv\", sep='\\t')\n",
    "data"
   ]
  },
  {
   "cell_type": "markdown",
   "metadata": {},
   "source": [
    "### Clean data"
   ]
  },
  {
   "cell_type": "code",
   "execution_count": 2,
   "metadata": {},
   "outputs": [],
   "source": [
    "def remove_tags(content, tags):\n",
    "\tremoved = 0\n",
    "\ttag_list = tags.split(\",\")\n",
    "\tfor tag in tag_list:\n",
    "\t\tif tag not in content:\n",
    "\t\t\ttag_list.remove(tag)\n",
    "\t\t\tremoved += 1\n",
    "\treturn \",\".join(tag_list), removed\n",
    "\n",
    "\n",
    "def too_short(content):\n",
    "\treturn len(content) < 100\n",
    "\n",
    "def too_much_tags(content, tags, ratio=0.5):\n",
    "\tif len(tags) > len(content)*ratio:\n",
    "\t\treturn True"
   ]
  },
  {
   "cell_type": "code",
   "execution_count": 3,
   "metadata": {},
   "outputs": [
    {
     "data": {
      "text/html": [
       "<div>\n",
       "<style scoped>\n",
       "    .dataframe tbody tr th:only-of-type {\n",
       "        vertical-align: middle;\n",
       "    }\n",
       "\n",
       "    .dataframe tbody tr th {\n",
       "        vertical-align: top;\n",
       "    }\n",
       "\n",
       "    .dataframe thead th {\n",
       "        text-align: right;\n",
       "    }\n",
       "</style>\n",
       "<table border=\"1\" class=\"dataframe\">\n",
       "  <thead>\n",
       "    <tr style=\"text-align: right;\">\n",
       "      <th></th>\n",
       "      <th>content</th>\n",
       "      <th>tags</th>\n",
       "    </tr>\n",
       "  </thead>\n",
       "  <tbody>\n",
       "    <tr>\n",
       "      <th>0</th>\n",
       "      <td>Bước vào trận đấu, Barcelona nhanh chóng tràn ...</td>\n",
       "      <td>La Liga,Sevilla,Olimpic Lluis Companys,đè bẹp,...</td>\n",
       "    </tr>\n",
       "    <tr>\n",
       "      <th>1</th>\n",
       "      <td>Willian đi vào lịch sử bóng đá xứ samba. Với 1...</td>\n",
       "      <td>Estevao Willian,Neymar,giải VĐQG Brazil,Serie ...</td>\n",
       "    </tr>\n",
       "    <tr>\n",
       "      <th>2</th>\n",
       "      <td>Giải vô địch ná cao su thế giới năm 2024 đã di...</td>\n",
       "      <td>ná cao su,giải vô địch,giải Ba,Thượng Hải,đồng...</td>\n",
       "    </tr>\n",
       "    <tr>\n",
       "      <th>3</th>\n",
       "      <td>Mục tiêu lớn Phó Thủ tướng Chính phủ Lê Thành ...</td>\n",
       "      <td>đăng cai,Đại hội Thể thao châu Á,ASIAD,thể dục...</td>\n",
       "    </tr>\n",
       "    <tr>\n",
       "      <th>4</th>\n",
       "      <td>Ngày 20-10, Giải bơi và lặn vô địch quốc gia n...</td>\n",
       "      <td>toàn đoàn,lặn,Vũ Đặng Nhật Nam,Nguyễn Lê Truyề...</td>\n",
       "    </tr>\n",
       "    <tr>\n",
       "      <th>...</th>\n",
       "      <td>...</td>\n",
       "      <td>...</td>\n",
       "    </tr>\n",
       "    <tr>\n",
       "      <th>97836</th>\n",
       "      <td>Tạo động lực phát triển nhanh và bền vững của ...</td>\n",
       "      <td>Kỳ họp,Quốc hội,tư duy,Trần Thanh Mẫn,nguồn lự...</td>\n",
       "    </tr>\n",
       "    <tr>\n",
       "      <th>97837</th>\n",
       "      <td>Theo số liệu của Tổng cục Hải quan, trong 9 th...</td>\n",
       "      <td>cao su tự nhiên,cao su,ANRPC,Chứng khoán MB,nư...</td>\n",
       "    </tr>\n",
       "    <tr>\n",
       "      <th>97838</th>\n",
       "      <td>Mong có chiến lược ứng phó hiệu quả với thiên ...</td>\n",
       "      <td>Kỳ họp thứ Tám,Trần Thanh Mẫn,ngắn gọn,Chủ tịc...</td>\n",
       "    </tr>\n",
       "    <tr>\n",
       "      <th>97839</th>\n",
       "      <td>Nhà chức trách xác định, Hoàng Văn Thảo có hàn...</td>\n",
       "      <td>Hoàng Văn Thảo,chạy án,Cục phó,giả danh,TP Hồ ...</td>\n",
       "    </tr>\n",
       "    <tr>\n",
       "      <th>97840</th>\n",
       "      <td>Trong 6 tháng đầu năm 2024, Sở Y tế thành phố ...</td>\n",
       "      <td>đấu thầu,vật tư,hóa chất,thiết bị y tế,thông t...</td>\n",
       "    </tr>\n",
       "  </tbody>\n",
       "</table>\n",
       "<p>97841 rows × 2 columns</p>\n",
       "</div>"
      ],
      "text/plain": [
       "                                                 content  \\\n",
       "0      Bước vào trận đấu, Barcelona nhanh chóng tràn ...   \n",
       "1      Willian đi vào lịch sử bóng đá xứ samba. Với 1...   \n",
       "2      Giải vô địch ná cao su thế giới năm 2024 đã di...   \n",
       "3      Mục tiêu lớn Phó Thủ tướng Chính phủ Lê Thành ...   \n",
       "4      Ngày 20-10, Giải bơi và lặn vô địch quốc gia n...   \n",
       "...                                                  ...   \n",
       "97836  Tạo động lực phát triển nhanh và bền vững của ...   \n",
       "97837  Theo số liệu của Tổng cục Hải quan, trong 9 th...   \n",
       "97838  Mong có chiến lược ứng phó hiệu quả với thiên ...   \n",
       "97839  Nhà chức trách xác định, Hoàng Văn Thảo có hàn...   \n",
       "97840  Trong 6 tháng đầu năm 2024, Sở Y tế thành phố ...   \n",
       "\n",
       "                                                    tags  \n",
       "0      La Liga,Sevilla,Olimpic Lluis Companys,đè bẹp,...  \n",
       "1      Estevao Willian,Neymar,giải VĐQG Brazil,Serie ...  \n",
       "2      ná cao su,giải vô địch,giải Ba,Thượng Hải,đồng...  \n",
       "3      đăng cai,Đại hội Thể thao châu Á,ASIAD,thể dục...  \n",
       "4      toàn đoàn,lặn,Vũ Đặng Nhật Nam,Nguyễn Lê Truyề...  \n",
       "...                                                  ...  \n",
       "97836  Kỳ họp,Quốc hội,tư duy,Trần Thanh Mẫn,nguồn lự...  \n",
       "97837  cao su tự nhiên,cao su,ANRPC,Chứng khoán MB,nư...  \n",
       "97838  Kỳ họp thứ Tám,Trần Thanh Mẫn,ngắn gọn,Chủ tịc...  \n",
       "97839  Hoàng Văn Thảo,chạy án,Cục phó,giả danh,TP Hồ ...  \n",
       "97840  đấu thầu,vật tư,hóa chất,thiết bị y tế,thông t...  \n",
       "\n",
       "[97841 rows x 2 columns]"
      ]
     },
     "execution_count": 3,
     "metadata": {},
     "output_type": "execute_result"
    }
   ],
   "source": [
    "# Remove rows if the content is too short or if there are too much tags\n",
    "for i in range(len(data)):\n",
    "    if too_short(data.loc[i, \"content\"]) or too_much_tags(data.loc[i, \"content\"], data.loc[i, \"tags\"]):\n",
    "        data = data.drop(i)\n",
    "\n",
    "data = data.reset_index(drop=True)\n",
    "data"
   ]
  },
  {
   "cell_type": "markdown",
   "metadata": {},
   "source": [
    "buoc vao tran......La Liga....\n",
    "O O OO     B-KEY I-KEY OOOOO"
   ]
  },
  {
   "cell_type": "code",
   "execution_count": 4,
   "metadata": {},
   "outputs": [],
   "source": [
    "# Remove tags that are not in the content\n",
    "removeds = []\n",
    "for i in range(len(data)):\n",
    "    data.loc[i, \"tags\"], removed = remove_tags(data.loc[i, \"content\"], data.loc[i, \"tags\"])\n",
    "    removeds.append(removed)"
   ]
  },
  {
   "cell_type": "code",
   "execution_count": 5,
   "metadata": {},
   "outputs": [
    {
     "data": {
      "image/png": "[encoded data removed]",
      "text/plain": [
       "<Figure size 640x480 with 1 Axes>"
      ]
     },
     "metadata": {},
     "output_type": "display_data"
    }
   ],
   "source": [
    "# Plot the number of removed tags\n",
    "import matplotlib.pyplot as plt\n",
    "plt.hist(removeds)\n",
    "plt.show()"
   ]
  },
  {
   "cell_type": "code",
   "execution_count": 6,
   "metadata": {},
   "outputs": [
    {
     "data": {
      "text/html": [
       "<div>\n",
       "<style scoped>\n",
       "    .dataframe tbody tr th:only-of-type {\n",
       "        vertical-align: middle;\n",
       "    }\n",
       "\n",
       "    .dataframe tbody tr th {\n",
       "        vertical-align: top;\n",
       "    }\n",
       "\n",
       "    .dataframe thead th {\n",
       "        text-align: right;\n",
       "    }\n",
       "</style>\n",
       "<table border=\"1\" class=\"dataframe\">\n",
       "  <thead>\n",
       "    <tr style=\"text-align: right;\">\n",
       "      <th></th>\n",
       "      <th>content</th>\n",
       "      <th>tags</th>\n",
       "    </tr>\n",
       "  </thead>\n",
       "  <tbody>\n",
       "    <tr>\n",
       "      <th>0</th>\n",
       "      <td>Bước vào trận đấu, Barcelona nhanh chóng tràn ...</td>\n",
       "      <td>La Liga,Sevilla,Olimpic Lluis Companys,Lewando...</td>\n",
       "    </tr>\n",
       "    <tr>\n",
       "      <th>1</th>\n",
       "      <td>Willian đi vào lịch sử bóng đá xứ samba. Với 1...</td>\n",
       "      <td>Estevao Willian,Neymar,giải VĐQG Brazil,Serie ...</td>\n",
       "    </tr>\n",
       "    <tr>\n",
       "      <th>2</th>\n",
       "      <td>Giải vô địch ná cao su thế giới năm 2024 đã di...</td>\n",
       "      <td>ná cao su,giải vô địch,giải Ba,Thượng Hải,vận ...</td>\n",
       "    </tr>\n",
       "    <tr>\n",
       "      <th>3</th>\n",
       "      <td>Mục tiêu lớn Phó Thủ tướng Chính phủ Lê Thành ...</td>\n",
       "      <td>đăng cai,Đại hội Thể thao châu Á,thể dục,Quyết...</td>\n",
       "    </tr>\n",
       "    <tr>\n",
       "      <th>4</th>\n",
       "      <td>Ngày 20-10, Giải bơi và lặn vô địch quốc gia n...</td>\n",
       "      <td>toàn đoàn,lặn,Vũ Đặng Nhật Nam,Nguyễn Lê Truyề...</td>\n",
       "    </tr>\n",
       "    <tr>\n",
       "      <th>...</th>\n",
       "      <td>...</td>\n",
       "      <td>...</td>\n",
       "    </tr>\n",
       "    <tr>\n",
       "      <th>97836</th>\n",
       "      <td>Tạo động lực phát triển nhanh và bền vững của ...</td>\n",
       "      <td>Kỳ họp,Quốc hội,tư duy,Trần Thanh Mẫn,nguồn lự...</td>\n",
       "    </tr>\n",
       "    <tr>\n",
       "      <th>97837</th>\n",
       "      <td>Theo số liệu của Tổng cục Hải quan, trong 9 th...</td>\n",
       "      <td>cao su tự nhiên,cao su,ANRPC,Chứng khoán MB,ch...</td>\n",
       "    </tr>\n",
       "    <tr>\n",
       "      <th>97838</th>\n",
       "      <td>Mong có chiến lược ứng phó hiệu quả với thiên ...</td>\n",
       "      <td>Kỳ họp thứ Tám,Trần Thanh Mẫn,ngắn gọn,Chủ tịc...</td>\n",
       "    </tr>\n",
       "    <tr>\n",
       "      <th>97839</th>\n",
       "      <td>Nhà chức trách xác định, Hoàng Văn Thảo có hàn...</td>\n",
       "      <td>Hoàng Văn Thảo,chạy án,Cục phó,giả danh,TP Hồ ...</td>\n",
       "    </tr>\n",
       "    <tr>\n",
       "      <th>97840</th>\n",
       "      <td>Trong 6 tháng đầu năm 2024, Sở Y tế thành phố ...</td>\n",
       "      <td>đấu thầu,vật tư,hóa chất,thiết bị y tế,thông t...</td>\n",
       "    </tr>\n",
       "  </tbody>\n",
       "</table>\n",
       "<p>97841 rows × 2 columns</p>\n",
       "</div>"
      ],
      "text/plain": [
       "                                                 content  \\\n",
       "0      Bước vào trận đấu, Barcelona nhanh chóng tràn ...   \n",
       "1      Willian đi vào lịch sử bóng đá xứ samba. Với 1...   \n",
       "2      Giải vô địch ná cao su thế giới năm 2024 đã di...   \n",
       "3      Mục tiêu lớn Phó Thủ tướng Chính phủ Lê Thành ...   \n",
       "4      Ngày 20-10, Giải bơi và lặn vô địch quốc gia n...   \n",
       "...                                                  ...   \n",
       "97836  Tạo động lực phát triển nhanh và bền vững của ...   \n",
       "97837  Theo số liệu của Tổng cục Hải quan, trong 9 th...   \n",
       "97838  Mong có chiến lược ứng phó hiệu quả với thiên ...   \n",
       "97839  Nhà chức trách xác định, Hoàng Văn Thảo có hàn...   \n",
       "97840  Trong 6 tháng đầu năm 2024, Sở Y tế thành phố ...   \n",
       "\n",
       "                                                    tags  \n",
       "0      La Liga,Sevilla,Olimpic Lluis Companys,Lewando...  \n",
       "1      Estevao Willian,Neymar,giải VĐQG Brazil,Serie ...  \n",
       "2      ná cao su,giải vô địch,giải Ba,Thượng Hải,vận ...  \n",
       "3      đăng cai,Đại hội Thể thao châu Á,thể dục,Quyết...  \n",
       "4      toàn đoàn,lặn,Vũ Đặng Nhật Nam,Nguyễn Lê Truyề...  \n",
       "...                                                  ...  \n",
       "97836  Kỳ họp,Quốc hội,tư duy,Trần Thanh Mẫn,nguồn lự...  \n",
       "97837  cao su tự nhiên,cao su,ANRPC,Chứng khoán MB,ch...  \n",
       "97838  Kỳ họp thứ Tám,Trần Thanh Mẫn,ngắn gọn,Chủ tịc...  \n",
       "97839  Hoàng Văn Thảo,chạy án,Cục phó,giả danh,TP Hồ ...  \n",
       "97840  đấu thầu,vật tư,hóa chất,thiết bị y tế,thông t...  \n",
       "\n",
       "[97841 rows x 2 columns]"
      ]
     },
     "execution_count": 6,
     "metadata": {},
     "output_type": "execute_result"
    }
   ],
   "source": [
    "data"
   ]
  },
  {
   "cell_type": "markdown",
   "metadata": {},
   "source": [
    "### Delete unusable"
   ]
  },
  {
   "cell_type": "code",
   "execution_count": 8,
   "metadata": {},
   "outputs": [
    {
     "name": "stdout",
     "output_type": "stream",
     "text": [
      "XLMRobertaConfig {\n",
      "  \"_attn_implementation_autoset\": true,\n",
      "  \"_name_or_path\": \"FacebookAI/xlm-roberta-large\",\n",
      "  \"architectures\": [\n",
      "    \"XLMRobertaForMaskedLM\"\n",
      "  ],\n",
      "  \"attention_probs_dropout_prob\": 0.1,\n",
      "  \"bos_token_id\": 0,\n",
      "  \"classifier_dropout\": null,\n",
      "  \"eos_token_id\": 2,\n",
      "  \"hidden_act\": \"gelu\",\n",
      "  \"hidden_dropout_prob\": 0.1,\n",
      "  \"hidden_size\": 1024,\n",
      "  \"initializer_range\": 0.02,\n",
      "  \"intermediate_size\": 4096,\n",
      "  \"layer_norm_eps\": 1e-05,\n",
      "  \"max_position_embeddings\": 514,\n",
      "  \"model_type\": \"xlm-roberta\",\n",
      "  \"num_attention_heads\": 16,\n",
      "  \"num_hidden_layers\": 24,\n",
      "  \"output_past\": true,\n",
      "  \"pad_token_id\": 1,\n",
      "  \"position_embedding_type\": \"absolute\",\n",
      "  \"transformers_version\": \"4.46.3\",\n",
      "  \"type_vocab_size\": 1,\n",
      "  \"use_cache\": true,\n",
      "  \"vocab_size\": 250002\n",
      "}\n",
      "\n"
     ]
    }
   ],
   "source": [
    "from transformers import AutoModel, AutoTokenizer\n",
    "\n",
    "model_name = \"FacebookAI/xlm-roberta-large\"\n",
    "model = AutoModel.from_pretrained(model_name)\n",
    "print(model.config) # max_position_embeddings=514"
   ]
  },
  {
   "cell_type": "code",
   "execution_count": 9,
   "metadata": {},
   "outputs": [
    {
     "data": {
      "application/vnd.jupyter.widget-view+json": {
       "model_id": "f5353d3182ad45aaa4eaacc4faa4e50a",
       "version_major": 2,
       "version_minor": 0
      },
      "text/plain": [
       "tokenizer_config.json:   0%|          | 0.00/25.0 [00:00<?, ?B/s]"
      ]
     },
     "metadata": {},
     "output_type": "display_data"
    },
    {
     "data": {
      "application/vnd.jupyter.widget-view+json": {
       "model_id": "09720e81cf994befabd8474b9ca611d3",
       "version_major": 2,
       "version_minor": 0
      },
      "text/plain": [
       "sentencepiece.bpe.model:   0%|          | 0.00/5.07M [00:00<?, ?B/s]"
      ]
     },
     "metadata": {},
     "output_type": "display_data"
    },
    {
     "data": {
      "application/vnd.jupyter.widget-view+json": {
       "model_id": "f56ed4200407454db44c961933dc9e06",
       "version_major": 2,
       "version_minor": 0
      },
      "text/plain": [
       "tokenizer.json:   0%|          | 0.00/9.10M [00:00<?, ?B/s]"
      ]
     },
     "metadata": {},
     "output_type": "display_data"
    }
   ],
   "source": [
    "tokenizer = AutoTokenizer.from_pretrained(model_name)"
   ]
  },
  {
   "cell_type": "code",
   "execution_count": 10,
   "metadata": {},
   "outputs": [],
   "source": [
    "def exceed_max_length(content, tokenizer, max_length=512):\n",
    "    return len(tokenizer.encode(content)) > max_length"
   ]
  },
  {
   "cell_type": "code",
   "execution_count": 11,
   "metadata": {},
   "outputs": [
    {
     "name": "stderr",
     "output_type": "stream",
     "text": [
      "Token indices sequence length is longer than the specified maximum sequence length for this model (1033 > 512). Running this sequence through the model will result in indexing errors\n"
     ]
    },
    {
     "data": {
      "text/html": [
       "<div>\n",
       "<style scoped>\n",
       "    .dataframe tbody tr th:only-of-type {\n",
       "        vertical-align: middle;\n",
       "    }\n",
       "\n",
       "    .dataframe tbody tr th {\n",
       "        vertical-align: top;\n",
       "    }\n",
       "\n",
       "    .dataframe thead th {\n",
       "        text-align: right;\n",
       "    }\n",
       "</style>\n",
       "<table border=\"1\" class=\"dataframe\">\n",
       "  <thead>\n",
       "    <tr style=\"text-align: right;\">\n",
       "      <th></th>\n",
       "      <th>content</th>\n",
       "      <th>tags</th>\n",
       "    </tr>\n",
       "  </thead>\n",
       "  <tbody>\n",
       "    <tr>\n",
       "      <th>0</th>\n",
       "      <td>Bước vào trận đấu, Barcelona nhanh chóng tràn ...</td>\n",
       "      <td>La Liga,Sevilla,Olimpic Lluis Companys,Lewando...</td>\n",
       "    </tr>\n",
       "    <tr>\n",
       "      <th>1</th>\n",
       "      <td>Willian đi vào lịch sử bóng đá xứ samba. Với 1...</td>\n",
       "      <td>Estevao Willian,Neymar,giải VĐQG Brazil,Serie ...</td>\n",
       "    </tr>\n",
       "    <tr>\n",
       "      <th>2</th>\n",
       "      <td>Giải vô địch ná cao su thế giới năm 2024 đã di...</td>\n",
       "      <td>ná cao su,giải vô địch,giải Ba,Thượng Hải,vận ...</td>\n",
       "    </tr>\n",
       "    <tr>\n",
       "      <th>7</th>\n",
       "      <td>Giải đấu khởi tranh từ ngày 13/10 đến ngày 20/...</td>\n",
       "      <td>Trảng Bàng,thiếu niên,thị xã,cao thượng,Gia Lộ...</td>\n",
       "    </tr>\n",
       "    <tr>\n",
       "      <th>9</th>\n",
       "      <td>Giải vô địch Karate quốc gia lần thứ 33 năm 20...</td>\n",
       "      <td>Nguyễn Thị Bảo Ngọc,Hoàng Thị Mỹ Tâm,huy chươn...</td>\n",
       "    </tr>\n",
       "    <tr>\n",
       "      <th>...</th>\n",
       "      <td>...</td>\n",
       "      <td>...</td>\n",
       "    </tr>\n",
       "    <tr>\n",
       "      <th>97828</th>\n",
       "      <td>Ngày 16/8, tại Công an tỉnh Thái Bình, Bộ Công...</td>\n",
       "      <td>Trần Xuân Ánh,Công an tỉnh Thái Bình,giữ chức ...</td>\n",
       "    </tr>\n",
       "    <tr>\n",
       "      <th>97830</th>\n",
       "      <td>(từ ngày 1-10), lực lượng đã kiểm tra, xử phạt...</td>\n",
       "      <td>Trảng Bom,Công an huyện Trảng Bom,xử phạt,THPT...</td>\n",
       "    </tr>\n",
       "    <tr>\n",
       "      <th>97832</th>\n",
       "      <td>Thủ tướng Trung Quốc Lý Cường đang có chuyến t...</td>\n",
       "      <td>đà phát triển,Lý Cường,đối tác,quan hệ,năm,vốn...</td>\n",
       "    </tr>\n",
       "    <tr>\n",
       "      <th>97833</th>\n",
       "      <td>Các đoàn xuất quân “Ứng cứu thông tin, khắc ph...</td>\n",
       "      <td>VNPT Bình Dương,Yagi,bão,Bắc Giang,hậu quả,khô...</td>\n",
       "    </tr>\n",
       "    <tr>\n",
       "      <th>97839</th>\n",
       "      <td>Nhà chức trách xác định, Hoàng Văn Thảo có hàn...</td>\n",
       "      <td>Hoàng Văn Thảo,chạy án,Cục phó,giả danh,TP Hồ ...</td>\n",
       "    </tr>\n",
       "  </tbody>\n",
       "</table>\n",
       "<p>36200 rows × 2 columns</p>\n",
       "</div>"
      ],
      "text/plain": [
       "                                                 content  \\\n",
       "0      Bước vào trận đấu, Barcelona nhanh chóng tràn ...   \n",
       "1      Willian đi vào lịch sử bóng đá xứ samba. Với 1...   \n",
       "2      Giải vô địch ná cao su thế giới năm 2024 đã di...   \n",
       "7      Giải đấu khởi tranh từ ngày 13/10 đến ngày 20/...   \n",
       "9      Giải vô địch Karate quốc gia lần thứ 33 năm 20...   \n",
       "...                                                  ...   \n",
       "97828  Ngày 16/8, tại Công an tỉnh Thái Bình, Bộ Công...   \n",
       "97830  (từ ngày 1-10), lực lượng đã kiểm tra, xử phạt...   \n",
       "97832  Thủ tướng Trung Quốc Lý Cường đang có chuyến t...   \n",
       "97833  Các đoàn xuất quân “Ứng cứu thông tin, khắc ph...   \n",
       "97839  Nhà chức trách xác định, Hoàng Văn Thảo có hàn...   \n",
       "\n",
       "                                                    tags  \n",
       "0      La Liga,Sevilla,Olimpic Lluis Companys,Lewando...  \n",
       "1      Estevao Willian,Neymar,giải VĐQG Brazil,Serie ...  \n",
       "2      ná cao su,giải vô địch,giải Ba,Thượng Hải,vận ...  \n",
       "7      Trảng Bàng,thiếu niên,thị xã,cao thượng,Gia Lộ...  \n",
       "9      Nguyễn Thị Bảo Ngọc,Hoàng Thị Mỹ Tâm,huy chươn...  \n",
       "...                                                  ...  \n",
       "97828  Trần Xuân Ánh,Công an tỉnh Thái Bình,giữ chức ...  \n",
       "97830  Trảng Bom,Công an huyện Trảng Bom,xử phạt,THPT...  \n",
       "97832  đà phát triển,Lý Cường,đối tác,quan hệ,năm,vốn...  \n",
       "97833  VNPT Bình Dương,Yagi,bão,Bắc Giang,hậu quả,khô...  \n",
       "97839  Hoàng Văn Thảo,chạy án,Cục phó,giả danh,TP Hồ ...  \n",
       "\n",
       "[36200 rows x 2 columns]"
      ]
     },
     "execution_count": 11,
     "metadata": {},
     "output_type": "execute_result"
    }
   ],
   "source": [
    "# Remove rows if the content exceed the max length\n",
    "for i in range(len(data)):\n",
    "    if exceed_max_length(data.loc[i, \"content\"], tokenizer):\n",
    "        data = data.drop(i)\n",
    "\n",
    "data"
   ]
  },
  {
   "cell_type": "code",
   "execution_count": 12,
   "metadata": {},
   "outputs": [],
   "source": [
    "# Save the cleaned data\n",
    "data.to_csv(DATA_PATH+\"articles_training_xlm.tsv\", sep='\\t', index=False)"
   ]
  },
  {
   "cell_type": "code",
   "execution_count": null,
   "metadata": {},
   "outputs": [],
   "source": []
  }
 ],
 "metadata": {
  "kernelspec": {
   "display_name": "xal4food",
   "language": "python",
   "name": "python3"
  },
  "language_info": {
   "codemirror_mode": {
    "name": "ipython",
    "version": 3
   },
   "file_extension": ".py",
   "mimetype": "text/x-python",
   "name": "python",
   "nbconvert_exporter": "python",
   "pygments_lexer": "ipython3",
   "version": "3.11.10"
  }
 },
 "nbformat": 4,
 "nbformat_minor": 2
}
