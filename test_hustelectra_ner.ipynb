{
 "cells": [
  {
   "cell_type": "code",
   "execution_count": 1,
   "metadata": {},
   "outputs": [
    {
     "name": "stderr",
     "output_type": "stream",
     "text": [
      "Asking to truncate to max_length but no maximum length is provided and the model has no predefined maximum length. Default to no truncation.\n"
     ]
    },
    {
     "name": "stdout",
     "output_type": "stream",
     "text": [
      "[{'entity': 'B-ORGANIZATION', 'score': 0.99933404, 'index': 6, 'word': 'Barcelona', 'start': 19, 'end': 28}, {'entity': 'B-ORGANIZATION', 'score': 0.9992932, 'index': 22, 'word': 'Sevilla', 'start': 101, 'end': 108}, {'entity': 'B-PERSON', 'score': 0.99948126, 'index': 31, 'word': 'Rap', 'start': 136, 'end': 139}, {'entity': 'I-PERSON', 'score': 0.99870324, 'index': 32, 'word': '##hinh', 'start': 139, 'end': 143}, {'entity': 'I-PERSON', 'score': 0.9991743, 'index': 33, 'word': '##a', 'start': 143, 'end': 144}, {'entity': 'B-ORGANIZATION', 'score': 0.9993406, 'index': 45, 'word': 'Barcelona', 'start': 192, 'end': 201}, {'entity': 'B-PERSON', 'score': 0.99948275, 'index': 56, 'word': 'Lewandowski', 'start': 237, 'end': 248}, {'entity': 'B-ORGANIZATION', 'score': 0.9993654, 'index': 64, 'word': 'Barcelona', 'start': 273, 'end': 282}, {'entity': 'B-PERSON', 'score': 0.9984067, 'index': 70, 'word': 'Pe', 'start': 297, 'end': 299}, {'entity': 'I-PERSON', 'score': 0.998075, 'index': 71, 'word': '##dri', 'start': 299, 'end': 302}, {'entity': 'B-PERSON', 'score': 0.9994547, 'index': 85, 'word': 'Lewandowski', 'start': 358, 'end': 369}, {'entity': 'B-ORGANIZATION', 'score': 0.99935573, 'index': 109, 'word': 'Barcelona', 'start': 453, 'end': 462}, {'entity': 'B-ORGANIZATION', 'score': 0.99930763, 'index': 119, 'word': 'Barcelona', 'start': 494, 'end': 503}, {'entity': 'B-ORGANIZATION', 'score': 0.9992367, 'index': 127, 'word': 'Sevilla', 'start': 538, 'end': 545}, {'entity': 'B-LOCATION', 'score': 0.99623173, 'index': 158, 'word': 'sân', 'start': 664, 'end': 667}, {'entity': 'I-LOCATION', 'score': 0.99883384, 'index': 159, 'word': 'Olimpic', 'start': 668, 'end': 675}, {'entity': 'I-LOCATION', 'score': 0.99883205, 'index': 160, 'word': 'Ll', 'start': 676, 'end': 678}, {'entity': 'I-LOCATION', 'score': 0.99446493, 'index': 161, 'word': '##uis', 'start': 678, 'end': 681}, {'entity': 'I-LOCATION', 'score': 0.9967458, 'index': 162, 'word': 'Company', 'start': 682, 'end': 689}, {'entity': 'I-LOCATION', 'score': 0.9967788, 'index': 163, 'word': '##s', 'start': 689, 'end': 690}, {'entity': 'B-ORGANIZATION', 'score': 0.99935275, 'index': 181, 'word': 'Barcelona', 'start': 763, 'end': 772}, {'entity': 'B-PERSON', 'score': 0.99954695, 'index': 183, 'word': 'Torre', 'start': 776, 'end': 781}, {'entity': 'B-PERSON', 'score': 0.99931407, 'index': 196, 'word': 'I', 'start': 828, 'end': 829}, {'entity': 'I-PERSON', 'score': 0.99711967, 'index': 197, 'word': '##dum', 'start': 829, 'end': 832}, {'entity': 'I-PERSON', 'score': 0.9838575, 'index': 198, 'word': '##bo', 'start': 832, 'end': 834}, {'entity': 'B-ORGANIZATION', 'score': 0.99936455, 'index': 201, 'word': 'Sevilla', 'start': 844, 'end': 851}, {'entity': 'B-ORGANIZATION', 'score': 0.99929607, 'index': 206, 'word': 'Barca', 'start': 865, 'end': 870}, {'entity': 'B-ORGANIZATION', 'score': 0.9960341, 'index': 208, 'word': 'Sev', 'start': 877, 'end': 880}, {'entity': 'I-ORGANIZATION', 'score': 0.97409195, 'index': 209, 'word': '##ilal', 'start': 880, 'end': 884}, {'entity': 'B-PERSON', 'score': 0.9993641, 'index': 224, 'word': 'Hans', 'start': 927, 'end': 931}, {'entity': 'I-PERSON', 'score': 0.9974957, 'index': 225, 'word': '##i', 'start': 931, 'end': 932}, {'entity': 'I-PERSON', 'score': 0.9994783, 'index': 226, 'word': 'Fl', 'start': 933, 'end': 935}, {'entity': 'I-PERSON', 'score': 0.9988644, 'index': 227, 'word': '##ick', 'start': 935, 'end': 938}, {'entity': 'B-ORGANIZATION', 'score': 0.99927527, 'index': 251, 'word': 'Real', 'start': 1035, 'end': 1039}, {'entity': 'I-ORGANIZATION', 'score': 0.9990515, 'index': 252, 'word': 'Madrid', 'start': 1040, 'end': 1046}]\n"
     ]
    }
   ],
   "source": [
    "from transformers import AutoTokenizer, AutoModelForTokenClassification, AutoModel\n",
    "from transformers import pipeline\n",
    "\n",
    "tokenizer = AutoTokenizer.from_pretrained(\n",
    "\t\"NlpHUST/ner-vietnamese-electra-base\", truncation=True, padding=False, max_length=256)\n",
    "model = AutoModelForTokenClassification.from_pretrained(\n",
    "\t\"NlpHUST/ner-vietnamese-electra-base\")\n",
    "\n",
    "nlp = pipeline(\"ner\", model=model, tokenizer=tokenizer, device=\"cuda\")\n",
    "example = \"Bước vào trận đấu, Barcelona nhanh chóng tràn lên tấn công nhưng vấp phải sự kháng cự quyết liệt của Sevilla. Bước ngoặt đến ở phút 22, Raphinha bị phạm lỗi trong vòng cấm và trọng tài đã cho Barcelona hưởng quả phạt đền. Trên chấm 11m, Lewandowski đã ghi bàn mở tỷ số cho Barcelona. Đến phút 28, Pedri đã có bàn nhân đôi cách biệt cho đội chủ nhà trước khi Lewandowski hoàn tất cú đúp cho riêng mình ở phút 39. Hiệp 1 khép lại với tỉ số 3-0 nghiêng về Barcelona. Sang hiệp 2, các chân sút của Barcelona liên tiếp bắn phá khung thành của Sevilla nhưng rất tiếc đều rơi vào thế việt vị. Tuy nhiên, chỉ trong vòng ít phút từ phút 82 đến 88, các khán giả có mặt trên sân Olimpic Lluis Companys đã được chứng kiến tới 3 bàn thắng. Cầu thủ vào sân thay người bên phía Barcelona là Torre lập cú đúp, xen giữa là bàn thắng danh dự của Idumbo bên phía Sevilla. Chung cuộc, Barca thắng Sevilal với tỷ số 5-1. Như vậy, đoàn quân của HLV Hansi Flick củng cố vị trí dẫn đầu trên bảng xếp hạng La Liga, duy trì khoảng cách 3 điểm với đại kình địch Real Madrid. \"\n",
    "\n",
    "ner_results = nlp(example)\n",
    "print(ner_results)"
   ]
  },
  {
   "cell_type": "code",
   "execution_count": 2,
   "metadata": {},
   "outputs": [
    {
     "name": "stdout",
     "output_type": "stream",
     "text": [
      "[{'entity': 'B-ORGANIZATION', 'score': 0.99933404, 'index': 6, 'word': 'Barcelona', 'start': 19, 'end': 28}, {'entity': 'B-ORGANIZATION', 'score': 0.9992932, 'index': 22, 'word': 'Sevilla', 'start': 101, 'end': 108}, {'entity': 'B-PERSON', 'score': 0.99948126, 'index': 31, 'word': 'Rap', 'start': 136, 'end': 139}, {'entity': 'I-PERSON', 'score': 0.99870324, 'index': 32, 'word': '##hinh', 'start': 139, 'end': 143}, {'entity': 'I-PERSON', 'score': 0.9991743, 'index': 33, 'word': '##a', 'start': 143, 'end': 144}, {'entity': 'B-ORGANIZATION', 'score': 0.9993406, 'index': 45, 'word': 'Barcelona', 'start': 192, 'end': 201}, {'entity': 'B-PERSON', 'score': 0.99948275, 'index': 56, 'word': 'Lewandowski', 'start': 237, 'end': 248}, {'entity': 'B-ORGANIZATION', 'score': 0.9993654, 'index': 64, 'word': 'Barcelona', 'start': 273, 'end': 282}, {'entity': 'B-PERSON', 'score': 0.9984067, 'index': 70, 'word': 'Pe', 'start': 297, 'end': 299}, {'entity': 'I-PERSON', 'score': 0.998075, 'index': 71, 'word': '##dri', 'start': 299, 'end': 302}, {'entity': 'B-PERSON', 'score': 0.9994547, 'index': 85, 'word': 'Lewandowski', 'start': 358, 'end': 369}, {'entity': 'B-ORGANIZATION', 'score': 0.99935573, 'index': 109, 'word': 'Barcelona', 'start': 453, 'end': 462}, {'entity': 'B-ORGANIZATION', 'score': 0.99930763, 'index': 119, 'word': 'Barcelona', 'start': 494, 'end': 503}, {'entity': 'B-ORGANIZATION', 'score': 0.9992367, 'index': 127, 'word': 'Sevilla', 'start': 538, 'end': 545}, {'entity': 'B-LOCATION', 'score': 0.99623173, 'index': 158, 'word': 'sân', 'start': 664, 'end': 667}, {'entity': 'I-LOCATION', 'score': 0.99883384, 'index': 159, 'word': 'Olimpic', 'start': 668, 'end': 675}, {'entity': 'I-LOCATION', 'score': 0.99883205, 'index': 160, 'word': 'Ll', 'start': 676, 'end': 678}, {'entity': 'I-LOCATION', 'score': 0.99446493, 'index': 161, 'word': '##uis', 'start': 678, 'end': 681}, {'entity': 'I-LOCATION', 'score': 0.9967458, 'index': 162, 'word': 'Company', 'start': 682, 'end': 689}, {'entity': 'I-LOCATION', 'score': 0.9967788, 'index': 163, 'word': '##s', 'start': 689, 'end': 690}, {'entity': 'B-ORGANIZATION', 'score': 0.99935275, 'index': 181, 'word': 'Barcelona', 'start': 763, 'end': 772}, {'entity': 'B-PERSON', 'score': 0.99954695, 'index': 183, 'word': 'Torre', 'start': 776, 'end': 781}, {'entity': 'B-PERSON', 'score': 0.99931407, 'index': 196, 'word': 'I', 'start': 828, 'end': 829}, {'entity': 'I-PERSON', 'score': 0.99711967, 'index': 197, 'word': '##dum', 'start': 829, 'end': 832}, {'entity': 'I-PERSON', 'score': 0.9838575, 'index': 198, 'word': '##bo', 'start': 832, 'end': 834}, {'entity': 'B-ORGANIZATION', 'score': 0.99936455, 'index': 201, 'word': 'Sevilla', 'start': 844, 'end': 851}, {'entity': 'B-ORGANIZATION', 'score': 0.99929607, 'index': 206, 'word': 'Barca', 'start': 865, 'end': 870}, {'entity': 'B-ORGANIZATION', 'score': 0.9960341, 'index': 208, 'word': 'Sev', 'start': 877, 'end': 880}, {'entity': 'I-ORGANIZATION', 'score': 0.97409195, 'index': 209, 'word': '##ilal', 'start': 880, 'end': 884}, {'entity': 'B-PERSON', 'score': 0.9993641, 'index': 224, 'word': 'Hans', 'start': 927, 'end': 931}, {'entity': 'I-PERSON', 'score': 0.9974957, 'index': 225, 'word': '##i', 'start': 931, 'end': 932}, {'entity': 'I-PERSON', 'score': 0.9994783, 'index': 226, 'word': 'Fl', 'start': 933, 'end': 935}, {'entity': 'I-PERSON', 'score': 0.9988644, 'index': 227, 'word': '##ick', 'start': 935, 'end': 938}, {'entity': 'B-ORGANIZATION', 'score': 0.99927527, 'index': 251, 'word': 'Real', 'start': 1035, 'end': 1039}, {'entity': 'I-ORGANIZATION', 'score': 0.9990515, 'index': 252, 'word': 'Madrid', 'start': 1040, 'end': 1046}]\n",
      "{'Sevilla', 'sân Olimpic Lluis Companys', 'Raphinha', 'Torredumbo', 'Pedri', 'Barca', 'Real Madrid', 'Hansi Flick', 'Sevilal', 'Lewandowski', 'Barcelona'}\n"
     ]
    }
   ],
   "source": [
    "# Sort ner_results by entry['start']\n",
    "ner_results.sort(key=lambda x: x['start'])\n",
    "print(ner_results)\n",
    "\n",
    "\n",
    "def find_continous_keyword(ner_results):\n",
    "\tresults = []\n",
    "\tcur = \"\"\n",
    "\tlast_idx = -1\n",
    "\tfor entry in ner_results:\n",
    "\t\tif (cur == \"\"):\n",
    "\t\t\tcur += entry['word']\n",
    "\t\t\tlast_idx = entry['end']\n",
    "\t\telse:\n",
    "\t\t\tif (entry['start'] == (last_idx + 1)):\n",
    "\t\t\t\tcur += \" \" + entry['word']\n",
    "\t\t\t\tlast_idx = entry['end']\n",
    "\t\t\telse:\n",
    "\t\t\t\tresults.append(cur)\n",
    "\t\t\t\tcur = entry['word']\n",
    "\t\t\t\tlast_idx = entry['end']\n",
    "\tresults.append(cur)\n",
    "\tfor i in results:\n",
    "\t\tif ('.' in i or len(i) < 2):\n",
    "\t\t\tresults.remove(i)\n",
    "\treturn results\n",
    "\n",
    "\n",
    "def process_subword(ctn_kw: list):\n",
    "\tresults = []\n",
    "\tfor kw in ctn_kw:\n",
    "\t\tif ('#' not in kw):\n",
    "\t\t\tresults.append(kw)\n",
    "\t\telse:\n",
    "\t\t\tif (len(results) == 0):\n",
    "\t\t\t\tresults.append(kw.replace('#', ''))\n",
    "\t\t\telse:\n",
    "\t\t\t\tresults[-1] += kw.replace('#', '')\n",
    "\tfor i in results:\n",
    "\t\tif ('.' in i or len(i) < 2):\n",
    "\t\t\tresults.remove(i)\n",
    "\treturn set(results)\n",
    "\n",
    "\n",
    "print(process_subword(find_continous_keyword(ner_results)))"
   ]
  },
  {
   "cell_type": "code",
   "execution_count": 3,
   "metadata": {},
   "outputs": [],
   "source": [
    "def get_ner_results(text: str):\n",
    "\tner_results = nlp(text)\n",
    "\tner_results = [i for i in ner_results if i['score'] >= 0.95]\n",
    "\tner_results.sort(key=lambda x: x['start'])\n",
    "\treturn process_subword(find_continous_keyword(ner_results))"
   ]
  },
  {
   "cell_type": "markdown",
   "metadata": {},
   "source": [
    "### Function to process long text"
   ]
  },
  {
   "cell_type": "code",
   "execution_count": 4,
   "metadata": {},
   "outputs": [],
   "source": [
    "def process_long_text(text: str, tokenizer, max_length=510):\n",
    "    # Check if text needs splitting\n",
    "    tokens = tokenizer(text, return_tensors=\"pt\", truncation=True)\n",
    "    input_ids = tokens['input_ids'][0]\n",
    "\n",
    "    if len(input_ids) <= max_length:\n",
    "        return get_ner_results(text)\n",
    "\n",
    "    # Split into sentences\n",
    "    sentences = text.split('.')\n",
    "    sentences = [s.strip() + '.' for s in sentences if s.strip()]\n",
    "\n",
    "    # Combine sentences into chunks\n",
    "    chunks = []\n",
    "    current_chunk = []\n",
    "    current_length = 0\n",
    "\n",
    "    for sentence in sentences:\n",
    "        # Check length with new sentence\n",
    "        test_text = ' '.join(current_chunk + [sentence])\n",
    "        test_tokens = tokenizer(test_text, return_tensors=\"pt\")\n",
    "        test_length = len(test_tokens['input_ids'][0])\n",
    "        if current_length <= max_length:\n",
    "            current_chunk.append(sentence)\n",
    "            current_length += test_length\n",
    "        else:\n",
    "            # Save current chunk and start new one\n",
    "            if current_chunk:\n",
    "                chunks.append(' '.join(current_chunk))\n",
    "            current_chunk = [sentence]\n",
    "            current_length = len(\n",
    "                tokenizer(sentence, return_tensors=\"pt\")['input_ids'][0])\n",
    "\n",
    "    # Add final chunk\n",
    "    if current_chunk:\n",
    "        chunks.append(' '.join(current_chunk))\n",
    "\n",
    "    # Process chunks and combine results\n",
    "    all_entities = set()\n",
    "    for chunk in chunks:\n",
    "        chunk_entities = get_ner_results(chunk)\n",
    "        all_entities.update(chunk_entities)\n",
    "\n",
    "    return all_entities"
   ]
  },
  {
   "cell_type": "code",
   "execution_count": 5,
   "metadata": {},
   "outputs": [
    {
     "name": "stdout",
     "output_type": "stream",
     "text": [
      "{'Sevilla', 'sân Olimpic Lluis Companys', 'Raphinha', 'Torredumbo', 'Pedri', 'Barca', 'Real Madrid', 'Hansi Flick', 'Sevilal', 'Lewandowski', 'Barcelona'}\n"
     ]
    }
   ],
   "source": [
    "print(process_long_text(example, tokenizer))"
   ]
  },
  {
   "cell_type": "markdown",
   "metadata": {},
   "source": [
    "### Read data"
   ]
  },
  {
   "cell_type": "code",
   "execution_count": 6,
   "metadata": {},
   "outputs": [
    {
     "data": {
      "text/html": [
       "<div>\n",
       "<style scoped>\n",
       "    .dataframe tbody tr th:only-of-type {\n",
       "        vertical-align: middle;\n",
       "    }\n",
       "\n",
       "    .dataframe tbody tr th {\n",
       "        vertical-align: top;\n",
       "    }\n",
       "\n",
       "    .dataframe thead th {\n",
       "        text-align: right;\n",
       "    }\n",
       "</style>\n",
       "<table border=\"1\" class=\"dataframe\">\n",
       "  <thead>\n",
       "    <tr style=\"text-align: right;\">\n",
       "      <th></th>\n",
       "      <th>content</th>\n",
       "      <th>tags</th>\n",
       "    </tr>\n",
       "  </thead>\n",
       "  <tbody>\n",
       "    <tr>\n",
       "      <th>0</th>\n",
       "      <td>Bước vào trận đấu, Barcelona nhanh chóng tràn ...</td>\n",
       "      <td>La Liga,Sevilla,Olimpic Lluis Companys,đè bẹp,...</td>\n",
       "    </tr>\n",
       "    <tr>\n",
       "      <th>1</th>\n",
       "      <td>Willian đi vào lịch sử bóng đá xứ samba. Với 1...</td>\n",
       "      <td>Estevao Willian,Neymar,giải VĐQG Brazil,Serie ...</td>\n",
       "    </tr>\n",
       "    <tr>\n",
       "      <th>2</th>\n",
       "      <td>Giải vô địch ná cao su thế giới năm 2024 đã di...</td>\n",
       "      <td>ná cao su,giải vô địch,giải Ba,Thượng Hải,đồng...</td>\n",
       "    </tr>\n",
       "    <tr>\n",
       "      <th>3</th>\n",
       "      <td>Mục tiêu lớn Phó Thủ tướng Chính phủ Lê Thành ...</td>\n",
       "      <td>đăng cai,Đại hội Thể thao châu Á,ASIAD,thể dục...</td>\n",
       "    </tr>\n",
       "    <tr>\n",
       "      <th>4</th>\n",
       "      <td>Ngày 20-10, Giải bơi và lặn vô địch quốc gia n...</td>\n",
       "      <td>toàn đoàn,lặn,Vũ Đặng Nhật Nam,Nguyễn Lê Truyề...</td>\n",
       "    </tr>\n",
       "    <tr>\n",
       "      <th>...</th>\n",
       "      <td>...</td>\n",
       "      <td>...</td>\n",
       "    </tr>\n",
       "    <tr>\n",
       "      <th>99845</th>\n",
       "      <td>Tạo động lực phát triển nhanh và bền vững của ...</td>\n",
       "      <td>Kỳ họp,Quốc hội,tư duy,Trần Thanh Mẫn,nguồn lự...</td>\n",
       "    </tr>\n",
       "    <tr>\n",
       "      <th>99846</th>\n",
       "      <td>Theo số liệu của Tổng cục Hải quan, trong 9 th...</td>\n",
       "      <td>cao su tự nhiên,cao su,ANRPC,Chứng khoán MB,nư...</td>\n",
       "    </tr>\n",
       "    <tr>\n",
       "      <th>99847</th>\n",
       "      <td>Mong có chiến lược ứng phó hiệu quả với thiên ...</td>\n",
       "      <td>Kỳ họp thứ Tám,Trần Thanh Mẫn,ngắn gọn,Chủ tịc...</td>\n",
       "    </tr>\n",
       "    <tr>\n",
       "      <th>99848</th>\n",
       "      <td>Nhà chức trách xác định, Hoàng Văn Thảo có hàn...</td>\n",
       "      <td>Hoàng Văn Thảo,chạy án,Cục phó,giả danh,TP Hồ ...</td>\n",
       "    </tr>\n",
       "    <tr>\n",
       "      <th>99849</th>\n",
       "      <td>Trong 6 tháng đầu năm 2024, Sở Y tế thành phố ...</td>\n",
       "      <td>đấu thầu,vật tư,hóa chất,thiết bị y tế,thông t...</td>\n",
       "    </tr>\n",
       "  </tbody>\n",
       "</table>\n",
       "<p>99850 rows × 2 columns</p>\n",
       "</div>"
      ],
      "text/plain": [
       "                                                 content  \\\n",
       "0      Bước vào trận đấu, Barcelona nhanh chóng tràn ...   \n",
       "1      Willian đi vào lịch sử bóng đá xứ samba. Với 1...   \n",
       "2      Giải vô địch ná cao su thế giới năm 2024 đã di...   \n",
       "3      Mục tiêu lớn Phó Thủ tướng Chính phủ Lê Thành ...   \n",
       "4      Ngày 20-10, Giải bơi và lặn vô địch quốc gia n...   \n",
       "...                                                  ...   \n",
       "99845  Tạo động lực phát triển nhanh và bền vững của ...   \n",
       "99846  Theo số liệu của Tổng cục Hải quan, trong 9 th...   \n",
       "99847  Mong có chiến lược ứng phó hiệu quả với thiên ...   \n",
       "99848  Nhà chức trách xác định, Hoàng Văn Thảo có hàn...   \n",
       "99849  Trong 6 tháng đầu năm 2024, Sở Y tế thành phố ...   \n",
       "\n",
       "                                                    tags  \n",
       "0      La Liga,Sevilla,Olimpic Lluis Companys,đè bẹp,...  \n",
       "1      Estevao Willian,Neymar,giải VĐQG Brazil,Serie ...  \n",
       "2      ná cao su,giải vô địch,giải Ba,Thượng Hải,đồng...  \n",
       "3      đăng cai,Đại hội Thể thao châu Á,ASIAD,thể dục...  \n",
       "4      toàn đoàn,lặn,Vũ Đặng Nhật Nam,Nguyễn Lê Truyề...  \n",
       "...                                                  ...  \n",
       "99845  Kỳ họp,Quốc hội,tư duy,Trần Thanh Mẫn,nguồn lự...  \n",
       "99846  cao su tự nhiên,cao su,ANRPC,Chứng khoán MB,nư...  \n",
       "99847  Kỳ họp thứ Tám,Trần Thanh Mẫn,ngắn gọn,Chủ tịc...  \n",
       "99848  Hoàng Văn Thảo,chạy án,Cục phó,giả danh,TP Hồ ...  \n",
       "99849  đấu thầu,vật tư,hóa chất,thiết bị y tế,thông t...  \n",
       "\n",
       "[99850 rows x 2 columns]"
      ]
     },
     "execution_count": 6,
     "metadata": {},
     "output_type": "execute_result"
    }
   ],
   "source": [
    "import pandas as pd\n",
    "import os\n",
    "from dotenv import load_dotenv\n",
    "\n",
    "load_dotenv()\n",
    "DATA_PATH = os.getenv(\"DATA_PATH\")\n",
    "\n",
    "data = pd.read_csv(DATA_PATH+\"articles_training.tsv\", sep='\\t')\n",
    "data"
   ]
  },
  {
   "cell_type": "code",
   "execution_count": 7,
   "metadata": {},
   "outputs": [
    {
     "name": "stdout",
     "output_type": "stream",
     "text": [
      "Đường về Xứ Phật - Tập 6 (Phần 3/3) LẤY ÂN BÁO OÁN LỜI PHẬT DẠY “Hận thù diệt hận thù Đời này không thể có Từ bi diệt hận thù Là định luật thiên thu”. “Và người khác không biết Chúng ta đây bị hại Chỗ ấy, ai hiểu được Tranh luận được lắng êm”. (Kinh Pháp Cú: I.Yamakavagga.Phẩm Song Yếu) CHÚ GIẢI: Bài kệ thứ năm hai câu đầu là một tà tư duy giúp cho chúng ta hiểu rõ nghĩa lý sống của cuộc đời: Không thể lấy hận thù diệt hận thù được. “Hận thù diệt hận thù Đời này không thể có” Lời dạy này là một chân lý không thể ai thay đổi được. Bởi vì cuộc đời này không thể lấy hận thù diệt hận thù được. Mà chỉ có lòng thương yêu của chúng ta mới diệt được hận thù. Hai câu dưới đây mới thật sự là Chánh tư duy: “Từ bi diệt hận thù Là định luật thiên thu” Sự tư duy này giúp cho chúng ta thấu rõ định luật bất di bất dịch của loài người, duy nhất chỉ có lòng thương yêu mới diệt được hận thù. Khi chúng ta tư duy suy nghĩ như vậy, giúp cho chúng ta lớn mạnh trong nền đạo đức nhân bản - nhân quả. Một bài kệ trong kinh Pháp Cú là một viên gạch xây tòa lâu đài đạo đức nhân bản làm người. Mỗi một viên gạch Pháp Cú sẽ làm tăng trưởng tri kiến giải thoát trong ta, sẽ giúp đời sống của chúng ta gắn chặt vào nền đạo đức nhân bản - nhân quả. Hỡi các bạn thân thương! Các bạn hãy tu tập, rèn luyện tâm mình theo kinh Pháp Cú, thì cuộc sống đạo đức của các bạn càng ngày càng thêm lớn mạnh. Và đời sống của các bạn tràn đầy sự an vui và hạnh phúc. Các bạn có tin chăng? Tin thì có lợi cho các bạn, bằng không tin thì thôi, chứ chúng tôi không có quyền cám dỗ và lôi cuốn các bạn. Chúng tôi chỉ nói một sự thật để may ra ai có hữu duyên gặp pháp bảo này sẽ giúp họ có một cuộc sống an lành thì chúng tôi cũng mãn nguyện lắm rồi. Nhờ có pháp như thế mà sống giữa các ác pháp, tâm bất động. Vì chúng ta đã biết hận thù không thể diệt hận thù mà chỉ có lòng yêu thương mới được diệt hận thù. Đến bài kệ thứ sáu: “Và người khác không biết Chúng ta đây bị hại” Một người dùng tâm nhẫn nhục, khởi lòng thương yêu người hung dữ ức hiếp, chửi mắng, làm hại mình, thì người đời không hiểu cho rằng: chúng ta là kẻ hèn nhát, không dám ăn thua với kẻ kia. Và vì sự nhẫn nhịn như thế mà kẻ dữ hung ác kia sẽ lẫy lừng, ăn hiếp, lấn lướt chúng ta nữa. Và nếu chúng ta ăn thua đủ với kẻ hung dữ thì như vậy làm sao gọi: “Từ bi diệt hận thù”. Chính sự nhẫn nhục và lòng yêu thương đó mới gọi là “Từ Bi diệt hận thù”. Xin thưa cùng các bạn! Những điều suy nghĩ trên đây rất đúng. Vì đã nhẫn nhịn mà còn khởi tâm thương yêu. Nhất là chúng ta còn biết chịu thua rồi chạy. Do đó, người ấy có hung ác đến bao nhiêu, họ cũng không thể hại ta được. Vì chúng ta biết nhẫn và biết thương yêu, thì hành động thân, miệng, ý của chúng ta không cho phép chúng ta làm cho người kia tức giận hơn nữa. Vì thế, cơn sân hận của họ sẽ được lắng êm. Người ta hiểu lầm khi “lấy từ bi diệt hận thù” không có nghĩa là chịu thua, không có nghĩa là hèn nhát. Mà có nghĩa là biết sống, sống một đời sống đạo đức cao thượng tránh không làm khổ mình, khổ người. Đó mới xứng đáng là đệ tử của Phật, của người thọ trì kinh Pháp Cú. Thời nay phần nhiều người ta đọc kinh Pháp Cú thấy nó rất hay, nhưng chẳng mấy ai biết sống như thế nào cho đúng nghĩa của nó. Vì thế, kinh Pháp Cú cũng chỉ giống như những cuốn kinh sách khác với một số ngôn ngữ răn nhắc làm điều thiện, chứ chưa ai biết thực hành như thế nào để sống một đời sống đạo đức và có thể đi xa hơn nữa là tu tập vô lậu hoàn toàn chứng quả A La Hán. Nếu những ai có kinh nghiệm biết rõ thì kinh Pháp Cú có những pháp hành tu tập từ căn bản đến nhập các định và thực hiện Tam Minh, chứng quả A La Hán. Những bài kinh Pháp Cú đầu tiên này là dạy chúng ta tu tập ly dục ly ác pháp. Để sống một đời sống đạo đức nhân bản - nhân quả, kế đến những bài kinh khác dạy chúng ta nhập định và thể hiện Tam Minh một cách cụ thể rõ ràng, xin các bạn vui lòng đọc tiếp những bài kinh sau này. Từ xưa đến nay, không có người tu chứng nên không triển khai được kinh này thành một giáo trình tu tập của đạo Phật. Kinh này dạy đạo đức rất cụ thể và thực tế. Bắt đầu học là có pháp thực hành ngay liền để tâm được giải thoát an vui và hạnh phúc. Từ chỗ “Từ bi diệt hận thù” người ta đọc tới đây chỉ thấy nó là một lý thuyết suông của ngôn ngữ Phật giáo. Nhưng Sự thật không phải vậy: “Từ bi diệt hận thù” là pháp môn tu nhẫn nhục với tâm hồn buông xả. Muốn buông xả được thì phải khởi lòng thương yêu người hận thù mình. Khởi lòng yêu thương tức là tâm từ bi, chỉ có tâm từ bi mới nhẫn nhục mà không bị ức chế tâm. Từ bi là pháp môn chế ngự tâm, hàng phục tâm. Từ bi là pháp môn Tứ Vô Lượng Tâm. Tứ Vô Lượng Tâm gồm có: từ, bi, hỷ, xả. Nếu muốn biết rõ tu tập pháp này thì hãy đọc “Hành Thập Thiện và Tứ Vô Lượng Tâm”. Tại sao lại phải thương yêu người hận thù với mình? Tại vì người hận thù mình là người đang đau khổ nhất, người đang ở trong ác pháp. Biết người đang đau khổ mà ta lại làm cho họ đau khổ hơn thì ta đâu phải là con người. Phải không hỡi các bạn? Chỉ là một con thú mới không biết điều này; mới tức giận kẻ chửi mình. Nếu oán ghét người chửi mình, từ đó hận thù chồng lên hận thù. Bài kinh thứ 6, “Chỗ ấy ai hiểu được” Khi một người tu hạnh nhẫn nhục biết thương yêu và tha thứ cho kẻ khác, thì khó có người khác nhận ra được điều này. Người ta chỉ thấy người nhẫn nhục là người hèn nhát, dường như người ấy sẽ bị hại, bị người khác lấn lướt, nên kinh dạy: “Mà người khác không biết” cho người nhẫn nhục bị hại, bị chà đạp: \"Chúng ta đây bị hại\" Người có hạnh nhẫn nhục, có lòng thương yêu thì chuyện to trở thành nhỏ, chuyện nhỏ được lắng êm như không có chuyện gì xảy ra, nên kinh dạy: “Chỗ ấy ai hiểu được Tranh luận được lắng êm” Tóm lại, bài kệ thứ 3 và thứ 5, là lời của đức Phật dạy về pháp ngăn ác pháp. Bài kệ thứ 4 và thứ 6 là dạy về pháp diệt ác pháp. Ai biết rõ như vậy thì ác pháp không xâm chiếm tâm mình được. Khi áp dụng vào pháp ngăn và pháp diệt ác pháp này, thì phải dùng pháp như lý tác ý, pháp quán vô lậu trong Chánh tư duy, còn diệt ác pháp thì phải dùng Định Vô Lậu tư duy quán xét để xả tâm khiến cho ác pháp bị diệt mất không còn tác dụng vào thân, tâm mình được nữa. PHÒNG HỘ SÁU CĂN LỜI PHẬT DẠY “Ai sống theo dục lạc Không nhiếp hộ các căn Ăn uống thiếu tiết độ Biếng nhác, chẳng tinh cần Dễ bị ma nhiếp phục Như gió lay cây yếu”. “Ai sống quán bất tịnh Khéo hộ trì các căn Ăn uống có tiết độ Có lòng tin, tinh cần Ma không uy hiếp được Như núi đá trước gió”. (Kinh Pháp Cú: I.Yamakavagga.Phẩm Song Yếu) (274) CHÚ GIẢI: Bài kệ thứ bảy là pháp môn dạy giữ gìn sáu căn. Câu kệ đầu dạy: “Ai sống theo dục lạc” Nghĩa là người tu theo đạo Phật thì không nên sống theo dục lạc. Vì dục lạc ở đời dễ cám dỗ con người đi vào đường sa đọa, đắm nhiễm ác pháp khiến cho đời người phải chịu nhiều thứ khổ đau. Cho nên, sống không theo dục lạc là sống không bị ác pháp chi phối. Sống không bị ác pháp chi phối, tức là sống ly dục ly ác pháp. Sống không theo dục lạc là sống Đạo, sống thoát khổ; sống không theo dục lạc là sống đạo đức không làm khổ mình, khổ người; sống không theo dục lạc là sống ly dục ly ác pháp; sống không theo dục lạc là sống đời Thánh hạnh; sống không theo dục lạc là sống tại thế gian mà thân tâm ở cảnh giới Niết Bàn. Cho nên, ai sống theo dục lạc là sống trong ác pháp; sống trong đau khổ; sống theo dục lạc tưởng là hạnh phúc, nhưng chính thật là khổ đau; sống theo dục lạc là sống không ly dục ly ác pháp. Người ấy dù muốn tu tập thiền định thì chẳng bao giờ có thiền định; sống theo dục lạc là đời sống không bao giờ có đạo đức làm người đối với chính mình, đừng nói chi có đạo đức đến người khác. Bài bảy câu 2, “Không nhiếp hộ sáu căn”. Câu kệ này Phật dạy: Người tu hành không nhiếp hộ sáu căn, để 6 căn rong ruổi theo sáu trần thì còn gì là ý nghĩa của người tu giải thoát. Bởi sáu căn tiếp xúc sáu trần sanh ra sáu thức. Do tiếp xúc sáu trần mới có dục (Năm dục trưởng dưỡng). Có dục thì dục mới đưa con người vào ác pháp, vào ác pháp thì mới chịu nhiều khổ đau. Cho nên, trên bước đường tu tập theo đạo Phật thì sự nhiếp hộ 6 căn là vấn đề quan trọng và cũng là hàng đầu trong pháp môn tu tập của Bát Chánh Đạo: Chánh Kiến, Chánh Tư Duy. Nhiếp hộ sáu căn có nghĩa là giữ gìn mắt, tai, mũi, miệng, thân, ý, đừng để cho chúng chạy theo sáu trần. Chúng chạy theo sáu trần tức là tâm phóng dật. Ví dụ: Các bạn tu hành mà thích trò chuyện, tiếp duyên thì đó là các bạn đã tu sai, tu như vậy khó ly dục ly ác pháp. Trước khi bạn chưa tu, thì bạn nên nghiên cứu, học hiểu nghe băng, những điều cần thiết để thấu suốt đường tu của bạn. Còn nếu bạn bắt đầu tu mà còn nghe băng, đọc kinh sách… Đó là bạn không nhiếp hộ 6 căn thì bạn có tu bao lâu cũng chẳng đến đâu được. Trước khi bạn tu tập thì bạn còn lao động làm việc này, việc nọ, nhưng khi đã tu tập, mà bạn còn lao động làm việc này, việc nọ, thì đó là bạn không phòng hộ sáu căn. Do đó, con đường tu của bạn chẳng ích lợi gì thiết thực cho bạn. Bạn có biết không? Chỉ vì bạn không nhiếp hộ sáu căn, nên mới sinh ra việc làm này, việc làm khác. Muốn nhiếp “các căn chỉ có phương pháp độc cư là nhiếp hộ 6 căn đệ nhất”. Nó vừa phòng hộ, vừa nhiếp phục sáu căn của bạn quay vào trong thân. Cho nên, con đường tu theo đạo Phật thì nhiếp hộ sáu căn là pháp môn cần thiết nhất giúp bạn ly dục ly ác pháp, nhập các loại định hữu sắc. Khi nhiếp hộ sáu căn thì nhiếp phục sự ăn uống là điều tối ưu quan trọng. Ăn uống phải tiết độ, ăn uống không được ăn uống phi thời. Vì ăn uống không tiết độ và phi thời, thì đó là tâm bạn chạy theo dục lạc. Tâm chạy theo dục lạc là do thiếu sự phòng hộ và nhiếp phục các căn. Ăn uống không tiết độ, ăn uống phi thời, thì dễ sanh ra biếng nhác, không tinh cần, thường thích sống trong dục. Ba câu kệ của bài bảy: “Không nhiếp hộ sáu căn Ăn uống thiếu tiết độ Biếng nhác, chẳng tinh cần” Ba câu kệ này chỉ dạy cho người mới tu, nó là pháp chế ngự để phòng hộ nhiếp phục sáu căn, là để ăn uống có tiết độ, không được ăn uống phi thời và để siêng năng không được biếng nhác, đó là những điều cần thiết cho những người mới tu tập. Người mới tu tập mà không giữ gìn những đức hạnh này thì cuộc đời tu của mình thật là phí uổng. Chẳng bao giờ tìm được sự giải thoát chân thật. Hai câu kệ cuối cùng của bài kệ thứ bảy, là để kết luận cho những người tu tập không đúng pháp hay để tâm phóng dật chạy theo dục lạc, không nhiếp hộ sáu căn, thường ăn uống không tiết độ, ăn uống phi thời, do đó tâm dễ sanh ra biếng nhác, chẳng siêng năng tập luyện, chỉ thích ăn, thích ngủ, thì lúc bấy giờ sáu trần dễ dính mắc và dễ bị cám dỗ, nên kinh dạy: “Dễ bị ma nhiếp phục Như gió lay cây yếu” Ngược lại, bài kệ thứ bảy là bài kệ thứ tám dạy: Ai siêng năng tinh cần không sống theo dục lạc, thường giữ gìn sáu căn không cho dính mắc sáu trần. Ăn uống có tiết độ, không ăn uống phi thời và lúc nào cũng tinh tấn siêng năng làm đúng, tu đúng, sống đúng như lời dạy trong bài kệ thứ tám, thì không bị sáu trần cám dỗ. Không phá hạnh độc cư nên tâm không bị sáu trần lay động, do đó tâm không phóng dật, vững vàng như thạch bàn trước gió. Tóm lại, bài kệ thứ bảy và thứ tám là phương pháp dạy: sống đúng Thánh hạnh của bậc chân tu. Nếu người tu sống ngược lại Thánh hạnh, thì không phải là đệ tử của Phật. Vì đang bị sáu trần vây hãm, sống như người thế tục. Sau khi thực hành được giải thoát theo như hai bài kệ này. Chúng ta hãy đọc lại mà lắng nghe tâm hồn mình đang nghĩ gì, làm gì cho đúng với chánh pháp của Phật dạy? “Ai sống theo dục lạc Không nhiếp hộ sáu căn Ăn uống thiếu tiết độ Biếng nhác chẳng tinh cần Dễ bị ma nhiếp phục Như gió lay cây yếu”. --o0o-- “Ai sống quán bất tịnh Khéo hộ trì các căn Ăn uống có tiết độ Có lòng tin, tinh cần Ma không uy hiếp được Như núi đá trước gió”.  CHỈ ĐỊNH MỘT THÁNH TĂNG LỜI PHẬT DẠY “Ai mặc áo cà sa Tâm chưa rời uế trược Không tự chế, không thật Không xứng áo cà sa”. “Ai rời bỏ uế trược Giới luật khéo nghiêm trì Tự chế, sống chân thật Thật xứng áo cà sa”. (Kinh Pháp Cú: I.Yamakavagga. Phẩm Song Yếu) CHÚ GIẢI: Tám câu kệ trên đây để xác định một tu sĩ Phật giáo đúng hay là sai. Những người tu sĩ chưa rời bỏ những danh, lợi trong cuộc đời, đời sống chưa ba y một bát, chưa thiểu dục tri túc, chưa lấy gốc cây làm giường nằm, chưa cắt bỏ ái kiết sử… thì người ấy chưa rời uế trược. Do đó, người ấy chưa xứng đáng mặc áo cà sa. Như vậy, những câu kinh Pháp Cú đã xác định một tu sĩ Phật giáo đúng tư cách của một tu sĩ rõ ràng. Vậy các bạn đừng bảo rằng: Đức Phật không xác định đệ tử của Ngài, để các bạn nhận định biết ai là Thánh Tăng, ai là giả Tăng. “Ai mặc áo cà sa Tâm chưa rời uế trược Không tự chế, không thật Không xứng áo cà sa”. Lời xác định này, chúng ta nhìn lại tu sĩ Phật giáo hiện giờ có xứng đáng là người tu sĩ của Phật giáo chưa? Có xứng đáng mặc áo cà sa chưa? Bài kệ thứ 10 đức Phật đã xác định đệ tử của Ngài phải sống đúng như thế này mới thật sự là đệ tử của Ngài: “Ai rời bỏ uế trược Giới luật khéo nghiêm trì Tự chế, sống chân thật Thật xứng áo cà sa”. Người tu sĩ Phật giáo hiện giờ nhìn chung có ai rời bỏ uế trược đâu. Uế trược ở đây có nghĩa danh và lợi. Chưa bỏ danh lợi có nghĩa là chưa ba y một bát; chưa ba y một bát có nghĩa là chưa thiểu dục tri túc; chưa thiểu dục tri túc có nghĩa chưa là trắng bạch như vỏ ốc, tâm hồn chưa phóng khoáng như hư không. Danh lợi ở đây chỉ cho chúng ta thấy tu sĩ hiện giờ là phú Tăng, chùa to Phật lớn như cung đình, tiền bạc có hằng tỉ tỉ, vật chất sống đầy đủ hơn người thế gian. Còn nói đến giới luật thì ít thấy Thầy nào nghiêm trì. Nghiêm trì được giới này thì phạm giới kia. Nghiêm trì được giới kia thì phạm giới này. Như vậy, làm sao xứng đáng là đệ tử của Phật, là Thánh Tăng được, chỉ là Ma Ba Tuần đội lốt Phật giáo. Đọc bài kệ thứ chín và bài kệ thứ 10 thì chúng ta xác định vị Sư, Thầy nào là đệ tử của Phật và vị Sư, Thầy nào là đệ tử của Ma, chúng ta thấy không mấy khó khăn. Đức Phật đã nói lên hai bài kệ này là để cho hàng cư sĩ biết rõ những tu sĩ giả danh Phật giáo, lừa đảo tín đồ, hành nghề mê tín… Cũng như trong một bầy bò, có lộn một con dê chúng ta cũng dễ nhận thấy, cũng như một bầy dê có lộn một con bò chúng ta cũng dễ nhận ra. Bởi vậy, người tu sĩ chân chánh của Phật đâu phải ở chỗ có thần thông, bay lên trời, biết chuyện quá khứ vị lai, ngồi thiền nhiều ngày, mà ở chỗ đức hạnh của bậc Thánh Tăng thì mới đúng. Thần thông, biết chuyện quá khứ vị lai, ngồi thiền nhiều ngày không làm nên một đệ tử của Phật. Xin các quý bạn lưu ý. Chỉ có tám câu kệ này đã giúp cho quý Phật tử không lầm thầy mình là Thánh Tăng Phật giáo hay là thầy mình là một thầy Bà La Môn ngoại đạo. SONG TẦM LỜI PHẬT DẠY “Phi chân, tưởng chân thật Chân thật tưởng phi chân Do tư duy tà vạy Chân thật không thể thành”. “Chân thật biết chân thật Phi chân biết phi chân Do tư duy chân chánh Chân thật tự nhiên thành”. (Kinh Pháp Cú: I.Yamakavagga.Phẩm Song Yếu) CHÚ GIẢI: Xét trong 4 chân lý của đạo Phật: Khổ, Tập, Diệt, Đạo. Chân lý thứ nhất, “Khổ Đế” thì khó có ai lầm, nên ngoại đạo không lồng vào được. Chân lý thứ hai, “Tập Đế” thì khó có ai lầm, vì thế ngoại đạo không bác được. Chân lý thứ ba, “Diệt Đế” thì ngoại đạo đã lồng vào những hình ảnh trừu tượng, ảo giác để lừa đảo tín đồ. Chân lý thứ tư, “Đạo Đế” thì được ngoại đạo và các nhà học giả nghiên cứu giáo pháp, kiến giải, tưởng giải và lồng giáo pháp của ngoại đạo vào đã làm lệch lạc “Đạo Đế”. Vì thế cái phi chân, tưởng là chân thật, chân thật tưởng là phi chân. Do sự tư duy không đúng chánh pháp nên từ các Tổ xa xưa cho đến ngày nay chưa có ai chứng quả vô lậu giải thoát của bậc A La Hán. Nếu chúng ta cứ theo đúng con đường Đạo Đế mà tu tập sống ngăn ác diệt ác pháp, thấy mọi pháp biết cái nào đúng, cái nào sai không bao giờ lầm lạc thì chẳng lo gì không chứng quả vô lậu A La Hán. Hai bài kệ này đức Phật đã xác định phương cách tu tập rất cụ thể rõ ràng: Nếu một người Chánh Tư Duy, tức là luôn luôn sống trong tầm thiện (suy nghĩ thiện) và luôn luôn diệt tầm ác, ngăn diệt sự tư duy ác thì sự tư duy chân thật sẽ tự nhiên thành tựu đạo quả vô lậu A La Hán. Pháp hành của hai bài kệ này, tức là đức Phật dạy chúng ta tu tập theo pháp hành Song Tầm. Tầm ác bài kệ thứ 11 Tầm thiện bài kệ thứ 12 Đây thuộc về Chánh Tư Duy trong Bát Chánh Đạo. Đọc lại hai bài kệ chúng ta sẽ thấy pháp hành ngay liền! Do tư duy không chân chánh (Tà Tư Duy) đưa đến cho ta có cái nhìn tà kiến thường sống trong ác pháp (tà mạng). Tầm ác: “Phi chân, tưởng chân thật Chân thật, tưởng phi chân Chân thật không thể thành”. Do tư duy chân chánh dạy ta: Tầm thiện: “Chân thật biết chân thật Phi chân biết phi chân Chân thật tự nhiên thành”. Tuy rằng những câu kinh Pháp Cú đơn giản như vậy, nhưng nó là một bài pháp Song Tầm ngắn gọn dễ hiểu, dễ hành, dễ thấy kết quả ngay liền. THIỆN XẢO TRONG TU TẬP LỜI PHẬT DẠY “Như mái nhà vụng lợp Mưa thấm dột dễ dàng Cũng vậy tâm vụng tu Tham dục dễ thâm nhập”. “Như mái nhà khéo lợp Mưa khó thấm dột vào Cũng vậy tâm khéo tu Tham dục không xâm nhập”. (Kinh Pháp Cú: I.Yamakavagga.Phẩm Song Yếu) CHÚ GIẢI: Bài kệ thứ 13 và bài kệ thứ 14 đức Phật khuyên nhắc chúng ta khi tu tập phải thiện xảo khéo léo, đừng chấp chặt những giáo điều khô chết mà phải linh động, khéo léo để ngăn ngừa ác pháp tham dục. Một người tu tập không nhiệt tình, thường tu lấy có, không thiện xảo dẫn tâm, không chế ngự được tâm, không nhiếp phục được tâm và không an trú được tâm, thì cũng giống như người lợp mái nhà, làm nhà lấy có, vụng lợp nên mái nhà mưa thấm dột dễ dàng. Ví dụ: Một người tu Định Niệm Hơi Thở dẫn tâm định trên hơi thở mà không khéo léo thiện xảo thì vọng tưởng hôn trầm, thùy miên, vô ký dễ xen vào, giống như mái nhà vụng lợp, mưa thấm dột dễ dàng. Còn người khéo tu, thiện xảo, nhiếp phục, an trú thì vọng tưởng, hôn trầm, thùy miên và vô ký khó xen vào. Người tu tập không khéo léo, không thiện xảo, không nhiếp phục được tâm thì tu hành mất công vô ích. Tám câu kệ này là một lời khuyên tu của đức Phật: Nếu muốn tu thì phải tu cho kỹ lưỡng từng hành động, từng hơi thở trong mỗi pháp, không được tu lấy có hình thức. Mỗi lần đọc lại hai bài kệ này là chúng ta thấy lời nhắc nhở của đức Phật rất thấm thía cho sự tu tập của chúng ta. “Như mái nhà vụng lợp Mưa thấm dột dễ dàng Cũng vậy tâm vụng tu Tham dục dễ thâm nhập”. --o0o-- “Như mái nhà khéo lợp Mưa khó thấm dột vào Cũng vậy tâm khéo tu Tham dục không xâm nhập”. NHÂN QUẢ 1 LỜI PHẬT DẠY “Nay buồn, đời sau buồn Kẻ ác, hai đời buồn Buồn nản, tự hủy diệt Thấy việc ác mình làm”. “Nay vui, đời sau vui Kẻ thiện, hai đời vui An vui, quá an vui Thấy việc thiện mình làm”. (Kinh Pháp Cú: I.Yamakavagga.Phẩm Song Yếu) CHÚ GIẢI: Bài kệ thứ 15 và thứ 16 đức Phật đã khéo phân biệt quả của pháp ác và pháp thiện. Bài kệ này cũng là bài pháp Song Tầm. Nhưng bài này đức Phật xác định kết quả của Song Tầm. Nếu đời nay tư duy ác, mang ác pháp vào tâm thì tâm hồn sẽ buồn khổ, buồn khổ không những một đời mà nhiều đời. “Nay buồn, đời sau buồn Kẻ ác, hai đời buồn” Đời người vì vô minh không hiểu luật nhân quả, tưởng mình làm ác để đạt được mục đích danh và lợi cho thỏa mãn lòng dục, nào ngờ quả khổ đến và họ nghĩ rằng: nếu có khổ cũng chỉ khổ một lúc mà thôi. Nhưng không phải vậy, quả khổ không phải đến một lúc mà còn duy trì từ đời này sang đời khác. Vì thế, có người sinh ra gặp ngay liền quả khổ, khổ quá không chịu nỗi, nên phải tự tử, nhưng tự tử lại là một việc làm ác, do đó ác chồng ác, khổ chồng khổ. “Buồn nản tự hủy diệt Thấy việc ác mình làm” Bài kệ này chúng ta nhận xét rằng: Nếu cuộc đời khổ vui là tự mình làm lấy cho mình, chứ kịch tuồng nhân quả luôn luôn nó diễn biến theo trò ảo thuật của nó mà thôi. Nếu chúng ta biết dừng thì nó dừng, còn không biết dừng thì nó vẫn diễn biến mãi mãi không lúc nào dừng nghỉ. Vì thế, khổ vui chồng chất lên mãi. Nhưng điều chắc chắn, nếu chúng ta không biết dừng và diệt ác pháp, luôn tạo tác và ở trong ác pháp thì đời này, đời sau và đời sau nữa mãi mãi sống trong cảnh buồn khổ, dù bất cứ ở nơi cảnh giới nào cũng chẳng bao giờ có sự an vui và hạnh phúc cả, khi mà đã ôm vào lòng những ác pháp. Bài kệ thứ 15 này chính là lời của đức Phật đã xác định như vậy, mong quý bạn đừng bảo rằng đức Phật không nói lời này. Lời cảnh tĩnh này khéo nhắc nhở chúng ta sống phải biết ngăn và diệt ác pháp, nếu các bạn không tin thì các bạn sẽ phải chịu khổ đời này sang đời khác, nếu các bạn tin thì các bạn sẽ trở thành người có đạo đức không làm khổ mình, khổ người thì đời sống của bạn là Thiên Đàng, Cực Lạc. Chúng tôi có một người bạn dám bảo rằng: “Này bạn, làm sao bạn có thể xác định được lời này là đúng của Phật nói, hay là lời này là không phải đức Phật nói?”. Ví dụ như hai câu kệ này: “Nay buồn đời sau buồn Kẻ ác, hai đời buồn” Bởi vì đạo Phật bắt nguồn từ thiện pháp nên bộ giới luật đức hạnh và pháp môn của Ngài luôn dạy tu tập ngăn ác diệt ác pháp, sanh thiện tăng trưởng thiện, cũng đủ để xác chứng những câu kệ trên là Phật nói. Vì thế, hai câu kệ này là đức Phật đã xác định, để chúng ta thấu rõ. Ai ôm ác pháp đời sẽ buồn khổ. Đời buồn khổ sẽ không phải một đời mà nhiều đời. Các bạn cần phải nhớ lời này. Chúng tôi là đệ tử của Phật nói ra lời nào thì không dám nói sai lời Phật dạy, vì nói sai lời dạy của đức Phật là phỉ báng Phật, cho nên chúng tôi chỉ có lập lại đúng ý nghĩa của nó, xin các bạn hiểu cho. Bởi vậy, có một số người tu chưa chứng dám lấy kinh Phật thuyết giảng lung tung làm sai lệch ý Phật, khiến cho Phật giáo mất gốc như kinh sách Đại Thừa và Thiền Tông. Nếu một người hiểu biết đạo Phật, lúc nào cũng ngăn ác diệt ác pháp, luôn sống trong thiện pháp thì tâm hồn luôn luôn thanh thản, an vui và vô sự. Sự an vui, thanh thản và vô sự ấy không những ở đời này, đời sau và đời sau nữa mãi mãi. Với tâm hồn thanh thản, an vui và vô sự đó, dù thời gian nào, ở bất cứ nơi đâu, Địa Ngục, Thiên Đàng, Niết Bàn, Cực Lạc… tâm hồn cũng thanh thản, an vui và vô sự đó mãi mãi bất diệt. Như kinh Pháp Cú dạy: “Nay vui đời sau vui Kẻ thiện, hai đời vui” Đó là lời xác chứng mạnh mẽ, hùng hồn, chân thật. Chỉ có sống trong thiện pháp là giải thoát, là hết khổ đau. Muốn được vậy thì ngày ngày chúng ta phải chuyên cần tu tập ngăn ác diệt ác pháp không để tâm mình bị chướng ngại ác pháp. Đấy là mình sống cho mình, sống trong thiện pháp; đấy là mình tu theo đúng pháp Phật để ly tham đoạn ác pháp. Hai bài kệ này đã xác định cho chúng ta thấy pháp môn Tứ Chánh Cần là tại nơi đây. Bài kệ thứ 15 cho chúng ta thấy quả của người không ngăn ác và diệt ác pháp, đời này buồn đời sau tiếp tục buồn. Bài kệ thứ 16 do ngăn ác, diệt ác pháp mà đời này vui, đời sau vui: “Nay vui đời sau vui Kẻ thiện, hai đời vui” Hai bài kệ này là chỉ cho kết quả của Tứ Chánh Cần “ngăn ác diệt ác, sanh thiện tăng trưởng thiện” là đem đến quả an vui. Nói tóm lại, đây là sự giải thoát của đạo Phật chân thật mà không có một pháp nào hơn được. Phương pháp tu hành của đạo Phật rất đơn giản, cụ thể, thấm thía và hạnh phúc nhất đối với cuộc đời của người tu hành. Chúng ta hãy lắng tâm đọc lại hai bài kệ này: “Nay buồn đời sau buồn Kẻ ác, hai đời buồn Buồn mãi tự hủy diệt Thấy việc ác mình làm”. --o0o-- “Nay vui đời sau vui Kẻ thiện, hai đời vui An vui quá an vui Thấy việc thiện mình làm”. Khi đọc xong các bạn cứ suy ngẫm, càng suy ngẫm, các bạn mới thấm thía lời dạy chân thành thương yêu của đức Phật đối với chúng sanh. Lòng yêu thương ấy rộng lớn vô bờ bến không thể lấy gì so sánh được. Phải không hỡi các bạn? Chỉ có sống thiện mới chính đem lại hạnh phúc chân thật cho mình, cho mọi người. Chỉ có sống thiện mới chính mình ở bờ bên kia, còn những người sống ác thì làm sao đến bờ bên kia được, luôn luôn phải chịu ở bờ bên nay và mãi mãi chịu. NHÂN QUẢ 2 LỜI PHẬT DẠY “Nay than, đời sau than Kẻ ác, hai đời than Than van: “Mình làm ác” Đọa cõi dữ, than hơn”. “Nay sướng, đời sau sướng Kẻ thiện, hai đời sướng Sung sướng: “Mình làm thiện” Sanh cõi lành, sướng hơn”. (Kinh Pháp Cú: I.Yamakavagga.Phẩm Song Yếu) CHÚ GIẢI: Bài kệ thứ 17 và thứ 18 ý nghĩa của nó cũng như hai bài kệ trên nó cũng từ pháp môn Tứ Chánh Cần mà ra. Xin các bạn hãy đọc lại bài kệ và lắng nghe tâm hồn của các bạn. Các bạn sẽ thấy thấm thía lời dạy đạo đức nhân bản – nhân quả không làm khổ mình, khổ người và khổ tất cả chúng sanh. “Nay than, đời sau than Kẻ ác, hai đời than Than van: “Mình làm ác” Đọa cõi dữ, than hơn”. --o0o-- “Nay sướng, đời sau sướng Kẻ thiện hai đời sướng Sung sướng: “Mình làm thiện” Sanh cõi lành, sướng hơn”. Trong cuộc sống hiện tại lúc nào các bạn cũng than thở: Vì thiếu hụt cơm ăn áo mặc; vì thiếu hụt tiền tài vật chất không đủ; vì thiếu hụt công danh không đạt v.v.. và v.v.. Đó là một sự than thở, thở than mà người đời thường đau khổ nhiều về việc đó. Sự than thở ấy trong hiện tại nhưng nhân quả của nó sẽ tiếp diễn trong tương lai hay từ đời này sang đời khác. Cho nên, đức Phật dạy: “Nay than, đời sau than”. Đúng vậy, ngay trong hiện tại không giải quyết được mọi sự khổ đau thì mong gì ngày mai được an vui hạnh phúc. NGƯỜI HỌC NHIỀU KHÔNG BẰNG NGƯỜI TU TẬP LỜI PHẬT DẠY “Dầu tụng nhiều kinh điển Không hành trì, phóng dật Chẳng khác đếm bò người Không hưởng Sa Môn hạnh”. “Dầu tụng ít kinh điển Nhưng y giáo phụng hành Từ bỏ tham, sân, si Giác tĩnh tâm giải thoát Không chấp trước, hai đời Tất hưởng Sa Môn hạnh”. (Kinh Pháp Cú: I.Yamakavagga.Phẩm Song Yếu) CHÚ GIẢI: Hai bài kệ thứ 19 và thứ 20 này: Nếu dù người nào có tụng nhiều kinh điển cũng chẳng có lợi ích gì, chỉ có tu hành từ bỏ tham, sân, si thì mới có lợi ích, mới có sự giải thoát. Theo con đường tu tập của Phật giáo thì không có tụng kinh ê a như các vị giáo sĩ Bà La Môn gọi là “tán tụng”. Chữ tụng ở đây có nghĩa là học kinh điển. Học nhiều kinh điển mà không tu tập ngăn ác diệt ác pháp, không ly dục ly ác pháp như trong bài kệ này nói: “không hành trì” thì chẳng có gì lợi ích. Trong kinh Sonadanda Đức Phật đã bài bác tụng niệm một cách ráo riết. Trong giới luật đức Phật cấm ca hát. Tụng niệm là một hình thức ca hát. Không ly dục ly ác pháp thì tâm sẽ phóng dật. Tâm phóng dật thì dù có hiểu rộng biết nhiều kinh điển của Phật cũng chẳng có lợi ích gì, chẳng thấy được sự giải thoát nào. Chẳng nếm được mùi vị giải thoát của Đạo. Cho nên, người học nhiều kinh sách, có cấp bằng này, có cấp bằng kia mà không chịu hành trì ngăn ác diệt ác pháp, thì người ấy chỉ là người nói láo có sách vở. Vì thế, bài kệ ví như người chăn bò chỉ biết đếm bò cho chủ. “Chẳng khác đếm bò người Không hưởng Sa Môn hạnh” Đúng vậy, lời dạy này rất đúng, chúng tôi đã từng gặp các quý Thầy, từng học trong các Phật học cao đẳng, từng học các trường đại học Phật giáo, đậu bằng tiến sĩ Phật học, nhưng tâm quý Thầy từng phóng dật, vì thế cuộc đời của quý Thầy chẳng biết được mùi vị giải thoát như thế nào. Mà chỉ loanh quanh trên chữ nghĩa kinh sách và đến khi chết trong bệnh tật, đau khổ một cách rất oan uổng một đời tu học Phật pháp. Họ viết sách giảng kinh chỉ là kiến giải học giả. Người trước nói sao thì người sau kế thừa nói vậy, chứ chẳng dám sửa sai dù một chữ, một lời hay một ý, họ chỉ biết một chữ, “vâng vâng, dạ dạ” làm theo cách “cha truyền con nối” hay “Tổ Tổ truyền nhau”, chứ có tu hành đâu mà dám sửa sai ai. Học để hiểu biết nghĩa lý thâm sâu của kinh sách cũng như học để hiểu biết pháp nào của Phật dạy, pháp nào của Tổ dạy, để tránh xa những pháp tà ngoại ấy, là sự học kinh sách như vậy mới có lợi ích. Còn học kinh sách chỉ hiểu chung chung cái nào cũng cho là của Phật dạy thì người học kinh sách như vậy là người vô minh, không biết sai đúng, giống như con chim học nói, chứ chẳng hiểu nghĩa; giống như con thú chỉ biết ăn mà không biết mùi vị. Còn kinh sách đúng của Phật dạy, chỉ học hiểu cho nhiều mà không thực hành thì có ích lợi gì cho sự học đó đâu. Học kinh sách để đi nói láo thì học kinh sách mất công sức mà còn thêm tội lỗi (tội vọng ngữ). Mục đích kinh sách dạy cho đời là để tu tập, là để sống cho đúng đạo đức làm người, không làm khổ mình, khổ người, chứ không phải kinh sách Phật để chúng ta học hành thi lấy cấp bằng cao đẳng, đại học v.v.. Người ta xem kinh sách Phật như một môn học về Phật giáo, giống như các môn học khác ngoài đời. Theo thiển nghĩ của chúng tôi hiểu: Lời Phật dạy không phải là một môn triết lý học suông, mà là một đạo đức nhân bản sống động đem lại sự an vui, hạnh phúc cho mọi người. Vì vậy, học để sống đạo đức, chứ không phải học để hiểu biết suông; để đi tranh luận hơn thiệt với mọi người. Chúng ta học ít nhưng học tới đâu áp dụng thực hành tới đó và sống cho đúng đạo đức làm người không làm khổ mình, khổ người, thì mới thấy được sự lợi ích của lời dạy này: “Dù tụng ít kinh điển Nhưng y giáo phụng hành Từ bỏ tham, sân, si Giác tĩnh tâm giải thoát Không chấp trước, hai đời Tất hưởng Sa Môn hạnh”. Bài kệ tuy đơn giản nhưng chúng ta càng đọc càng thấm thía cho cuộc đời tu hành. Nếu chúng ta không chịu đọc kỹ lại những lời dạy này, thì dù có tu cũng sẽ tu sai pháp, tu sai pháp là tại chúng ta không chịu hiểu kỹ, chứ không phải tại đức Phật dạy sai. Bài kệ này, đức Phật đã cảnh giác chúng ta trong hiện tại và những người về đời sau nữa, để tránh đi những loại kinh kiến giải, tưởng giải của các nhà học giả biên soạn viết xưa nay như: kinh sách Đại Thừa và Thiền Đông Độ. Những bài kinh Pháp Cú này đã xác định cho chúng ta biết sự học và sự tu khác nhau chứ không giống nhau. Sự học chỉ giúp cho chúng ta hiểu biết để tu tập, chứ không phải sự học là chính, sự học chỉ là vấn đề phụ, sự tu mới là vấn đề chính. Sa Môn hạnh, tức là Sa Môn quả. Sa Môn quả là kết quả của sự tu tập. Nó để dành riêng cho những người tu tập, chứ không dành cho người học nhiều, hiểu rộng. Người tu tập sẽ có kết quả thanh thản, an lạc và vô sự. Kết quả đó sẽ hiện thực rõ ràng qua hành động thân, miệng, ý tức là oai nghi tế hạnh trong cuộc sống hằng ngày của một vị tu sĩ, mà người ta gọi là Thánh hạnh. KHÔNG PHÓNG DẬT LỜI PHẬT DẠY “Không phóng dật, bất tử Phóng dật, phải tử sinh Không phóng dật, không chết Phóng dật, như chết rồi”. “Biết rõ sự thật ấy Người trí không phóng dật Hoan hỷ không phóng dật An vui trong cõi Thánh”. (Kinh Pháp Cú: II. Appamàdavagga.Phẩm Không Phóng Dật) CHÚ GIẢI: Muốn tâm không phóng dật, chỉ có pháp độc cư là đệ nhất. Nếu ai giữ gìn được pháp độc cư thì sớm muộn gì người ấy tâm cũng sẽ không phóng dật. Bài kệ thứ 21, đức Phật đã xác định: Người không phóng dật là người bất tử, là người sống mãi muôn đời. Đức Phật cũng nói: “Ta thành chánh giác là nhờ tâm không phóng dật”. Cho nên, người thích hội họp, thích nói chuyện, thích tranh luận là người phóng dật; người hay làm thơ văn, viết thư thăm viếng gia đình, bạn bè…; người đọc kinh sách, nghe băng là người phóng dật. Người phóng dật là người tu tập không bao giờ có kết quả tốt, chỉ tu tập lấy có hình thức thường dậm chân tại chỗ. Phóng dật có nghĩa là tâm hướng ra ngoài hay chạy theo các pháp trần. Đức Phật dạy 42 bài kệ nói về tâm không phóng dật, giống như con tê ngưu một sừng. Con tê ngưu một sừng là một loài thú vật sống một mình. Khi lớn lên đến tuổi trưởng thành, thì loài vật này bỏ gia đình cha mẹ, anh em và chị em. Không giao kết bạn bè với ai cả chỉ sống một mình trong một khu vực riêng biệt. Vì thế, đức Phật dạy: “Người sống độc cư như con tê ngưu một sừng”.  Các pháp dạy tâm không phóng dật như: Định niệm hơi thở, Định sáng suốt, Định vô lậu, Định chánh niệm tĩnh giác, Tứ niệm xứ trên Tứ niệm xứ để khắc phục tham ưu và Thân hành niệm. Trong bài kệ thứ 21 này, đức Phật đã xác định rõ ràng sự bất tử hay nói cách khác là sự ra khỏi sanh tử, chỉ duy nhất là làm sao phải đạt cho được kết quả là “tâm không phóng dật”. Cho nên, dù tu muôn vạn pháp môn cũng chỉ thực hiện tâm không phóng dật. Nhưng chúng ta phải biết tâm không phóng dật là do xả ly dục và ác pháp, chứ không phải do ức chế tâm. Chỉ có xả ly tâm tham, sân, si mới có sự giải thoát chân thật. “Không phóng dật bất tử” Người không phóng dật là người thoát ra vòng sanh tử, nhưng tu tập tâm không phóng dật không phải là một việc dễ làm. Phải không các bạn? “Phóng dật chỉ tử sanh” Hiện giờ ai ai tâm cũng phóng dật, vì thế mà mọi người đều phải chịu trong qui luật sanh tử. Thưa các bạn, nếu tâm các bạn còn phóng dật thì các bạn chưa được an ổn đâu. Tại sao vậy? Vì bệnh tật và tử thần sẽ đến viếng thăm các bạn, bất cứ giờ nào khi chúng muốn. Nên đức Phật bảo: “Phóng dật như chết rồi”. Các bạn hãy đọc bài kệ thứ 21 này mà suy ngẫm về sự tu tập của các bạn. Hiện giờ tâm các bạn có còn phóng dật hay không? Nếu còn thì các bạn hãy tu tập cho đúng cách để tâm không phóng dật. “Không phóng dật bất tử. Đúng vậy, mục đích của chúng ta phải đạt được tâm không phóng dật, vì tâm không phóng dật là tâm bất tử mãi mãi thường hằng. Tâm không phóng dật là có Bảy năng lực Giác Chi xuất hiện. Do Bảy năng lực Giác Chi xuất hiện mà đức Phật dạy: “Tâm thuần tịnh, định tĩnh, nhu nhuyễn, dễ sử dụng”. Nếu tu tập mà tâm các bạn chưa thấy Bảy Giác Chi xuất hiện là do tâm của các bạn còn phóng dật, còn phóng dật là các bạn đã tu sai, tu không kỹ lưỡng hoặc các bạn tu tập đã lọt vào thiền Đại Thừa hay Thiền Đông Độ. Nếu tâm bạn không phóng dật trong lúc tu tập, khi xả ra thì phóng dật. Đó là bạn tu tập ức chế bằng những pháp môn “Chẳng niệm thiện niệm ác” của Thiền Đông Độ. Do tu ức chế tâm như vậy nên Bảy Giác Chi không xuất hiện. Bảy Giác Chi không xuất hiện thì bạn không có đủ năng lực nhập các định, làm chủ sanh, già, bệnh, chết và chấm dứt luân hồi. Chúng ta nên trở lại câu kệ đầu trong phẩm “Song Yếu”. “Tâm dẫn đầu mọi pháp Tâm làm chủ, tâm tạo tác” Khi chúng ta biết được tâm dẫn đầu mọi pháp, tâm làm chủ, tâm tạo tác. Thì chúng ta phải biết áp dụng vào pháp tu Tứ Chánh Cần thì ngay liền có giải thoát. Ngày xưa khi chúng tôi đọc đến hai câu kệ này và nhớ đến pháp như lý tác ý của Phật dạy thì chúng tôi như bắt được của báu. Nhờ nó mà hôm nay chúng tôi mới được yên tâm ngồi viết sách đạo đức nhân bản - nhân quả để giúp cho mọi người sống thoát ra khổ ải của cuộc đời. Và khi biết rằng: Tâm không phóng dật là bất tử, là không chết, biết rõ như thật điều này, thì chúng tôi đã cố gắng giữ gìn tâm mình bằng mọi cách, dùng mọi pháp, nhưng rất cảnh giác không được ức chế tâm, để xả tâm dục và ác pháp. Và cuối cùng tâm không phóng dật. Chúng ta là những người tu theo đạo Phật, được xem là những người trí tuệ, những người trí tuệ xem sự phóng dật của tâm là một điều tối kị nhất trong đạo Phật. Muốn làm chủ sanh, già, bệnh, chết mà tâm còn phóng dật thì chẳng bao giờ làm chủ được. Cho nên, giữ gìn tâm không phóng dật là một điều rất hoan hỷ cho cuộc đời tu hành của mình. Khi tâm thuần thục không phóng dật thì một trạng thái an lạc vô cùng hiện đến, đầu óc rỗng rang, khiến cho hành giả tưởng chừng mình đã được vào thế giới thần tiên. Đúng vậy, nếu tâm ai không phóng dật, mới thấy sự an vui trong cõi Thánh. Chỉ có tu tập giữ gìn tâm đừng cho phóng dật. Chỉ có tâm không phóng dật mà sao các bạn tu chẳng vào được? Nếu với sự nhiệt tâm tinh cần tu tập của các bạn, thì chúng tôi tin chắc rằng: các bạn sẽ vào cõi Thánh dễ dàng như trở bàn tay. Bài kệ trong kinh Pháp Cú này đã xác định: “Biết rõ sự thật ấy Người trí không phóng dật” Khi biết rõ sự thật ấy, người có trí quả quyết, nhất định bằng mọi cách, chúng ta phải giữ gìn tâm không phóng dật. “Hoan hỷ không phóng dật An vui trong cõi Thánh” Như vậy, con đường tu tập giải thoát của đạo Phật đã xác định rõ ràng: “tâm không phóng dật”. Tâm không phóng dật là một điều hết sức quan trọng trong sự việc tu tập giải thoát sanh tử luân hồi. Được xem nó là đệ nhất pháp. THIỀN ĐỊNH LỜI PHẬT DẠY “Người hằng tu thiền định Thường kiên trì tinh tấn Bậc trí hưởng Niết Bàn Đạt an tịnh vô thượng”. (Kinh Pháp Cú: II. Appamàdavagga. Phẩm Không Phóng Dật) CHÚ GIẢI: Bài kệ thứ 23 đức Phật khuyên mọi người phải hằng tu thiền định. Vậy thiền định ở đây là loại thiền định nào? Bài kệ thứ 23 nằm trong phẩm không phóng dật. Như vậy rõ ràng tâm không phóng dật là thiền định, chứ không phải ngồi hít thở, hay niệm Phật nhất tâm, giữ tâm không niệm là thiền định. Ở đây, đức Phật chỉ khuyên chúng ta hằng tu thiền định, nhưng vì trong đời sống của chúng ta có nhiều loại thiền định như: Thiền Yoga, thiền Xuất hồn, thiền Vô vi, thiền Công án, thiền Đại Thừa, thiền Tổ Sư, thiền Nguyên Thủy, thiền Tối Thượng Thừa, thiền Mật Tông, thiền Tịnh Độ Tông, v.v.. Với một số thiền định như thế này, thì chúng ta biết loại thiền định nào cho đúng, để tu tập tâm không phóng dật? Do hiểu nghĩa tâm không phóng dật cạn cợt, nên phần đông người ta tu ức chế tâm không còn niệm thiện niệm ác. Như kinh Pháp Bảo Đàn đã hiểu sai tâm không phóng dật là tâm không niệm thiện, niệm ác. Tâm không niệm thiện ác là một lối thiền ức chế tâm, đó là đường cùng của thiền định ngoại đạo tiến thoái lưỡng nan. Tu đến chỗ vô niệm thì người ta không còn chỗ tu nữa. Nhưng nhìn lại đời thì cũng chẳng ra đời, đạo cũng chẳng ra đạo. Như trong kinh Bát Chánh Đạo, đức Phật đã chỉ rõ loại thiền định nào để chúng ta tu tập không sai, đó là Bốn Thiền hữu sắc. Trong Bát Chánh Đạo Bốn Thiền là Chánh Định. Trong Bốn Thiền thì Sơ Thiền là loại thiền định thứ nhất. Loại thiền định thứ nhất chỉ có tu tập ly dục ly ác pháp. Ly dục ly ác pháp chính là tâm không phóng dật. Tóm lại, tu tập thiền định là tu tập tâm ly dục ly ác pháp. Ly dục ly ác pháp mà không dính mắc vào năm chi Sơ Thiền thì đó là nhập vào bất động tâm định. Trạng thái bất động tâm định là trạng thái Niết Bàn. Đức Phật dạy: Người hằng tu thiền định, tức là hằng tu tập Sơ Thiền, tu tập Sơ Thiền chỉ có nhiếp phục tâm để tâm ly dục ly ác pháp, có ly dục ly ác pháp thì tâm mới không phóng dật, mà tâm không phóng dật là Niết Bàn tại thế gian trong cuộc sống này. Bài kệ này rất quan trọng là chỗ xác định được “thiền định”. Nếu xác định đúng “Chánh định” thì sự tu tập mới có kết quả đúng. Kết quả đúng thì mới có những năng lực làm chủ sanh, già, bệnh, chết. Còn nếu xác định sai “Tà thiền” thì tu tập chẳng có kết quả gì, thì không bao giờ làm chủ sanh, già, bệnh, chết được. Khi tu tập loại thiền định của đạo Phật thì chúng ta thường hưởng được những trạng thái Niết Bàn an tịnh, vô thượng. Và lúc nào muốn an tịnh là tâm chúng ta sẽ an tịnh liền. Nếu người nào hằng ngày tu tập thiền định, với tâm siêng năng bền chí, không thối chuyển thì lúc nào cũng nhập vào sự an tịnh, vô thượng ấy được. Trạng thái an tịnh, vô thượng ấy không có một vật gì trên thế gian này sánh bằng được. “Thường kiên trì tinh tấn Bậc trí hưởng Niết Bàn Đạt an tịnh vô thượng”. Chỉ có thiền định của đạo Phật mới có sự an tịnh vô thượng. Sự an tịnh vô thượng, nếu ai tu tập đúng pháp, muốn có lúc nào là có được ngay lúc nấy. Do vì tu tập xả tâm, nên tâm tự nhiên không phóng dật mà có. NỖ LỰC TU TẬP TỨ NIỆM XỨ LỜI PHẬT DẠY “Nỗ lực, giữ chánh niệm Tịnh hạnh, hành thận trọng Tự điều sống theo pháp Ai sống không phóng dật Tiếng lành ngày tăng trưởng”. “Nỗ lực, không phóng dật Tự điều, khéo chế ngự Bậc trí xây hòn đảo Nước lụt khó ngập tràn”. (Kinh Pháp Cú: II. Appamàdavagga. Phẩm Không Phóng Dật) CHÚ GIẢI: TỊNH HẠNH VÀ CHÁNH NIỆM Bài kệ thứ 24 đức Phật đã xác định pháp hành để chúng ta tu tập tâm không phóng dật. Vậy pháp hành đó là gì? 1- Tịnh Hạnh 2- Chánh Niệm Tịnh hạnh tức là giới luật. Chánh niệm tức là Tứ Niệm Xứ. Người tu sĩ hằng ngày phải nỗ lực tu tập Tứ Niệm Xứ và thận trọng giữ gìn giới luật đừng để vi phạm, tức là tự điều chế tâm trong sự sống thiện. Nếu tu tập đúng pháp như vậy, thì thân tâm sẽ không phóng dật. Bài kệ trên đây dạy chúng ta chọn pháp tu hành cho đúng chánh pháp. Bài kệ thứ 25 đức Phật đã xác định: Nếu người nào nỗ lực tu tập 2 pháp trên, tự điều và khéo chế ngự tâm dục và ác pháp thì cũng ví như xây trường thành để bảo vệ chống giặc, thì giặc phiền não, giặc tham, sân, si sẽ không bao giờ xâm chiếm được. Người trí, tức là người hiểu biết, thì cố gắng tu tập, sự cố gắng tu tập giống như người xây hòn đảo nên nước không thể lọt và tràn vào, khiến cho đời sống được an ổn yên vui. Tâm không phóng dật là một điều quan trọng hết sức trong đạo Phật. Chính ngày xưa đức Phật thành đạo cũng nhờ tâm không phóng dật. Đời nay người tu hành không giữ gìn tâm, nên tâm thường phóng dật chạy theo sáu trần, vì thế mà chịu trôi lăn trong sáu nẻo luân hồi, khổ đau vô cùng vô tận. Người trí là người khôn ngoan, sống theo đúng pháp (Tứ niệm xứ, và giới luật) thường tự điều chế tâm mình, không cho phóng dật, nên thường sống trong an ổn. Chỉ có những người ngu si, thiếu trí mới để tâm phóng dật. Bởi vì còn có tâm phóng dật là còn có khổ đau; còn có khổ đau là còn bị sự chi phối của luật nhân quả. Tâm không còn khổ đau, phiền lụy, là tâm đã chuyển hóa nhân quả. Tâm đã chuyển hóa nhân quả là tâm bất động. Tâm bất động là tâm không phóng dật. “Ai sống không phóng dật Tiếng lành ngày tăng trưởng” “Bậc trí xây hòn đảo Nước lụt khó ngập tràn” Đức Phật dạy: “Người ngu không trí tuệ, chuyên sống đời phóng dật, tự làm khổ mình, khổ người”. Đúng vậy, phóng dật như chết rồi chưa chôn; phóng dật là tự đem đau khổ vào cho mình. Người tự đem đau khổ vào mình, có phải là người ngu không hỡi các bạn? Nhưng quán xét nhìn lại đời này, ai là người khôn, tâm không phóng dật? Những hạng người này rất khó tìm thấy quá. Phải không hỡi các bạn? Tìm một người tâm không phóng dật trong đời thật là hiếm, là không có. Người trí là người có sự hiểu biết thì không bao giờ để tâm mình phóng dật, luôn luôn nỗ lực giữ gìn chánh niệm, tịnh hạnh. Mỗi hành động đều thận trọng, luôn tự điều chế tâm mình sống đúng giới hạnh và giáo pháp “chư ác mạc tác, chúng thiện phụng hành”. Đó mới thật sự là người trí. “Người trí không phóng dật Như giữ tài sản quí” Đúng vậy, giữ tâm không phóng dật như giữ gìn tài sản của báu mà tài sản của báu này là vô giá. “Chớ có buông lung phóng dật Chớ say mê dục lạc” Kẻ nào sống phóng dật buông lung, say mê dục lạc, kẻ ấy như người chết chưa chôn, chỉ là một cái thây ma hôi thối, bẩn thỉu, bất tịnh sống chỉ biết phục vụ cho sự hèn hạ nhất của kiếp làm người, đó là ăn, ngủ, đi cầu và dâm dục. Khi tâm không tự chế. Để tự do chạy theo các pháp trần, tức là tâm phóng dật. Tâm phóng dật thì làm sao tránh khỏi sự cám dỗ của các pháp trần. Các pháp trần đủ đầy mọi dục lạc, cho nên người nào tâm buông lung phóng dật thì không thể tránh khỏi sự sa đọa, thường bị sự cám dỗ dục lạc thế gian lôi cuốn. Cho nên, người biết tự chế ngự tâm mình, thực hiện tâm ly dục ly ác pháp (thiền định). Có như vậy, chúng ta mới thấy được sự giải thoát an lạc chân thật của Phật Giáo. Chúng ta hãy đọc lại bài kệ mà lắng nghe lời khuyên dạy chí tình, chí tâm của đức Phật đối với chúng sanh. “Chớ buông lung phóng dật Chớ mê say dục lạc Người tự chế, thiền định Mới hưởng đại an lạc” Sự buông lung phóng dật chỉ có đem lại sự đau khổ cho con người mà thôi. Người đời mấy ai đã để ý đến điều này. Vì thế, mà họ phải chịu nhiều sự khổ đau, phiền lụy. Bởi vô minh nên họ thọ nhiều sự khổ đau, phiền lụy mà chẳng biết do đâu mà ra. Thưa các bạn! Sự khổ đau, phiền não do từ tâm buông lung phóng dật. Ngoài tâm buông lung phóng dật ra thì không còn khổ đau nữa. Muốn giải thoát khỏi sự sanh, già, bệnh, chết và luân hồi mà các bạn còn để tâm mình buông lung phóng dật, thì dù các bạn có tu ngàn muôn kiếp cũng chẳng bao giờ chấm dứt sanh tử luân hồi được. Tâm còn buông lung phóng dật thì các bạn đừng vào chùa tu tập. Vì có vào chùa tu tập thì cũng chẳng có ích lợi gì cho các bạn cả, mà còn mất công sức và làm tổn hại cho Phật pháp, mang tiếng cho Thầy Tổ. Nếu các bạn thấy mình sống độc cư trầm lặng chưa trọn vẹn được, thì xin các bạn đừng vào chùa tu tập. Vì vào chùa tu tập như vậy, làm mang tiếng tu hành không kết quả, để lại cho chùa những tiếng không tốt. Người ta sẽ cười vào mặt các bạn: Đi tu mà lòng tham, sân, si như người thế gian. Còn đến khi chết thì nằm liệt trên giường bệnh cũng giống như người thế tục. Đi tu không giải khổ được mà còn khổ đau hơn người đời… Người ta thấy các bạn tu hành như vậy, họ ngao ngán quá còn ai dám đi tu nữa. Phải không các bạn? Những bài kệ trong phẩm không phóng dật, đã xác định được sự quan trọng con đường tu hành của các bạn. Nếu các bạn muốn giữ gìn được tâm mình không phóng dật thì các bạn hãy chấp hành nghiêm túc hạnh độc cư. Vì chỉ có hạnh độc cư mới phòng hộ giữ gìn sáu căn tuyệt vời, giúp sáu căn của các bạn không tiếp xúc với sáu trần, có như vậy thì tâm các bạn mới không phóng dật. Đây là giai đoạn bắt đầu độc cư của sự tu tập tâm không phóng dật. Nếu các bạn không giữ trọn giai đoạn bắt đầu này thì không bao giờ tu tập viên mãn. Nếu giai đoạn đầu mà không thực hiện được, thì còn mong gì những giai đoạn kế tiếp, làm sao các bạn tu nổi được. Vì càng tu cao tâm phóng dật càng vi tế hơn. Các bạn có nghe chăng? Lời di chúc năm xưa của đức Phật còn văng vẳng mãi bên tai của các bạn: “Ta thành chánh giác là nhờ tâm không phóng dật. Muôn pháp lành đều nơi tâm không phóng dật mà ra”. Chỉ có tâm không phóng dật là chứng đạo. Sao các bạn vội quên đi lời di chúc ấy! Đời sống một tu sĩ chỉ nhờ sống vào mồ hôi nước mắt và công lao của người cư sĩ. Đời sống của chúng ta có còn làm ích lợi gì cho ai đâu? Một đời sống ăn bám mà còn để tâm phóng dật, chạy theo dục lạc, ăn ngủ phi thời, phạm giới, phá giới thì còn nghĩa lý gì các bạn ạ!? Thà không đi tu mà đã đi tu thì phải tu tập cho đến nơi đến chốn để không phụ lòng mọi người… Các bạn phóng dật chùa to Phật lớn, tiện nghi vật chất đầy đủ bằng mồ hôi nước mắt của người khác thì có hãnh diện gì đâu các bạn? Đến khi chết các bạn có mang theo một vật gì đâu hay chỉ mang theo một món nợ vĩ đại. Bài kệ thứ 28 này đức Phật đã xác định: “Nếu một người tu hành diệt tâm buông lung không chạy theo vật chất thế gian, sống đời sống độc cư trầm lặng với hạnh không phóng dật, là người trí tuệ tuyệt vời, là một bậc Thánh sống”. Ngược lại, người phàm phu không thể sống như những bậc Thánh được, nên tâm thường hữu sự, nay sanh ra việc này, mai sanh ra việc khác, càng sanh ra nhiều việc, tức là tâm phóng dật càng nhiều, tâm phóng dật càng nhiều thì lo âu và đau khổ càng nhiều. Người tu sĩ Bà La Môn thường tu giả dối hay dùng những danh từ để che đậy tâm phóng dật bằng cách nói: “Làm Phật sự”. Làm phật sự là tâm phóng dật. Xưa, đức Phật đâu có dạy chúng ta xây chùa to Phật lớn; đâu có dạy chúng ta cúng bái tụng niệm; đâu có dạy chúng ta đi thập tự trảy hội cầu an, cầu siêu; đâu có dạy chúng ta làm những điều mê tín; đâu có dạy chúng ta cày cấy, làm vườn, buôn bán… mà chỉ dạy chúng ta đi xin ăn, sống độc cư, ly dục ly ác pháp, diệt ngã xả tâm; mà chỉ dạy chúng ta ngăn ác diệt ác pháp trong tâm; mà dạy chúng ta diệt tâm buông lung, sống hạnh không phóng dật; chứ đâu có dạy chúng ta cầu an, cầu siêu, xin xăm, bói quẻ, xem ngày giờ tốt xấu…; đâu có dạy chúng ta niệm chú, vẽ bùa, tụng kinh, niệm Phật, lần chuỗi v.v.. Phật dạy chúng ta niệm Phật là dạy chúng ta sống như Phật, chứ đâu có dạy chúng ta kêu gọi tên Phật bao giờ. Trong bài kệ này mục đích chính là dạy chúng ta phải sống đời sống giữ gìn hạnh không phóng dật cho trọn vẹn của một người tu sĩ đạo Phật. Có sống một đời sống tâm không phóng dật mới đúng nghĩa của đạo giải thoát. Đời sống tâm không phóng dật là đời sống thanh cao, vì tâm không còn âu lo, sợ hãi dù bất cứ một điều gì. Danh từ không phóng dật nói thì dễ, nhưng sống tâm không phóng dật là khó vô cùng. Vì thế, muốn tâm không phóng dật thì người tu sĩ đạo Phật phải tu hết sức mình, tu kỹ từng pháp một, tu cho có chất lượng chứ không phải tu lấy có hình thức: Ngồi thiền, niệm Phật, tụng kinh, niệm chú v.v.. Có kết quả gì, chỉ là những hình thức tu hành lấy có, lấy danh để lừa đảo người khác, chứ không phải tu cho mình như vậy được. Người tu hành phải luôn cảnh giác, tĩnh thức cao độ trong mỗi niệm thân hành, khẩu hành, ý hành, để diệt và xả những niệm ác, có tu tập như vậy cũng còn chưa đủ, mà còn phải phòng hộ sáu căn nghiêm ngặt như lính ngự lâm canh gác thành vua. Cho nên, những câu kệ trong kinh Pháp Cú tuy ngắn gọn nhưng nó mang đầy đủ tính chất pháp hành, nếu chúng ta không nhận ra được những pháp hành trong những câu kệ cô đọng này, thì kinh Pháp Cú chỉ còn là câu ca dao, tục ngữ, cách ngôn hay theo như lời Hòa Thượng Minh Châu giới thiệu. Chỉ có những người hiểu biết nhàm chán cuộc sống đời này, thì giữ gìn hạnh không phóng dật mới được. Ngược lại, tâm chưa nhàm chán cuộc đời, mà cố gắng tu tập và giữ hạnh, dù tu pháp môn nào, giữ hạnh gì thì tâm cũng phóng dật như thường. Bài kệ thứ 29 đức Phật ví người tinh cần giữ gìn tâm không phóng dật thì chẳng khác nào như con tuấn mã (tuấn mã là con ngựa hay). “Tinh cần giữa phóng dật Tĩnh thức giữa quần mê Người trí như tuấn mã Bỏ sau con ngựa hèn” Ở đây, có nghĩa là người giữ gìn tâm không phóng dật là người hơn tất cả mọi người. Bài kệ 28 đức Phật dạy: Người không phóng dật là một bậc Thánh. “Kẻ trí diệt buông lung Với hạnh không phóng dật Leo lầu cao trí tuệ Bậc Thánh không lo âu” Khi giữ gìn tâm không phóng dật được rồi, giống như người mù nhìn thấy được ánh sáng. Nhìn lại mọi người đang còn phóng dật, thì tâm bàng hoàng kinh hãi thốt ra lời: “Trời ơi! Con người sinh ra có mắt như mù”. Phóng dật để trôi lăn trong sáu nẻo luân hồi mãi mãi, từng giây từng phút chịu khổ đau vô cùng vô tận. “Nhìn quần sanh sợ hãi Chẳng khác lên núi cao Nhìn muôn vật dưới đất” Bài kệ thứ 30 đức Phật dạy: Người giữ gìn tâm không phóng dật như là vua Trời Đế Thích. “Đế Thích nhờ tinh tấn Thành chủ cõi chư Thiên Không phóng dật được khen Phóng dật bị khinh miệt” Người phóng dật đức Phật ví như những người mù, những con ngựa hèn, những người bị khinh mệt, bị khinh rẻ v.v.. Để kết luận phẩm không phóng dật đức Phật đã khen ngợi và ca tụng người giữ hạnh không phóng dật bằng bài kệ thứ 31: “Tỳ kheo sợ phóng dật Ưa thích không phóng dật Bước tới như lửa hừng Thiêu kiết sử lớn nhỏ” Người sợ phóng dật thường ưa thích không phóng dật thì như đám lửa cháy to, lửa không phóng dật cháy đến đâu thì thiêu rụi các kiết sử lớn nhỏ đến đó. Bài kệ thứ 32: “Tỳ kheo sợ phóng dật Ưa thích không phóng dật Nhất định gần Niết Bàn Không còn bị đọa lạc” Nhất định người ấy đến Niết Bàn không còn sợ bị đọa lạc. Đó là hai câu kệ xác định chắc chắn như vậy, xin các bạn hãy tin lời dạy của Phật mà cứu mình ra khỏi nhà sanh tử luân hồi, đừng để kiếp kiếp, đời đời trôi lăn trong ba nẻo sáu đường đầy khổ đau. Đọc phẩm không phóng dật trong kinh Pháp Cú chúng ta thấy đức Phật thường ca ngợi hạnh không phóng dật. Như vậy, hạnh không phóng dật là quan trọng cho cuộc đời tu hành của chúng ta. Phải không các bạn? Thế nhưng nhìn lại chúng ta quán xét tất cả tu sĩ Phật giáo hiện giờ với hạnh không phóng dật thì khó tìm thấy. Vì mọi tu sĩ Phật giáo hiện giờ đang chạy theo vật chất danh lợi thì làm sao mà tâm không phóng dật. Phẩm tâm không phóng dật đã nói lên mục đích tu hành của đạo Phật, để xác định ai là người tu chứng đạo. Chứng đạo là chứng cái gì? Có phải là cái tâm không phóng dật không? “Ta thành chánh giác là nhờ tâm không phóng dật”. Đó là lời xác định quả quyết của Đức Phật để cho người sau không nghi ngờ chánh Phật pháp. Đúng vậy, tâm không phóng dật là người chứng đạo, chứ đâu phải cần có thần thông, ngồi thiền nhiều, niệm Phật nhất tâm, giảng kinh, tụng đọc… hay học giáo lý có cấp bằng này, cấp bằng kia, là chứng đạo đâu. THIỆN XẢO TU TẬP LỜI PHẬT DẠY “Tâm phàm hay dao động Khó chế khó nhiếp phục Kẻ trí khiến tâm chánh Như thợ khéo nắn tên”. (Kinh Pháp Cú: III. Cittavagga.Phẩm Tâm) CHÚ GIẢI: Người tu hành theo Phật giáo ai cũng biết chế ngự tâm mình là một điều rất khó. Nhưng khó, không có nghĩa là không chế ngự được, không làm được. Muốn nhiếp phục và chế ngự được tâm thì phải tu tập những pháp môn nào? 1/ Muốn chế ngự tâm thì phải cố gắng giữ gìn giới luật nghiêm chỉnh, sống đúng oai nghi tế hạnh của bậc Thánh Tăng. Lấy giới luật làm khuôn phép sống cho mình. 2/ Nhiếp phục tâm thì phải tu tập Bát Chánh Đạo. Bát Chánh đạo gồm có: Chánh Kiến, Chánh Tư Duy, Chánh Ngữ, Chánh Nghiệp, Chánh Mạng, Chánh Tinh Tấn, Chánh Niệm, Chánh Định. Từ Chánh kiến đến Chánh Tinh Tấn thuộc về Giới luật tu tập giai đoạn một. Giới luật thì phải tu tập Tứ Chánh Cần. Tứ Chánh Cần gồm có bốn loại định: Chánh Niệm Tĩnh Giác Vô Lậu Định Sáng Suốt Định Định Niệm Hơi Thở gồm có 18 đề mục tu tập. Chánh Niệm thuộc về giới, tu tập giai đoạn hai gồm có: Tứ Niệm Xứ và Thân Hành Niệm. Chánh Định gồm có Bốn Thiền: Sơ Thiền Nhị Thiền Tam Thiền Tứ Thiền Và cuối cùng, thực hiện Tam Minh gồm có: Tứ Như Ý Túc. Tứ Như Ý Túc gồm có: Dục Như Ý Túc Tinh Tấn Như Ý Túc Định Như ý Túc Tuệ Như Ý Túc Tất cả các pháp trên đây, khi tu tập phải thiện xảo, linh động, khéo léo và trí tuệ sáng tạo trạch pháp tác ý cho có hiệu quả mà trong bài kệ dạy: “Như thợ khéo nắn tên”. KHEN NGỢI ĐIỀU PHỤC TÂM LỜI PHẬT DẠY “Khó nắm giữ, dao động Tâm phàm, dục chi phối Lành thay, điều phục tâm Tâm điều, hưởng an lạc”. (Kinh Pháp Cú: III. Cittavagga. Phẩm Tâm) CHÚ GIẢI: Tâm dễ dao động, nên dục lợi dụng chỗ ấy mà chi phối tâm, khiến cho tâm chạy theo ác pháp, tạo nhân chẳng lành, thọ lấy quả khổ đau từ đời này sang đời khác. Người học Phật pháp biết mọi cách thiện xảo, chế ngự, điều phục, v.v.. tâm mình. Khiến cho tâm bất động, không còn rong ruổi chạy theo sáu trần. Do đó, dục không còn điều phục được tâm nữa, nên tâm được an lạc, thanh nhàn, yên tịnh. Người làm được như vậy thật là đáng khen, đáng ca ngợi, đáng khâm phục, đáng kính trọng và tôn quý. NGƯỜI CHIẾN THẮNG LỜI PHẬT DẠY “Biết thân như đồ gốm Hộ tâm như thành trì Dẹp Ma với gươm trí Hãy giữ gìn chiến thắng Vượt ngoài mọi nhiễm ô”. (Kinh Pháp Cú: III. Cittavagga.Phẩm Tâm) CHÚ GIẢI: Thân người như đồ gốm giòn bở, dễ bể, nay còn, mai mất, như hoa phù dung sớm nở tối tàn; như bóng câu cửa sổ, như bong bóng nước… Nếu làm người không nhận ra điều này mà cứ vui chơi trong dục lạc thì phí một kiếp người chẳng có nghĩa lý gì cả. Tuy thân người giòn bở như đồ gốm, nhưng được thân người đâu phải dễ. Vì thế, câu kệ trong kinh Pháp Cú nhắc nhở chúng ta: “Biết thân như đồ gốm”, thì phải lo tu hành, sớm vượt thoát ra khỏi kiếp làm người. Muốn làm chủ sự sống chết và chấm dứt luân hồi thì phải giữ gìn sáu căn nghiêm mật giống như giữ thành trì, không cho các pháp trần bên ngoài xâm chiếm vào, “nội bất xuất ngoại bất nhập”. Tức là giữ hạnh độc cư trọn vẹn. Sống đơn độc như con tê ngưu một sừng, “Hộ tâm như thành trì”. Trong cuộc chiến đấu với giặc sanh tử, luôn luôn phải dùng trí tuệ quán xét từng tâm niệm, trong từng giây, từng phút thì mới mong chiến thắng các loại Ma chướng. Nếu không cảnh giác như vậy thì mặt trận này sẽ khó thắng mà còn thất bại ê chề: “Dẹp Ma với gươm trí”. Trong mặt trận này, trí tuệ là vũ khí hàng đầu để chiến thắng giặc sanh tử, như các bạn đã biết: Chánh kiến và Chánh Tư Duy trong Bát Chánh Đạo. Không phải là trí tuệ hay sao? Đây là hai phương pháp đầu tiên tu tập của Bát Chánh Đạo. Nó là đội quân tiên phong khai sơn phá thạch để tiến vào trận đánh Tứ Niệm Xứ. Nếu không có nó thì khó mà giữ gìn phần chiến thắng về mình: “Hãy giữ gìn chiến thắng”. Nhờ có trí tuệ Chánh Kiến và Chánh Tư Duy thì chúng ta mới ly dục, ly ác pháp; mới diệt ngã, xả tâm. Có như vậy, tâm mới vượt ra khỏi mọi sự ô nhiễm của cuộc đời. Cuộc đời là một bãi rác ô nhiễm, bất tịnh, hôi thối. THƯ HỎI ĐẠO Thư hỏi đạo của Minh Hoàng Kính gửi các vị đạo hữu ở tu viện! Trước tiên tôi vô cùng cảm ơn các vị đạo hữu đã làm trang web này phổ biến chánh pháp của đức Phật. Không biết qua trang web này tôi có thể hỏi Thầy một số điều nghi vấn không ạ! Nếu có thể rất mong các đạo hữu gửi câu hỏi của tôi đến cho Thầy, vô cùng cảm ơn các bạn. Thưa Thầy! Gần đây đại dịch cúm gà đang trở thành một mối đe dọa khủng khiếp cho toàn nhân loại, dự tính nó sẽ giết chết hằng triệu người. Vậy đây có phải là do nhân ác của loài người vẫn ăn thịt động vật không ạ, ngày nay nó quay lại tiêu diệt loài người chăng? Với đôi mắt nhân quả của Thầy, xin Thầy chỉ rõ làm thế nào có thể ngăn chặn đại dịch này, cứu giúp hằng triệu người trên thế giới. Con tin rằng nếu loài người nhận thức được về qui luật nhân quả ấy một cách khoa học, họ sẽ giảm rất nhiều các hành động ác của mình, trong đó có việc giết hại động vật. Vậy Thầy có thể bằng trí Tam Minh của mình, giúp đỡ các nhà khoa học, để họ chứng minh phần nào qui luật nhân quả không ạ! Hoặc là hiển thị thần thông giáo hóa, chỉ rõ cho loài người những tai hại, những hành động ác của mình. Vì thật ra chỉ có ít người tin vào luật nhân quả, đơn giản vì chưa có sự chứng minh xác đáng nào, họ không tìm thấy mối liên hệ giữa việc sát sinh và bị giết hại. Hơn nữa những người biết đến bộ sách ĐVXP là rất ít, nhưng nếu định luật nhân quả được đăng trên một tạp chi khoa học thì sẽ rất nhiều người biết đến, phải chăng là sẽ có ích hơn không ạ! Rất mong Thầy, bằng trí tuệ và pháp luật của một vị A La Hán, giúp mọi người hiểu rõ hơn ạ! Kính mong các đạo hữu gửi câu hỏi này đến cho Thầy giùm tôi, vô cùng cảm ơn các bạn. HỘ TRÌ CÁC CĂN Kính gửi: Minh Hoàng Thầy đã nhận được thư con, nhưng mãi đến hôm nay con và mọi người mới nhận được thư trả lời của Thầy. Thầy xin lỗi các con đã để cho các con chờ đợi, thật là một điều ngoài ý muốn của Thầy. Vì gần đây Thầy rất bận nhiều việc…, nhất là việc mở lớp đào tạo những người tu để làm chủ: sanh, già, bệnh, chết, nên phải hướng dẫn hành giả triển khai tri kiến giải thoát bằng Định Vô Lậu và còn phải kiểm tra cách thức tu tập nhiếp tâm và an trú tâm trong thân hành nội, ngoại tức là tu tập Chánh Niệm Tĩnh Giác Định. Cho nên, khi nhận được thư thưa hỏi và lời thiết tha kêu gọi Thầy cứu giúp mọi người của con, mà Thầy không trả lời được thật là phụ lòng, không những phụ lòng con mà còn phụ lòng nhiều người nữa. Nhưng quá bận việc Thầy không biết làm sao hơn, mong con cảm thông. Kính thưa các bạn! Hiện tượng đại dịch cúm gia cầm là một hiện tượng trong nhiều hiện tượng của nhân quả đang xảy ra trên hành tinh này mà loài người là nói riêng, còn tất cả chúng sanh là nói chung. Vạn vật trên hành tinh này đã và đang trả những quả ác mà chính họ đã gieo nhân không thiện, cho nên họ đã được trừng trị theo qui luật công lý, công bằng của đạo luật này. Kính thưa các bạn! Nhân quả là một đạo luật duyên hợp thành hoại của vạn vật trong vũ trụ. Vì thế, vạn vật có mặt trên hành tinh này là do các duyên hợp lại mà thành và khi vắng mặt cũng đều do các duyên tan rã mà hoại. Do duyên thành hoại nên nó rất rõ ràng, cụ thể chân thật, vì thế gọi nó là khoa học. Luật nhân quả không có một người nào đứng ra xử phạt, chỉ theo hành động thiện ác nhiều ít của mọi người mà lãnh quả khổ vui nhiều ít. Và cũng vì thế nó rất công bằng và công lý. Cho nên, nhân quả không có gì là mơ hồ, trừu tượng khó hiểu cả, nhưng vì con người không có đôi mắt chánh kiến về nhân quả nên không giải thích tường tận thâm sâu, bao la trùng điệp duyên sanh, duyên khởi, duyên diệt để giúp cho các bạn dễ hiểu đạo luật này mà thôi. Tại sao luật nhân quả công bằng và khoa học? Nhân quả công bằng là vì gieo nhân nào thì phải gặt lấy quả nấy, không thể gieo nhân này mà gặt lấy quả khác được. Phải không các bạn? Nó xác minh và chứng thực mọi sự việc xảy ra chung quanh vạn vật trong vũ trụ một cách cụ thể, rõ ràng nên rất khoa học. NHÂN QUẢ THẢO MỘC Muốn hiểu biết nhân quả như thật thì trước tiên chúng ta phải hiểu biết nhân quả thảo mộc. Vậy muốn hiểu biết nhân quả thảo mộc thì các bạn hãy hiểu nghĩa chữ nhân quả. Vậy nhân quả nghĩa là gì? Theo chữ Hán, nhân có nghĩa là hạt; quả có nghĩa là trái, ghép chung hai từ này lại thành “nhân quả” có nghĩa là “hạt và trái”. Ví dụ: Hạt ớt khi được gieo trồng lớn lên thành cây ớt, từ cây ớt ra bông kết trái cho quả ớt, nhưng quả ớt cay; hạt chanh khi được gieo trồng lên thành cây chanh, từ cây chanh ra bông kết trái cho quả chanh, nhưng quả chanh chua; hạt xoài, khi được gieo trồng, nẩy mầm lớn lên thành cây xoài. Từ cây xoài ra bông kết trái cho quả xoài, nhưng quả xoài ngọt. Trên đây là nhân quả của loài thảo mộc theo duyên hợp trùng trùng tạo thành nhân quả, nhân nào thì quả nấy rất là thiết thực cụ thể, cho nên chỉ có những người không chịu hiểu mới cho rằng không có nhân quả. Từ hạt cây đu đủ cho quả đu đủ, nhưng quả đu đủ ngọt. Cũng từ một hạt cây đu đủ cho nhiều quả đu đủ, nhưng một quả đu đủ có nhiều hạt, như vậy các bạn thấy nhân quả chưa? Một nhân không phải chỉ cho có một quả mà phải cho nhiều quả, nhưng một quả không thể có một nhân mà phải có nhiều nhân. Có đúng như vậy không các bạn? Trên đây là nói về đặc tính nhân quả cay, đắng, ngọt, bùi của loài thảo mộc và còn xác định duyên sinh khởi trùng trùng của nhân quả. Cho nên, một nhân có nhiều quả, một quả có nhiều nhân. Lấy nhân quả thảo mộc để chứng minh cho nhân quả của con người. Lấy nhân quả thảo mộc làm một bằng chứng cụ thể để các bạn không còn có một lý do gì mà bảo rằng không có nhân quả. Kính thưa các bạn! Con người cũng chỉ là một loài sinh vật sống trên hành tinh này như bao nhiêu loài khác, nên đều chịu chung số phận của qui luật nhân quả. Và trên hành tinh này cũng không có một loài vật nào thoát ra khỏi qui luật này. Trên hành tinh này mọi vật gồm có từ cây cỏ thảo mộc cho đến những loài động vật đều có một sự sống bình đẳng như nhau. Có một sự sống bình đẳng như nhau thì phải theo qui luật nhân quả điều hành. Nhưng loài động vật trong đó có loài người vì vô minh không hiểu biết chạy theo lòng ham muốn tạo nhiều điều ác độc nên tự làm mất đi sự sống bình đẳng, vì thế mới có kẻ sang người hèn; mới có kẻ giàu người nghèo v.v.. Và do đó, mới có duyên sinh hợp của nhân quả vạn trạng thiên hình, và cũng vì vậy mà duyên tan hoại cũng thiên hình vạn trạng. Vì thế, vạn vật sinh diệt liên tục trùng trùng điệp điệp theo nhân ác, còn ngược lại theo nhân thiện vô lậu thì sinh diệt chấm dứt. Như đức Phật đã dạy: “Sinh diệt diệt rồi tịch diệt là vui”. NHÂN QUẢ CON NGƯỜI Nhân quả của con người không khác gì nhân quả của loài thảo mộc, cũng cụ thể, rõ ràng, xác thực. Nó trừu tượng, nhưng không mơ hồ, ảo tưởng, không thiếu chứng thực, không thiếu khoa học. “NHÂN” của con người là hành động thân, khẩu, ý. Hành động thân, khẩu, ý là nguyên nhân để sinh ra mọi điều thiện, ác. “QUẢ” của con người là kết quả, là thọ chịu, là nhận lấy những cảm nhận vui buồn, khổ đau, phiền não, bệnh tật, tai nạn, tật nguyền v.v.. Như trên đã nói: Nhân quả của con người không khác gì nhân quả của loài thảo mộc. Vì con người là một sinh vật sống như các loài sinh vật khác trên hành tinh này nên đều bị chi phối theo luật nhân quả như nhau. Một nhân có nhiều quả, một quả có nhiều nhân. Cho nên, một hành động ác thì phải chịu nhiều quả khổ, những quả khổ ấy diễn biến theo các thời gian quá khứ, hiện tại và vị lai. Ví dụ: Các bạn mắng chưởi một người nào đó thì trong quá khứ các bạn đã tức giận hay thù oán người đó. Vì có tức giận hay thù oán các bạn mới chưởi mắng người khác được. Tức giận là QUẢ QUÁ KHỨ, nhưng đang chưởi người là NHÂN HIỆN TẠI. Khi người bị các bạn chưởi mắng lấy cây đánh các bạn; các bạn bị đánh đó là QUẢ VỊ LAI. Vì vậy, nhân quả luôn có mặt trong ba thời: quá khứ, vị lai và hiện tại, nó tiếp diễn trùng trùng duyên khởi, trùng trùng duyên sanh và trùng trùng duyên diệt. Đó là một nhân có nhiều quả và một quả có nhiều nhân. Vì thế, lý nhân quả duyên khởi, duyên sanh, duyên diệt rất cụ thể, rõ ràng mà không ai dám phủ nhận rằng không có nhân quả. Chỉ trừ những người sống ảo tưởng thần thánh hóa một đấng siêu hình tối cao có vạn năng sinh ra vạn vật thì mới không chấp nhận nhân quả. Bởi vì chấp nhận nhân quả thì làm sao có đấng tối cao ấy được. Phải không các bạn? Nhân quả còn là một đạo luật rất công bằng, công lý trong môi trường sống trên hành tinh này như trên đã nói. Trên thế gian này không có một tòa án nào xử phạt công bằng, công lý hơn được. Vì đạo luật nhân quả xử phạt theo thiện ác của mọi người, mọi loài sống trên hành tinh này. Một hành động ác là một nhân, nhưng một nhân không thể có một quả. Các bạn nên xem xét lại nhân quả thảo mộc thì sẽ rõ. Một hạt đu đủ lên thành cây, khi cây cho trái không thể cho một trái mà cho nhiều trái. Phải không các bạn? Một người ăn cắp khi bị bắt người ta không đánh một bạt tai mà đánh nhiều bạt tai và còn bị nhiều đấm, đá khác nữa. Đó là một nhân mà có nhiều quả. Một quả mà có nhiều nhân như trái đu đủ. Các bạn có lưu ý quả đu đủ chưa? Trong quả đu đủ có nhiều hạt đấy các bạn ạ! Xét nhân quả thảo mộc và con người thì không khác nhau. Vì nhân quả là một định luật chung cho vạn vật trên hành tinh này nên một nhân ăn cắp mà phải nhận lãnh nhiều quả bị đánh đập không sao kể hết và mỗi hành động bị đánh đập liền phóng xuất ra những từ trường ác ấy. Do những từ trường ác này tương ưng những ai có tâm trộm cắp như vậy thì hợp duyên làm con của những người này. Mỗi hành động bị đánh đập là một nhân, một nhân sẽ thành một con người gian tham trộm cắp. Xét theo luật nhân quả thì một người làm ác khi chết không phải sinh ra một người ác mà sinh ra nhiều người ác. Một hành động giết hại và ăn thịt chúng sanh tức là một nhân ác. Một nhân ác thì phải trả nhiều quả khổ. Vì thế, quả giết hại và ăn thịt chúng sanh thì phải nhận lấy quả khổ đau bệnh tật, nhiều thứ bệnh tật, chứ không phải một thứ bệnh tật và còn tai nạn nữa, không phải một tai nạn mà nhiều tai nạn không thể tính hết được. Trong những quả khổ đau ấy lại có những nhân từ trường nghiệp ác để tiếp tục tái sinh ra những loài vật đã bị giết hại và ăn thịt. Cho nên, một người ăn thịt gà là nhân, nhưng nhân ăn thịt gà này không phải sinh làm một con gà mà sinh ra nhiều con gà; cũng như ăn cá tôm thì phải sinh làm cá tôm nhưng không phải một con cá tôm mà nhiều con cá tôm. Giết hại và ăn thịt chúng sanh bao nhiêu thì phải sinh ra bấy nhiêu và còn nhiều hơn nữa. Vì thế, trại nuôi gia súc và ao hồ nuôi cá tôm phát triển càng nhiều để đáp ứng nhu cầu ăn uống dục lạc của con người thì nghiệp ác của họ càng cao. Nghiệp ác của họ càng cao thì sự sinh khởi diệt nghiệp quả ác báo này lại càng cao hơn. Nhưng nghiệp quả ác báo này không thể dừng lại đây, vì nhân quả ác ngút trời của loài động vật, nhất là loài người. Vì thế, từ trường ác thải ra ngút trời làm nhân quả thời tiết vũ trụ chuyển động thành thiên tai, hỏa hoạn, lũ lụt, sóng thần, động đất, bão tố, chiến tranh, khủng bố, các loại bệnh nhất là dịch cúm gia cầm, chim muông, heo, dê, bò, ngựa v.v.. Cho nên, dịch cúm gia cầm chỉ là một hiện tượng nhân quả duyên tan hoại của nhiều hiện tượng nhân quả duyên tan hoại đang xảy ra trên hành tinh này. Nếu con người không biết chấm dứt những hành động cực ác giết hại và ăn thịt chúng sanh không có một chút lòng yêu thương thì thế gian này còn nhiều khổ đau nữa… Với tấm lòng yêu thương sự sống của con người, trước cảnh đại dịch cúm gia cầm Minh Hoàng có ý muốn nhờ trí tuệ Tam minh của Thầy để soi sáng giúp các nhà khoa học chứng minh nhân quả bằng khoa học để mọi người không còn làm điều ác nữa; để mọi người thoát khỏi cảnh chết thương đau; để mọi người sống được bình an, hạnh phúc. Với lòng yêu thương sự sống của con người, trước cái chết dịch cúm gia cầm Minh Hoàng không biết làm sao hơn, đành phải kêu gọi Thầy thị hiện thần thông giáo hóa, chỉ rõ cho loài người những tai hại của những hành động ác của mình. Minh Hoàng một con người với lòng hiếu sinh ấy thật đáng cho mọi người kính mến và yêu thương. Thầy cảm thông được lòng yêu thương mọi người của Minh Hoàng. Thầy không dùng trí tuệ Tam Minh và thần thông giáo hóa, vì đó là ngoài vấn đề chủ trương đạo đức của Phật giáo, nên Thầy dùng tri kiến của một người đã vượt qua nhân quả. Thầy viết thư này gửi đến mọi người để những ai có đủ duyên được đọc, nhờ đó mới có đủ lòng tin nhân quả thì mới sống đúng đạo đức không làm khổ mình, không làm khổ người và không làm khổ tất cả chúng sanh. Trước thảm cảnh cái chết la liệt của con người đã xảy ra trên hành tinh này theo qui luật của nhân quả thiện ác. Thầy tha thiết kêu gọi mọi người hãy hướng về đức Phật, một ân nhân của loài người, Ngài đã để lại cho loài người một chương trình giáo dục đào tạo đạo đức nhân bản – nhân quả, để giúp cho con người vượt lên nhân quả sống toàn thiện. Đức Phật ra đời, sau khi tu hành chứng đạt chân lí, Ngài thấy qui luật nhân quả đang điều hành vũ trụ một cách trật tự, công bằng. Đó là một sự thật nhưng con người quá vô minh không thấy, không hiểu biết, nên lầm lạc đi trong vòng qui luật khổ đau này. Muốn con người thoát khổ, ra khỏi qui luật này, nên lời nói pháp đầu tiên của đức Phật, đã xác định chân lí Tứ Diệu Đế. Chân lí Tứ Diệu Đế là một sự thật chỉ thẳng kiếp làm người là khổ, là nguyên nhân sinh khổ, là trạng thái hết khổ, là chương trình giáo dục đào tạo đạo đức nhân bản - nhân quả sống không làm khổ mình, không làm khổ người và không làm khổ tất cả chúng sanh. Đó là một bài pháp giúp cho mọi người hiểu biết về nhân quả. Có hiểu biết về nhân quả thì mới biết hành động nào thiện, hành động nào ác. Biết hành động nào thiện, hành động nào ác thì mới chuyển hóa được nhân quả. Chuyển hóa được nhân quả là vượt ra khỏi qui luật nhân quả tức là làm chủ nhân quả nghiệp báo. Tất cả những hành động này là một sự thật không có gì mơ hồ, ảo tưởng. Kính thưa các bạn! Con người vì vô minh không thấy, không biết nguyên nhân sinh ra muôn vàn sự khổ đau chính là lòng ham muốn của các bạn. Do lòng ham muốn mà con người mới có những hành động thiện ác. Có những hành động thiện ác thì phải nhận lấy những quả khổ vui của những hành động đó. Đấy là vô minh không hiểu, không biết mà các bạn đi theo qui luật của nhân quả. Các bạn có biết không? Biết rõ như vậy nên đức Phật dạy chúng ta: “Chư ác mạc tác, chúng thiện phụng hành” hoặc “Ngăn ác diệt ác pháp, sinh thiện tăng trưởng thiện pháp”. Nhưng muốn không làm điều ác, luôn luôn làm điều thiện hoặc luôn luôn ngăn ác diệt ác pháp, sinh thiện tăng trưởng thiện pháp thì phải tham dự tu học tám lớp “ĐẠO ĐẾ” tức là “BÁT CHÁNH ĐẠO” theo đúng chương trình giáo dục đào tạo ba cấp “GIỚI, ĐỊNH, TUỆ” của Phật giáo. Khi tốt nghiệp xong ba cấp tu học ấy, các bạn sẽ trở thành một con người có đạo đức đầy đủ sống không làm khổ mình, không làm khổ người và không làm khổ tất cả chúng sanh. Và như vậy thế gian này trở thành Thiên đàng, Cực lạc, thì dịch cúm gia cầm và thiên tai, lũ lụt, sóng thần, động đất, hỏa hoạn, thủy tai làm sao còn nữa. Phải không các bạn? Trong thư con hỏi: “Với đôi mắt nhân quả của Thầy, xin Thầy chỉ rõ làm thế nào có thể ngăn chặn đại dịch này, cứu giúp hằng triệu người trên thế giới. Con tin rằng nếu loài người nhận thức về qui luật nhân quả ấy một cách khoa học, họ sẽ giảm rất nhiều các hành động ác của mình”. Muốn cứu giúp mọi người thoát khỏi làn sóng đại dịch cúm gia cầm và những thiên tai, lũ lụt, động đất, sóng thần, bão tố v.v.. thì chỉ có mọi người phải thông hiểu nhân quả. Chính thông hiểu nhân quả, nên mọi người phải tự cứu mình bằng cách ngưng bàn tay ác độc giết hại chúng sanh, ngưng sự sống ác độc nhẫn tâm đối với sự sống của các loài vật khác và ngưng ăn thịt chúng sanh tức là phải sống theo sự hướng dẫn của ĐẠO ĐỨC NHÂN BẢN – NHÂN QUẢ. Thứ nhất là họ phải sống “Chánh tri kiến”. Vậy sống Chánh tri kiến như thế nào? Sống Chánh tri kiến là phải thấy đúng mọi hoàn cảnh, mọi sự việc, mọi đối tượng thường xảy ra đều thấy đúng là nhân quả thiện ác. Thứ hai là phải sống “Chánh tư duy”. Vậy sống Chánh tư duy như thế nào? Sống Chánh tư duy tức là sống suy tư mọi hoàn cảnh, mọi sự việc, mọi đối tượng đều phải tư duy, suy nghĩ nó là nhân quả thiện ác. Thứ ba là họ phải sống “Chánh ngữ”. Vậy sống Chánh ngữ như thế nào? Sống Chánh ngữ tức là sống dùng lời nói thiện không được nói lời nói ác, nói lời nói không làm khổ mình, không làm khổ người và không làm khổ cả hai. Thứ tư là họ phải sống “Chánh nghiệp”. Vậy sống Chánh nghiệp như thế nào? Sống Chánh nghiệp tức là sống không làm sáu nghề nghiệp ác, thường dùng những hành động không làm khổ mình, không làm khổ người và không làm khổ cả hai. Thứ năm là họ phải sống “Chánh mạng”. Vậy sống Chánh mạng như thế nào? Sống Chánh mạng tức là sống không làm khổ mình, không làm khổ người và không làm khổ cả hai. Sống không nuôi dưỡng thân mạng bằng máu thịt chúng sanh, bằng sự đau khổ của loài vật khác, của người khác. Thứ sáu là họ phải sống “Chánh tinh tấn”. Vậy sống Chánh tinh tấn như thế nào? Sống Chánh tinh tấn tức là sống siêng năng tinh cần hằng ngày từng phút từng giây không làm khổ mình, không làm khổ người và không làm khổ cả hai tức là ngăn ác diệt ác pháp, sanh thiện tăng trưởng thiện pháp. Thứ bảy là họ phải sống “Chánh niệm”. Vậy sống Chánh niệm như thế nào? Sống Chánh niệm tức là sống giữ gìn tâm thanh thản, an lạc và vô sự. Tất cả những chướng ngại pháp tác động vào thân tâm họ đều được đẩy lui bằng pháp Như lý tác ý trên Tứ Niệm Xứ Thứ tám là họ phải sống “Chánh định”. Vậy sống Chánh định như thế nào? Sống Chánh định tức là sống bất động tâm trước các pháp ác và các cảm thọ. Kính thưa các bạn! Với đôi mắt của người chứng đạt chân lí thì nhìn thấy nhân quả là thật, nó giống như xem chỉ trong lòng bàn tay của mình vậy. Còn các bạn với đôi mắt bị hạn chế không gian và thời gian nên không thể thấy rõ như vậy. Vì thế, Thầy phải dùng nhân quả thảo mộc để chỉ cho các bạn nhận thấy cụ thể rõ ràng nhân quả là một sự thật chứ không phải tưởng tượng. Tin hay không tin đó là quyền của các bạn, nhưng Thầy biết rằng các bạn đang bị luật nhân quả điều khiển, nói cách khác các bạn là những người nô lệ của nhân quả. Nếu các bạn không chịu cỡi bỏ ách nô lệ thì muôn đời ngàn kiếp phải làm thân nô lệ cho nhân quả mãi mãi. Cuối cùng Thầy có lời thăm con được mạnh khỏe an khương. Kính thư Thầy của con KINH DUY MA CẬT Câu hỏi của Tuệ Hạnh, một Phật tử TPHCM Hỏi: Kính thưa Thầy! Kinh Duy Ma Cật ca ngợi pháp môn Bất Tư Nghì giải thoát. Chẳng hay pháp môn đó cao thâm như thế nào mà người trí nghe thì phát tâm vô thượng Bồ Đề, Bồ Tát nghe thì hân hoan tiếp nhận, còn hàng Thanh Văn nghe thì không hiểu rõ khóc rống lên “khóc cho vang động cả 3000 cõi đại thiên thế giới”? (trích ý mục 4 kinh Duy Ma Cật trang 153). Đáp: Pháp môn Bất Tư Nghì là một pháp môn tưởng của Đại Thừa, do các Tổ tu tập thiền sai pháp, lạc vào thiền tưởng, nên tuệ tưởng phát triển, từ đó các Tổ triển khai tưởng tuệ. Vì thế, các pháp tưởng được thành lập trong kinh sách Đại Thừa. Trong những pháp tưởng đó có pháp môn Bất Tư Nghì. Khi đạt được tưởng giải này các Tổ thấy sự hiểu biết của mình hơn cả Phật, nên dùng các pháp tưởng ấy bài bác chánh pháp của đức Phật bằng cách lý luận siêu tưởng để diệt Phật giáo. Cho nên, Kinh Duy Ma Cật là một tác phẩm trong những tác phẩm của Đại Thừa, ra đời là nhằm mục đích thực hiện ý đồ thâm độc để diệt giáo lý của của Phật giáo. Đây các bạn lắng nghe ông Duy Ma Cật giới thiệu pháp môn Bất Tư Nghì: 1- Kinh Duy Ma Cật dạy: “Thiền giả không dính mắc Tam Giới và thân tâm vẫn sinh hoạt mới là ngồi thiền”. Lời dạy này đúng là lời dạy không nghĩ bàn được, vì đó là tưởng giải ra bất tư nghì nên vô nghĩa khiến cho ý thức không suy nghĩ được (vô phân biệt). Có thể nói lời dạy này vô lý. Vậy Tam giới các bạn có hiểu biết nghĩa của nó là gì không? Theo các nhà Đại Thừa hiểu Tam giới là ba cõi giới (cảnh giới). Sự hiểu như vậy là hiểu theo tưởng giải. Hiểu ba cõi giới là hiểu ba cõi ảo tưởng các bạn ạ! Cho nên, kinh sách Nguyên Thủy Phật dạy Tam giới nghĩa lý như thật không mơ hồ ảo tưởng: “Tam giới tức là ba trạng thái trong thân tâm của con người”. Ba trạng thái trong thân tâm của con người gồm có: Dục giới Sắc giới Vô sắc giới Dục giới chỉ cho trạng thái ham muốn của con người. Sắc giới chỉ trạng thái của cơ thể con người. Vô sắc giới chỉ cho trạng thái tưởng của con người. Ba cõi tức là ba trạng thái của một con người. Ba trạng thái trong một con người, nên con người thường luân chuyển sống trong ba trạng thái này, không lìa rời nhau, không xa nhau nửa bước, lúc thì ở trạng thái này, lúc thì ở trạng thái kia, cho nên kinh dạy: “Luân hồi trong ba cõi”. Bởi kinh Duy Ma Cật dạy câu trên đây không bao giờ thực hành được. Không bao giờ thực hành được là vì một con người mà không ở trong Tam Giới thì ở đâu? Sinh ra làm người thì lúc nào cũng ở trong Tam Giới. Ở trong Tam Giới thường sinh hoạt mà nói rằng không dính mắc là không đúng. Chữ dính mắc của Duy Ma Cật dùng ở đây không đúng nghĩa. Tại sao vậy? Chữ dính mắc phải được thay thế bằng chữ: “Ác pháp không tác động”. Vì thế, câu này phải được viết lại: “Thiền giả sống trong Tam Giới thân tâm vẫn sinh hoạt bình thường mà dục và ác pháp không tác động”. Cho nên, ba trạng thái này bảo rằng con người không dính mắc là không đúng nghĩa. Vì ba trạng thái này là ba trạng thái của một con người, chứ không phải ba trạng thái là ba cõi như các nhà Đại Thừa hiểu. Đức Phật đã xác định: “Không có cõi giới siêu hình thật mà các cõi giới siêu hình chỉ là cõi tưởng (tưởng tri chứ không phải liễu tri)”. Lời dạy trong kinh Duy Ma Cật nghĩa lý không rõ ràng, chứng tỏ ông Duy Ma Cật tưởng giải theo nghĩa lý của kinh sách Đại Thừa, chứ chẳng có gì mới mẻ cả. Đó là một loại thiền tưởng của ngoại đạo. Phật giáo Nguyên Thủy không có những loại thiền này. Cho nên, lời nói của ông Duy Ma Cật không có giá trị tu hành làm chủ sanh, già, bệnh, chết, chỉ là lời nói suông mà thôi, dạy mà không có pháp hành: “Thiền giả không dính mắc Tam Giới và thân tâm vẫn sinh hoạt mới là ngồi thiền”. 2- Duy Ma Cật dạy: “Sinh hoạt trong bốn oai nghi như bình nhật mà không rời Diệt Tận Định”. Kính thưa các bạn! Duy Ma Cật hiểu Diệt Tận Định như thế nào mà dám bảo: “Sinh hoạt trong bốn oai nghi như bình nhật mà không rời Diệt Tận Định”. Cư sĩ Duy Ma Cật dám nói câu này chính là cư sĩ đã lộ sự vô minh của mình cho người khác biết, giống như người vạch lưng cho xem thẹo. Vậy Diệt Tận Định nghĩa là gì? Diệt Tận Định là một loại thiền định bất động cả thân lẫn tâm. Vì thiền này diệt các cảm thọ và các tưởng như vậy thân ngồi bất động. Thân ngồi bất động thì làm sao sinh hoạt trong bốn oai nghi được. Phải không các bạn? Có lẽ ông Duy Ma Cật không hiểu thiền Diệt Thọ Tưởng Tận Định là gì? Nên đã nói theo kiểu tưởng giải của mình để gọi là pháp môn Bất Tư Nghì. Như vậy pháp môn Bất Tư Nghì chỉ là lời nói “xạo”, nói dối, nói như mình hay nhưng kỳ thực là lời nói xảo ngôn, nói lừa đảo lường gạt người. Như vậy ở đời ai nói một việc gì vô lý là pháp môn Bất Tư Nghì hết sao!? Chỉ có những người vô minh mới ca ngợi những lý luận ảo tưởng đó. Người có minh thì không bao giờ chấp nhận. Cho nên, 62 luận thuyết của ngoại đạo Bà La Môn thời bấy giờ đức Phật không chấp nhận và đã bác sạch những lý luận đó. Những lý luận của Bà La Môn là những lý luận tưởng. Những gì ông Duy Ma Cật đã dạy trong kinh Duy Ma chỉ là nhai lại bã mía của kinh sách Đại Thừa và Thiền Tông chẳng có gì mới mẻ cả. 3- Duy Ma Cật dạy: “Làm mọi việc như kẻ phàm phu mà không sao lãng đạo pháp”.Lời dạy như vậy có đúng không thưa các bạn? Lời dạy như vậy chỉ là những lời dạy cho những người bị bệnh tưởng, những kẻ đồng bóng, chứ những người bình thường thì không ai tin lời dạy này, vì làm mọi việc như kẻ phàm phu mà không sao lãng đạo pháp thì chẳng có ai làm được. Lời dạy này không thể sống và tu tập được. Lời dạy này không thể sống và tu tập được là pháp môn Bất Tư Nghì ư! Vậy thì pháp môn Bất Tư Nghì của ông Duy Ma Cật để làm gì? Có ích lợi gì cho đời? Nói để tranh hơn thua cao thấp với những người khác ư!?: “Đây là pháp môn không thể nghì bàn không có pháp nào cao hơn được”. Pháp môn như vậy chỉ là lời nói lừa đảo người khác mà thôi. Ai cũng ca ngợi kinh Duy Ma Cật nhưng có ai tu tập được như kinh Duy Ma Cật dạy chưa? Kinh Duy Ma Cật là kinh vọng ngữ, kinh nói không đúng sư thật. Trong khi kinh sách Phật giáo dạy những gì đều đúng như thật nên giáo pháp của Phật được gọi là Chân lý. Cho nên, bài pháp đầu tiên của Đức Phật gọi là Tứ Diệu Đế. Tứ Diệu Đế tức là bốn sự thật của loài người. Phật không lừa đảo con người, từ bỏ sự giàu sang danh lợi, còn Tổ chuyên lừa đảo người khác để cất chùa to Phật lớn làm giàu trên mồ hôi nước mắt của người Phật tử. Như các bạn đã biết Phật pháp là phải lìa tâm dâm dục, thế mà sống trong tâm dâm dục lại không lìa Phật pháp. Lời dạy như vậy các bạn cứ suy ngẫm có đúng không? Hay ông Duy Ma Cật là một người trí óc bất ổn. Phải không các bạn? 4- Duy Ma Cật dạy: “Tâm không cột vào trong cũng không tản mạn ra ngoài mới là ngồi thiền”. Câu này ông Duy Ma cật dạy đúng nghĩa theo Phật giáo Nguyên Thủy. Khi tâm không phóng dật thì tâm không cột vào trong và cũng không tản mạn ra ngoài như vậy câu này đâu phải là pháp môn Bất Tư Nghì. Vì lời dạy này còn nghĩ bàn được, phải không các bạn? Còn nghĩ bàn được thì đâu được gọi là pháp môn Bất Tư Nghì. Như vậy rõ ràng lời dạy của ông Duy Ma Cật không nhất quán, tự nó mâu thuẩn với nhau. Có đúng không các bạn? Như vậy, bộ kinh Duy Ma Cật chỉ là một bộ kinh góp nhặt cát sạn của Đại Thừa mà bài bác vàng bạc châu báu của Phật giáo Nguyên Thủy thì làm sao bài bác được, chỉ có những người lọt vào tưởng tuệ nên mới chấp nhận những pháp môn ảo tưởng đó, chứ người có trí hiểu biết một chút thì không bao giờ chấp nhận. Xem bộ kinh Duy Ma Cật như một bộ môn tiểu luận lừa đảo. Các bạn nên đọc lại lời dạy này: “Tâm không cột vào trong cũng không tản mạn ra ngoài mới là ngồi thiền”. Câu này mang đầy đủ ý nghĩa giải thoát của đức Phật, khi Ngài thành Chánh giác đã tuyên bố như sau: “Ta thành chánh giác là nhờ tâm không phóng dật”. 5- Duy Ma Cật dạy: “Trước bao nhiêu tà kiến, bao nhiêu dị thuyết, bao nhiêu chuyện mê tín hoang đường mà tâm không lay động, không bị mê hoặc cám dỗ xiêu lòng vững tâm trong 37 phẩm trợ đạo…” Câu này dạy đúng có ý nghĩa suy tư đầy đủ của tâm bất động thiền định như vậy câu này đâu phải là pháp môn bất tư nghì. Phải không các bạn. Câu này có ý nghĩa tâm bất động trước các pháp ác và các cảm thọ. 6- Duy Ma Cật dạy: “Không khởi tâm đoạn trừ phiền não mà vẫn có Niết Bàn mới là ngồi thiền”. Bản chất con người là phiền não, đó là chân lý thứ nhất (Khổ đế) mà đức Phật đã xác định. Đoạn trừ phiền não là chân lý thứ tư (Đạo đế), nếu không đoạn trừ phiền não thì làm sao có Niết Bàn. Còn Niết Bàn là chân lý thứ ba (Diệt đế). Cho nên câu: “Không khởi tâm đoạn trừ phiền não mà vẫn có Niết Bàn mới là ngồi thiền”. Nếu ai đã học về bốn chân lý của Phật giáo thì đọc câu này các bạn sẽ có cảm nhận về ông Duy Ma Cật là người kiến giải chứ chưa có thực hành tu tập. Vì thế, ông chưa hiểu Niết Bàn của Phật giáo, ông chỉ hiểu Niết Bàn của ngoại đạo. Niết Bàn của ngoại đạo là một cảnh giới siêu hình. Niết Bàn có nghĩa là không có phiền não không phiền não tức là Niết Bàn. Cho nên, câu nói của ông Duy Ma Cật dường như Niết Bàn và phiền não là hai. Ý của Ông nói cứ để phiền não bình thường, không cần đoạn trừ phiền não mà vẫn có Niết Bàn. Xin lập lại câu nói của Ông: “Không khởi tâm đoạn trừ phiền não mà vẫn có Niết Bàn”. Vì thế, ông Duy Ma Cật cho Niết Bàn là một cảnh giới siêu hình ở đâu chứ không phải chỗ tâm không phiền não. Hiểu như ông Niết Bàn là một cảnh giới của chư Phật, chứ không phải là một trạng thái của tâm con người. Các bạn lắng nghe chân lí thứ ba của Phật giáo là một trạng thái tâm con người không còn tham, sân, si. Không còn tham, sân, si mới gọi là diệt đế. Diệt tức là diệt hết sự đau khổ phiền não. Hiểu Phật giáo như ông Duy Ma Cật là hiểu Phật giáo theo nghĩa của Bà La Môn, hiểu theo nghĩa của thế giới siêu hình. VÔ SỞ ĐẮC Câu hỏi của Tuệ Hạnh Hỏi: Kính thưa Thầy! Trưởng giả Duy Ma Cất dạy Mục Kiền Liên: “Luận đến chỗ cứu kính của vấn đề thuyết pháp thì người nói không nói gì hết, không phô bày gì hết. Người nghe không nghe gì hết và không được có một sở đắc nào. Ví như ảo thuật sư làm ra người ảo, người ảo lại nói chuyện ảo. Phải xác lập ý thức kiên định như thế rồi mới thuyết pháp…; phải biết căn tánh chúng sanh lợi hay độn…; phải lấy tâm đại bi mà khen ngợi Đại thừa”. Con thấy Duy Ma Cật lý luận lòng vòng cuối cùng cũng trở về lối thuyết pháp vô ngôn của Đại thừa cũng giống như chuyện đức Phật niêm hoa ngài Đại Ca Diếp vi tiếu trên đại linh sơn, nối tiếp chánh pháp của Phật. Thầy có thể giảng giải cho hàng sơ học như chúng con hiểu phần nào về lối thuyết pháp không nói không nghe này được không Thầy? Đáp: Lối thuyết pháp không lời có ai còn lạ gì Thiền Tông Trung Hoa: “Bất lập văn tự Giáo ngoại biệt truyền. Chỉ thẳng tâm người. Kiến tánh thành Phật” Có ai còn lạ gì Lão Trang: “Đạo khả đạo phi thường đạo. Danh giả danh phi thường danh”. Phải không các bạn? Duy Ma Cật là một nhà nghiên cứu tập họp những tư tưởng của Phật, Lão, Nho và Bà La Môn thành lập một giáo lý Tối Thượng thừa. Cho nên, câu chuyện niêm hoa trên núi Linh Thú, Tổ Ca Diếp mỉm cười… là khởi đầu cho những trang giả sử 33 vị Tổ Sư thiền Ấn Độ và Trung Hoa, với mục đích là quét sạch Phật giáo Nguyên thủy ra khỏi tư tưởng tín đồ. Vì thế, Bồ Đề Đạt Ma dạy: “giáo ngoại biệt truyền, bất lập văn tự, chỉ thẳng tâm người, kiến tánh thành Phật”. Đó là ý đồ diệt Phật giáo đã hiện nguyên hình trong kinh Bất Tư Nghì mà nhân vật chính là ông Duy Ma Cật. Kinh sách Thiền Tông đều mang tư tưởng Lão Trang. Tư tưởng này xuất phát nơi đất nước Trung Hoa. Vì thế mới tưởng tri sinh ra 1700 công án trên giáo pháp thiền để thay thế kinh sách Nam Tông, chứ không phải kinh sách Bắc Tông, để chỉ thẳng tâm người, kiến tánh thành Phật. Đó là lối dạy để diệt ý thức “vô phân biệt” làm cho ý thức tê liệt “Chẳng niệm thiện niệm ác”. Các thiền sư tưởng giải “Chẳng niệm thiện niệm ác” là thành Phật, là giải thoát nơi đó, là hết tham, sân, si, nhưng sự thật đó chỉ là một ảo tưởng Phật tánh. Đức Phật đâu có dạy kỳ lạ như vậy, đâu có dạy tu để làm Phật, đâu có dạy tu để nhập thiền định; đâu có dạy tu để có Tam Minh, lục thông; đâu có dạy tu ngồi thiền ba bốn tiếng đồng hồ; đâu có dạy tu để cầu vãng sanh Cực Lạc Tây Phương; đâu có dạy tu tập để nhập vào cảnh giới Niết Bàn; đâu có dạy tu để lại nhục thân, xá lợi; đâu có dạy cúng bái tụng niệm cầu siêu, cầu an, cầu tài, cầu lợi, cầu cho biết ngày, biết giờ chết; đâu có dạy lạy lễ hồng danh sám hối để tiêu tai, giải nạn, để được phước báu nhân thiên và để ngồi thiền hết vọng tưởng. Chính giáo pháp của đức Phật chỉ dạy tu tập để làm chủ sanh, già, bệnh, chết. Đó là mục đích chân chánh của đạo Phật giúp cho loài người thoát khổ, chứ không phải đạo Phật ra đời để hướng dẫn cho mọi người tu tập để thành Phật, để thành Thánh. Thiền Tông và Đại Thừa đã hiểu sai mục đích của đạo Phật nên mới lừa đảo người khác bằng những lời nói “Vô sở đắc”, nếu có ai nói tu có chứng, có đắc là gạt ngang “chẳng có chứng đắc gì cả”. Cho nên, ông Duy Ma Cật chỉ lập lại những ý nghĩ tư tưởng vô phân biệt: “Luận đến chỗ cứu cánh của vấn đề thuyết pháp thì người nói không nói gì hết, không phô bày gì hết, người nghe không nghe gì hết và không được có một sở đắc nào”. Thiền tông đã truyền thừa bắt đầu tại nước Trung Hoa khởi xướng từ Bồ Đề Đạt Ma và phát triển rộ nở từ Lục Tổ Huệ Năng. Nhưng loại thiền này là thiền miệng, thiền la, thiền hét, thiền đánh, thiền thoi và luôn luôn vấn đáp công án nghe thật kêu, nhưng thực chất tu hành không có giải thoát, chỉ rơi vào thiền tưởng ngôi lim dim như thi ma người chết, họ cứ tưởng đó là “Phật tánh”. Biết bao nhiêu người bỏ công sức tu hành, cuối cùng cũng chẳng ra gì chỉ an trú trong một trạng thái tưởng không niệm. Cho nên thiền sư Thường Chiếu bảo: “Đó là bọn đại bịp”. Trước khi tịch tổ Pháp Loa bệnh đau rên: Hừ! Hừ!!! Thấy thế Huyền Quang hỏi: Sao Hòa Thượng rên? Gió thổi qua khe trúc Tu hành không làm chủ bệnh nên khéo trả lời che đậy “Gió thổi qua khe trúc”, câu trả lời thật là tuyệt vời bưng bít. Thiền tông đã truyền thừa được sáu đời tại Trung Hoa từ Bồ Đề Đạt Ma đến Lục Tổ Huệ Năng và từ đây Thiền Tông phát triển theo kiểu biến dạng thành Tịnh Độ Tông, vì tu thiền không kết quả. Do đó, Tổ Thiền Tông Tuệ Viễn thành lập Liên Trì Thư Xã sớ giải kinh Tịnh Độ. Đó là một hiện tượng báo động cho biết Thiền Tông tu hành chẳng đến đâu nên mới sinh ra pháp môn Tịnh Độ. Thiền tông phát triển đến thiền công án và tham thoại đầu là con đường thiền chấm dứt, không còn phương thế nào phát triển hơn nữa được. Khi phát triển đến mức độ không còn phát triển được nữa thì lại sinh ra một hệ phái khác: Tịnh Độ Tông, Mật Tông, Pháp Hoa Tông. Tất cả các hệ phái này đều là con đẻ của Thiền Tông. Cho nên, kinh sách Đại Thừa là kinh sách phát triển theo kiến giải, tưởng giải của giáo pháp Bà La Môn Ấn Độ, của Thiền Tông Trung Hoa. Các Tổ Sư Thiền Tông Trung Hoa rất khôn khéo, vì biết chắc tín đồ không tin ở họ nên soạn kinh, viết sách đều gán cho Phật thuyết. Đó là có ý đồ lừa đảo Phật tử bằng cách dùng thuật ngữ “Thiền giáo đồng hành”, có nghĩa là lấy giáo tức là lời dạy của Phật làm niềm tin cho thiền. Khi Bồ Đề Đạt Ma sang Trung Hoa đã tuyên bố: “Giáo ngoại biệt truyền. Bất lập văn tự. Chỉ thẳng tên người. Kiến tánh thành Phật”. Vì thế, Bồ Đề Đạt Ma diện kiến vua Lương Võ Đế. Nhà vua hỏi: “- Ai đang ở trước mặt Ta”. Bồ Đề Đạt Ma trả lời: “Không biết” nên bị vua Lương Võ Đế sai lính hầu đánh gãy răng, và thả Ông ra, cấm không cho truyền tà đạo (đạo không đúng đạo Phật), từ đó Bồ Đề Đạt Ma lên núi nhập thất, mai danh ẩn tích 9 năm. Người ta gọi ông là ông Bà La Môn ngồi nhìn vách đá chín năm. “Diện bích cửu niệm Đấng ngộ Bồ Đề. Dữ Chân Bồ Tát Tề thành chánh giác”. Cho nên, kinh Duy Ma Cật chỉ là một lập luận Phật tánh của Thiền Tông Trung Hoa, chứ không có gì mới mẻ cả. PHỤ LỤC KHI NÓI, VIẾT PHẢI BÌNH TÂM SUY NGHĨ CHO KỸ Bài viết của Diệu Quang Hằng ngày, tôi thường mở hộp thư trên mạng để đọc thư các bạn bốn phương gửi về tu viện Chơn Như. Hôm nay, tôi nhận được nhiều lá thư gửi vào hộp thư của chúng tôi nói về Thầy Thông Lạc. Sau khi đọc những bài viết về Thầy Thông Lạc của bạn Ng. H. trên trang thư viện Hoa Sen, tôi có đến trình và thưa hỏi Thầy Thông Lạc, có nên trả lời những bài viết này không? Thầy Thông Lạc bảo: “Phải im lặng như Thánh, chúng ta tu tập theo Phật giáo là để cầu giải thoát, chứ không phải để tranh luận hơn thua, phải trái, đúng sai với ai cả. Nơi đâu có dựng lại chánh pháp của Phật, tu hành có giải thoát thì nơi đó chúng ta nên theo mà học hỏi và tu tập, còn nơi đâu có lý luận hơn thua thì nên tránh xa”. Lời Thầy Thông Lạc khuyên như vậy, nhưng tâm chúng tôi tu hành chưa tới đâu nên nghĩ đến nhiều người khác, nghĩ đến bạn Ng. H. Khi họ đọc những bài viết của bạn Ng. H thì họ hiểu Phật giáo một cách lệch lạc (hiểu theo kiểu xưa nay của kinh sách phát triển). Nếu những bài viết của bạn Ng. H đưa lên trang thư viện Hoa Sen mà không được chỉnh đốn, làm sáng tỏ lại thì rất tội nghiệp cho bạn Ng. H, vì bạn ấy không thấy được cái sai; cái cố chấp của bạn, mà còn có một số bạn bè hùa theo, a dua với những lập luận nhai lại bã mía của bạn. Những lập luận a dua nhai lại bã mía của bạn đã làm cho bạn không còn sáng suốt thấy sự vô minh của bạn nữa, do đó bạn sinh ngã mạn cho mình là am tường, thông suốt Phật pháp. Bằng chứng bạn ấy đã bỏ nhiều thì giờ để bình luận những lời tựa của bộ sách Đường Về Xứ Phật theo những kiến giải, tưởng giải của các vị Tổ sư. Trong khi đó, tâm bạn ấy sống chưa ly dục ly ác pháp ở giai đoạn của người cư sĩ giữ gìn 5 giới, thì còn nói chi đến tâm bạn ấy bất động trước các ác pháp và các cảm thọ; thì còn nói chi đến bạn ấy nhập được Tứ Thánh Định. Cho nên, bạn ấy chưa thực hiện được Tam Minh; chưa làm chủ được sự sống chết; chưa chấm dứt được sự tái sanh luân hồi; chưa biết khi chết bạn ấy sẽ đi về đâu. Nhất là một điều dễ làm mà bạn ấy còn chưa biết, chưa làm được, đó là một ngày sống đúng Phạm hạnh như Phật, như chúng Thánh Tăng như ngày Thọ Bát Quan Trai đúng chánh pháp. Thế mà, những bài viết của bạn ấy đưa lên trang Thư Viện Hoa Sen để chứng tỏ cho mọi người trên thế giới biết bạn là người am tường, thông hiểu Phật Pháp, nhưng cái thông hiểu của bạn giống như con chim nói tiếng người, có nghĩa là bạn chưa làm được những gì bạn đã nói. Vậy mà bạn luận cái sai, cái đúng về sách Thầy Thông Lạc thì tôi e rằng bạn là người háo danh và nông nổi, bạn không biết lượng sức mình chẳng khác gì người mù rờ voi, người đứng dưới chân núi mà nói chuyện trên đỉnh núi. Nếu bạn muốn luận về sách Thầy Thông Lạc thì bạn phải sống đúng Phạm hạnh của Phật, tâm phải ly dục ly bất thiện pháp, lúc nào cũng ở trong trạng thái bất động tâm và phải nhập cho được Tứ Thánh Định và thực hiện Tam Minh thì chừng đó bạn mới đủ khả năng luận về bộ sách Đường Về Xứ Phật của Thầy Thông Lạc. Bạn đâu biết rằng rất nhiều tín đồ Phật giáo hiện giờ đang chịu ảnh hưởng tinh thần bệnh hoạn mê tín, kiến chấp lý luận ảo tưởng và bệnh rối loạn thần kinh của Phật giáo phát triển; những người bệnh này nhiều lắm bạn ạ! Cho nên, những bậc tu hành chân chánh như Thầy Thông Lạc gióng lên tiếng chuông cảnh tỉnh, để mọi người tự cứu lấy mình, chứ không còn có cách nào, hay người nào khác tháo gỡ cho họ thoát khỏi những bệnh hoạn này. Trong khi đó những bài viết của bạn đưa lên trên trang Thư Viện Hoa Sen luận về sách Thầy Thông Lạc thì cũng giống như những người đã bị nọc của loài rắn độc mà lại được tiếp thêm chất nọc độc nữa. Và từ đó về sau bệnh nọc độc kiến chấp ảo tưởng mê tín của kinh sách phát triển càng trầm trọng hơn và không thể nào còn có thuốc nào cứu trị được. Thật đáng thương vậy! Những lối lý luận của bạn Ng. H là lối lý luận vay mượn của những nhà học giả Phật giáo xưa và nay, cứ dựa theo lối mòn đó, dò dẫm lại, chứ bạn Ng. H. không có sự nghiên cứu kỹ về kinh sách Phật giáo Nguyên Thủy. Do đo,ù bạn ấy không có sự hiểu biết của riêng bạn, vì thế cái hiểu biết này của bạn về Phật giáo mà tôi bảo thụ động bước theo lối mòn của người khác. Những bài viết của bạn dễ đưa dắt những người chưa hiểu biết về Phật giáo vào thế giới mê tín ảo tưởng của kinh sách phát triển, trừu tượng của Thiền Đông Độ, nhất là những người không có thì giờ nghiên cứu kinh sách Phật giáo Nguyên Thủy, vì thế họ dễ bị ảnh hưởng tà kiến của những loại kinh sách phát triển này. Thưa các bạn! Nếu trong tất cả những bài viết của bạn Ng. H nói về bộ sách của Thầy Thông Lạc, các bạn hãy chọn một bài nào, một đoạn nào, dù bất cứ ở chỗ nào trong những bài viết ấy đưa ra, thì tôi sẽ chỉ cái sai của bạn Ng. H cho các bạn xem, chỉ vì “mọi điểm của những bài viết” của bạn Ng. H không có điểm nào luận đúng, nói đúng về Phật giáo, về Thầy Thông Lạc cả, toàn là luận sai, vì bạn ấy quá xem thường kinh sách Phật giáo Nguyên Thủy. Ở đây tôi không chọn bài nào, đoạn nào cả mà chỉ ngay bài đầu, đoạn đầu rất ngắn của bạn ấy để vạch ra cho các bạn xem bài viết của bạn ấy đã có rất nhiều cái sai với Phật giáo, vừa theo lịch sử, vừa theo giáo pháp, vừa theo giới luật. Không có bộ môn nào của Phật giáo mà bạn Ng. H luận đúng cả. Nếu chịu khó luận hết những bài viết của bạn Ng. H, thì sẽ cho thấy cái sai của bạn ấy vô số kể bên cạnh còn có tội phỉ báng kẻ chân tu. 1- Theo lập luận của bạn Ng. H cho Thầy Thông lạc viết không đúng lịch sử Phật giáo mà chỉ do suy đoán của riêng Thầy: “Điều trên ghi không đúng theo lịch sử Phật Giáo, hoặc là chỉ do suy đoán riêng của Thầy Thông Lạc”. Theo sự nghiên cứu của chúng tôi và qua lời dạy của Thầy Thông Lạc, thì nên căn cứ vào tuổi thọ của ông A Nan để tìm ra Phật giáo Nguyên Thủy nguyên gốc tồn tại được bao nhiêu năm trên thế gian này. Ai cũng biết ông A Nan đến với đạo Phật vào khoảng 20 tuổi (tuổi tỳ kheo) cho đến khi thị tịch là 120 tuổi. Ông là người đệ tử thị tịch cuối cùng của đức Phật. Ông A Nan còn sống là người đại diện cho Phật giáo Nguyên Thủy và cũng là người giữ gìn mạng mạch của Phật giáo chánh tông. Ông A Nan mất là Phật giáo chân chánh mất. Tại sao vậy? Vì hiện tượng báo cho biết Phật giáo mất, mất trước khi ông A Nan tịch, là do tu sĩ Phật giáo bấy giờ hiểu sai lời Phật dạy, tu học theo kiến giải tà kiến của một số Thầy Tổ của họ. Trong những năm cuối đời, chính ông A Nan đích thân chỉnh đốn lại những điều sai đó, mà các tu sĩ bấy giờ đều không nghe. Nên ông tự than phiền và cho rằng: “Chúng sanh đời sau không còn đủ duyên với chánh pháp của Phật”. Để chứng minh điều này, tôi xin ghi lại một đoạn sử về ông A Nan trong bộ Thập Đại Đệ Tử Sử Chuyện: “Đến năm tôi già tròn đủ 120 tuổi, một hôm nọ trên đường đi nghe một thầy Tỳ Kheo tụng một bài kệ “Nếu người sống trăm tuổi, Không thấy thủy lão hạc Chẳng bằng sống một ngày Mà thấy được hạc ấy” Ông A Nan nghe qua bài kệ tụng bị sai lầm một cách tệ hại, thật là râu ông nọ cắm cằm bà kia, Tôn giả bèn lập tức cải chính. Bài kệ phải tụng như thế này: “Nếu người sống trăm tuổi Không hiểu pháp sanh diệt Chẳng bằng sống một ngày Mà được hiểu rõ ràng” Tỳ kheo kia nghe ông Anan dạy xong, trở về thưa lại với sư phụ, chẳng dè sư phụ nổi sùng nói rằng: - Ông đừng nghe ông A Nan nói bậy, năm nay ông A Nan đã già cả, lú lẩn rồi, Ta dạy ông không sai đâu. Thầy tỳ kheo trở lại đem lời sư phụ nói lại với ông A Nan. Tôn giả A Nan định đi tìm ông ta để hỏi: - Tại sao lại nói những lời ngu si như vậy? Nhưng suy đi nghĩ lại, con người đã thốt ra lời ấy có nói chưa chắc đã chịu nghe, nên thôi. Một vị Trưởng lão ôn hòa như ông A Nan thống lãnh giáo đoàn đương thời, nắm trong tay giáo quyền tối thượng, nhưng vẫn áp dụng lối xử sự nhún nhường”. Qua câu chuyện trên chúng ta xác định Phật giáo tồn tại tính Nguyên Thủy chỉ có một trăm năm. Một trăm năm ấy tính theo tuổi thọ của Ông A Nan. Ông A Nan vào đạo lúc 20 tuổi, đến khi thị tịch 120 tuổi. Như vậy ông A Nan có 100 tuổi đạo và 20 tuổi đời lúc trẻ. Còn tính theo năm đức Phật tu chứng quả đến khi về nước là 10 năm nhưng mất hết 7 năm mới tu chứng. Khi tu chứng xong ba năm sau mới về nước. Như vậy tính theo năm tu chứng đạo của Đức Phật và ông A Nan thị tịch là 103 năm. Nhưng ít nhất ba năm sau cuối đời của ông A Nan thì tu sĩ đã tu sai lệch theo kiến giải Thầy Tổ của họ. Như vậy Thầy Thông Lạc nói: Phật Giáo Nguyên Thủy chỉ có tồn tại 100 năm là đúng, vì Thầy có nghiên cứu và căn cứ vào sử sách hẳn hoi, chứ không phải Thầy suy đoán như bạn Ng. H nói. Các bạn có chấp nhận điều này không? Đó là cái sai thứ nhất của bạn Ng. H luận về Thầy Thông Lạc. 2- Lại nữa, theo bạn Ng. H nói: “Phật giáo Nguyên Thủy giữ đúng theo hình thức tu hành thời Phật, vẫn tồn tại vài trăm năm sau khi đức Phật Thích Ca nhập diệt, sau đó mới chia thành nhiều bộ phái mà Thượng Tọa Bộ, Đại Chúng Bộ sau này tập hợp thành Nam Tông và Bắc Tông”. Theo sự hiểu biết chung của mọi người, cũng như bạn Ng. H, Phật giáo vẫn tồn tại vài trăm năm sau khi đức Phật Thích Ca nhập diệt, sau đó mới chia thành nhiều bộ phái mà Thượng Tọa Bộ, Đại Chúng Bộ sau này tập hợp thành Nam Tông và Bắc Tông. Thưa các bạn! Sự phân chia bộ phái không phải đợi đến vài trăm năm sau khi đức Phật nhập diệt, mà ngay khi đức Phật còn tại thế đã có sự phân chia thành hình hai bộ phái rõ rệt. Đó là: Một bộ phái do Đức Phật lãnh đạo. Một bộ phái do Đề Bà Đạt Đa lãnh đạo. Nhờ sự lãnh đạo khéo léo của Đức Phật nên bộ phái Đề Bà Đạt Đa bị chìm, chứ không bị diệt mất, chỉ chờ có cơ hội thuận tiện là phát triển ngay liền. Như vậy, bạn Ng. H hiểu biết sự phân chia Phật giáo thành bộ phái là theo lối mòn của các Tổ như trên đã nói, chứ không phải bạn ấy hiểu biết qua trí tuệ tu chứng. Do đó, đây là điểm sai thứ hai của bạn Ng. H luận về Thầy Thông Lạc. 3- Lại nữa, theo bạn Ng. H nói: “Theo lịch sư, Phật chỉ giảng pháp trong 49 năm, không phải 100 năm (tại thế) như TL viết”. Đoạn luận trên của bạn Ng. H. cho thấy cái hiểu của bạn ấy lờ mờ không biết Thầy Thông Lạc nói 100 năm Phật giáo trụ thế, hay 100 năm thuyết pháp, do đó Ng. H. đưa ra hai giả thuyết: Giả thuyết thứ nhất: Vẫn tồn tại vài trăm năm sau khi đức Phật Thích Ca nhập diệt, chứ không phải 100 năm. Giả thuyết thứ hai: Theo lịch sử, Phật chỉ giảng pháp trong 49 năm, không phải 100 năm (tại thế) như TL viết. Qua lời luận trên các bạn thấy rõ bạn Ng. H rất vội vàng, đọc sách Đường Về Xứ Phật mà không hiểu gì về văn của Thầy Thông Lạc viết. Ở đây, Thầy Thông Lạc viết rất rõ ràng: “Đạo Phật chỉ có tồn tại được 100 năm” mà bạn ấy lại lý luận bảo: “Phật chỉ giảng pháp 49 năm, không phải 100 năm như TL viết”. Như vậy bạn Ng. H đã đồng hóa nghĩa của chữ “tồn tại” và chữ “giảng pháp”. Có lẽ bạn Ng. H. là người tu học theo kinh sách sách phát triển và bạn đã đạt được trí vô phân biệt! Đến đây các bạn đều biết lời luận của bạn Ng. H là dựa theo lối mòn của các Tổ thuộc kinh sách phát triển, chứ bạn Ng. H không tự nghiên cứu Phật giáo như tôi đã nói, nên sự hiểu biết của bạn ấy không có gì mới mẻ, riêng biệt. Vậy mà cầm bút phê bình kết luận Thầy Thông Lạc viết sai, không đúng. Thầy Thông Lạc viết một điều gì, điều ấy có căn cứ rõ ràng, chứ không phải tự dự đoán riêng đặt ra, mà cũng không theo lối mòn của các Thầy Tổ học giả xưa và nay. Thầy viết theo trí tuệ do tu tập, chứ không phải viết theo trí tuệ kiến thức học giả phàm phu. Ông A Nan là hiện thân giáo pháp của đức Phật, ông A Nan mất là giáo pháp Phật mất, ông A Nan còn là giáo pháp Phật còn. Ai cũng biết khi ông A Nan còn sống mà không chỉnh được những cái sai trong Phật giáo bấy giờ, thì thử hỏi khi ông A Nan chết thì còn ai chỉnh những cái sai này được. Với khả năng ghi nhớ của ông A Nan được đức Phật cho là đệ tử đa văn đệ nhất, thế mà còn không thể cứu nguy Phật giáo được, nên ông đành thị tịch. Giờ đây chúng ta hãy đọc lại đoạn sử Phật giáo rất não lòng này: “Tuy vậy một bậc Trưởng lão Thánh Tăng đã sống 120 tuổi đối với việc đời không còn chút lưu luyến, sau khi gặp chuyện trên lại còn chán ngán thế gian hơn. Tôn giả nghĩ: “cái cõi đời này thật hết ý kiến, đức Thế Tôn nhập diệt chưa bao lâu mà có người hiểu sai Phật pháp như vậy, sau này trong giáo đoàn lại có những điều tà kiến kể sao cho xiết. Ta vì Phật tụng lại giáo pháp mà mọi người chấp chặt vào kiến chấp tà kiến của họ không chịu theo đúng pháp mà tu hành. Ta còn ở lại đây làm gì? (Thập Đại Đệ Tử Sử Chuyện) 4- Thưa các bạn! Tôi chỉ dẫn vài đoạn luận ngắn trên đây để các bạn thấy rõ khả năng hiểu biết về Phật pháp của bạn Ng. H còn tùy thuộc, cần phải tu học nhiều hơn nữa để thực chứng tự trí tuệ thấy hiểu biết như thật, chứ không phải nhai lại bã mía của người xưa như vậy, chẳng có lợi ích gì cho bản thân, mà còn làm cho mọi người hiểu biết lệch lạc về Phật giáo, làm mất chánh pháp của Phật khiến người sau chẳng biết đường lối nào tu hành đến nơi đến chốn. Thật tội ấy không thể tha thứ được. Như các bạn đã thấy kinh sách phát triển không thiếu, nhiều như rừng, như biển, nhưng tìm một vị tu sĩ Phật giáo sống đúng Phạm hạnh giới luật thì không tìm thấy, huống là tìm một tu sĩ Phật giáo tâm ly dục ly bất thiện pháp và bất động trước các ác pháp và các cảm thọ thì làm sao tìm có. Phải không các bạn? Một rừng kinh sách phát triển như vậy mà không tìm ra một bậc tu hành sống đúng Phạm hạnh giới luật thì làm gì tìm được một bậc nhập Tứ Thánh Định, thể hiện Tam Minh, làm chủ sự sống chết, chấm dứt luân hồi tái sanh được Thưa các bạn! Rừng kinh sách phát triển vĩ đại như thế mà chỉ thấy những bộ giới cấm ít ỏi, lơ thơ, còn giới đức, giới hạnh, giới hành thì không có một bộ nào cả. Vậy lấy giới luật gì? Ở đâu? Mà bạn Ng. H dám đem giới luật ra đây nói: “Có hay không có, phạm hay không phạm”. Dựa vào mấy bộ giới cấm của các Tổ mà luận về giới luật thì tôi e bạn ấy không biết lượng sức mình. Khi bạn viết ra câu này chứng tỏ bạn là người không có nghiên cứu và học hỏi về giới luật: “Vì làm sao gọi là phạm giới khi không hay chưa có giới”. Thưa các bạn! Các bạn có biết giới luật của Phật bắt nguồn từ đâu mà có? Từ Phạm Thiên đấy các bạn ạ! Thưa các bạn! Phật có trước Phạm Thiên hay Phạm Thiên có trước Phật? Trong kinh sách Nguyên Thủy, Phật thường nhắc nhở các tỳ kheo nên sống một đời sống Phạm hạnh. Vậy Phạm hạnh là gì? Phạm hạnh là đức hạnh của Phạm Thiên. Đức hạnh của Phạm Thiên là giới đức, giới hạnh các bạn ạ! Phạm Thiên có trước Phật, như vậy giới luật có trước Phật thì làm sao bạn Ng. H bảo rằng: “Vì làm sao gọi là phạm giới khi không hay chưa có giới!”. Như vậy, bạn Nguyễn Hòa thật là đáng thương. Phải không các bạn? Khi nói, khi viết phải suy nghĩ kỹ. Đối với Phật giáo hiểu biết thì phải hiểu biết cho thật rành rẽ (chứng đạo), thì có lợi ích cho mình cho người, còn biết theo kiểu như những nhà học giả (chưa chứng), sự hiểu biết ấy như con dao hai lưỡi, biết mà im lặng như Thánh thì tốt; đã không biết mà tưởng là biết lại nói ra là một tai họa cho mình, cho người, cho Phật giáo. Các bạn có thấy điều này không? Kinh pháp Cú dạy: “Người ngu nghĩ mình ngu Nhờ vậy thành có trí Người ngu tưởng có trí Thật xứng gọi chí ngu” Trường hợp bạn H. Tr và bạn Ng. H, và một số vị nữa đều là những người viết bài cho trang Thư Viện Hoa Sen. Trang Thư Viện Hoa Sen tiêu biểu tiếng nói chân chánh, đúng đắn của Phật giáo, vì thế các bạn không nên viết sai phạm như thế này. Viết sai phạm thì trang Thư Viện Hoa Sen sẽ mất uy tín đối với các độc giả khắp nơi trên thế giới. Tiếng nói của Phật giáo mà không chân thật, không đúng đắn, lệch lạc, nghiên cứu không thấu đáo là khinh thường độc giả, xem độc giả thiếu hiểu biết về Phật giáo, vì thế mới muốn nói xuôi, nói ngược như thế nào cũng được. Tôi nghĩ các bạn đã lầm, muốn nói một điều gì về Phật giáo, về Thầy Thông Lạc thì các bạn hãy tu chứng đầy đủ trí tuệ Tam Minh, chứ đừng đem chút học thức ra khoe khoang. Các bạn đừng tưởng rằng độc giả toàn là những người dễ tin; rồi đây sẽ có những độc giả sẽ vạch trần những cái sai trong những bài viết của các bạn, khi Thầy Thông Lạc ẩn bóng. Như vậy, đây là cái sai của bạn Ng. H luận về Thầy Thông Lạc gây ảnh hưởng làm mất uy tín cho trang Thư Viện Hoa Sen nữa. Theo tôi nghĩ trang Thư Viện Hoa Sen là một thư viện Phật giáo chuyển tải những kinh sách Phật, những tiếng nói chân chánh của Phật giáo, chứ không phải là một tiệm sách hỗn tạp chưng bày nhiều thứ ô hợp. 4- Bạn Ng. H còn một lỗi về phẩm hạnh nữa. Thầy Thông Lạc là một người lớn tuổi (dù bài viết của bạn Ng. H vào năm 2002 hay 2003 thì Thầy Thông Lạc năm đó cũng đã 75 hay 76 tuổi), vậy mà bạn Ng. H viết trống không và viết tắt như vầy “TL”: “Theo lịch sử, Phật chỉ giảng pháp trong 49 năm, không phải 100 năm (tại thế) như TL viết” (còn nhiều nơi khác nữa!). Cách thể hiện của bạn như vậy tôi cho là thiếu văn hóa lịch sự, kém đạo đức, không lễ độ. Có đúng như vậy không các bạn? Dân tộc Việt Nam là một dân tộc có một truyền thống văn hóa kính trên, nhường dưới, sống có đạo đức lịch sự, lễ độ, cung kính, tôn ti, trật tự rất tuyệt vời. Vì thế, ngôn ngữ nước ta có đầy đủ những danh từ xưng hô phân biệt tôn ti trật tự mà trên thế giới không dân tộc nào có những danh từ xưng hô nhiều như vậy. Thế mà bạn Ng. H quên mình là dân tộc Việt Nam, quên nguồn gốc đạo đức của Tổ Tiên ông bà, vì thế không chút e dè coi Thầy TL như bạn bè đồng trang lứa, hay bậc trưởng thượng đối với hàng ti thuộc vậy (cho dù bạn Ng. H trên 70 tuổi đi nữa thì lại càng thủ lễ hơn để làm gương cho con cháu) trong khi Thầy Thông Lạc là một cụ già, còn ba năm nữa bằng tuổi Đức Phật nhập diệt. Đó là nói về tuổi tác của Thầy Thông Lạc đáng là cha, là ông của không ít người. Còn giả dụ cho bạn Ng. H hấp thụ văn hóa Âu Tây nên có lối xưng hô như thế thì tôi cũng cho bạn ấy sai nốt, vì chỉ khi nào bạn Ng. H thường giao dịch và thân thiết mới gọi người đó bằng tên trống không và hấp thụ như vậy là mất gốc. Chắc nhiều bạn không biết rằng về phần đức độ và tu hành của Thầy Thông Lạc khó mà tìm thấy trong thế gian này: Đời sống giới luật rất nghiêm chỉnh, không hề vi phạm những lỗi nhỏ nhặt, thiền định nhập Tứ Thánh Định, làm chủ sự sống chết, chấm dứt tái sanh luân hồi, thể hiện Tam Minh, tâm thường bất động trước các ác pháp và các cảm thọ, thường trú trong trạng thái thanh thản, an lạc và vô sự. Người như vậy trên đời này dễ gì thấy, phải không các bạn? Thưa các bạn! Có sống gần bên Thầy Thông Lạc mới nhận thấy được điều này. Thấy được điều này thực đáng cho chúng ta cung kính, tôn trọng! Có đáng cho chúng ta quỳ xuống đảnh lễ dưới chân Người không các bạn? Như vậy, cách ứng xử của bạn Ng. H là rất đáng trách. Phải không các bạn? Chỉ mới vào đầu một đoạn ngắn bài tiểu luận của bạn Ng. H mà đã có nhiều cái sai không đúng với Phật giáo. Nếu đem hết các bài của bạn Ng. H ra luận thì cái sai của bạn ấy còn biết bao nhiêu mà kể! Nhưng thôi, luận kể ít nhiều mà đi đến đâu! Chỉ mong chúng ta giúp cho nhau có được nhận thức đúng để tránh được cái đã sai. Và như vậy, xin hãy bình tâm mà học, bởi vì chỉ khi tu chứng quả A La Hán thì mới đủ sức bình luận được sách của Thầy Thông Lạc. Thưa các bạn! Diệu Quang quá tất bật vì nhiều công việc, chỉ xin góp ý với bạn Ng. H trong một đoạn tiểu luận nhỏ để làm một hạt cát xây dựng lại mái nhà Phật giáo mà Thầy Thông Lạc ngày đêm miệt mài dựng lại những gì của đức Phật đã bị các Tổ ném bỏ. Mong bạn Ng. H thông hiểu cho. Nếu tôi có nói điều gì làm bạn không bằng lòng, xin bạn tha thứ và từ đây về sau xin được xem bạn và các bạn khác như là những người bạn thân. Bạn Ng. H đồng ý nhé! Diệu Quang có lời thăm và chúc bạn dồi dào sức khỏe. Kính ghi Diệu Quang Tháng 5-2004 --o0o-- (Hết tập 6) ***----------------------*** Nguồn: Đường về Xứ Phật Tập 6 - Nhà xuất bản Tôn giáo \n"
     ]
    }
   ],
   "source": [
    "# get longest text\n",
    "longest_text = data['content'].apply(len).idxmax()\n",
    "longest_text = data['content'][longest_text]\n",
    "print(longest_text)"
   ]
  },
  {
   "cell_type": "code",
   "execution_count": 8,
   "metadata": {},
   "outputs": [
    {
     "name": "stderr",
     "output_type": "stream",
     "text": [
      "You seem to be using the pipelines sequentially on GPU. In order to maximize efficiency please use a dataset\n"
     ]
    },
    {
     "name": "stdout",
     "output_type": "stream",
     "text": [
      "{'Cực', 'Bắc Tông', 'Diệu Quang', 'Đế', 'tu viện Chơn Như', 'kinh Duy Ma C', 'Duy Ma Cất', 'Thủy', 'Đại', 'Thế Tôn', 'Đại Ca Diếp', 'Mục Kiền Liên', 'giáo', 'Châu', 'TL', 'Phật Giáo Nguyên Thủy', 'Lạc', 'Thông', 'Niết Bàn', 'kinh Duy Ma', 'Thường Chiếu', 'Phật học', 'Thích Ca', 'Phật giáo Nguyên', 'Nhà xuất bản Tôn giáo', 'Nam Tông', 'Ca Diếp', 'Ấn Độ', 'Đề Bà Đạt Đa', 'Pháp Loa', 'Phật', 'TPHCM', 'Cực Lạc', 'Đế Thích', 'Tông', 'Ng', 'Tây', 'Phật giáo Nguyên Thủy', 'Thiền Đông Độ', 'A Nan', 'Nguyễn Hòa', 'Bà La Môn', 'Thông Lạc', 'Tuệ Hạnh', 'Minh Hoàng', 'Duy Ma', 'Độ', 'Võ Đế', 'Duy Ma C', 'Anan', 'giáo Nguyên', 'Hoa Sen', 'Nan', 'Thiên', 'Huệ Năng', 'Viễn', 'đạo Phật', 'Trung Hoa', 'Bồ Đề Đạt Ma', 'Đường về', 'Phật giáo', 'núi Linh Thú', 'Duy Ma Cật', 'Huyền Quang', 'Phật Thích Ca', 'Thư Viện Hoa Sen', 'Việt Nam', 'giáo Nguyên Thủy'}\n"
     ]
    }
   ],
   "source": [
    "print(process_long_text(longest_text, tokenizer))"
   ]
  },
  {
   "cell_type": "code",
   "execution_count": 9,
   "metadata": {},
   "outputs": [
    {
     "name": "stdout",
     "output_type": "stream",
     "text": [
      "['Pháp Cú', 'Phật', 'tiết độ', 'hận thù', 'nhẫn nhục', 'pháp môn', 'từ bi', 'câu kệ', 'đường về', 'biếng nhác', 'Tây Phương Cực Lạc', 'A La Hán', 'cảnh giới', 'chỗ ấy', 'A di đà kinh', 'Tam Minh', 'định luật', 'chứng quả', 'thế gian', 'thương yêu']\n"
     ]
    }
   ],
   "source": [
    "# print the tags of the longest_text\n",
    "print(data['tags'][data['content'] == longest_text].values[0].split(','))"
   ]
  },
  {
   "cell_type": "code",
   "execution_count": 10,
   "metadata": {},
   "outputs": [
    {
     "name": "stdout",
     "output_type": "stream",
     "text": [
      "0.04597701149425287\n"
     ]
    }
   ],
   "source": [
    "# f1 score\n",
    "def f1_score_strings(pred, true):\n",
    "\tpred = set(pred)\n",
    "\ttrue = set(true)\n",
    "\t# normalize all strings\n",
    "\tpred = {i.lower() for i in pred}\n",
    "\ttrue = {i.lower() for i in true}\n",
    "\ttp = len(pred.intersection(true))\n",
    "\tfp = len(pred - true)\n",
    "\tfn = len(true - pred)\n",
    "\tif (tp + fp) == 0 or (tp + fn) == 0:\n",
    "\t\treturn 0\n",
    "\tprecision = tp / (tp + fp)\n",
    "\trecall = tp / (tp + fn)\n",
    "\tif (precision + recall) == 0:\n",
    "\t\treturn 0\n",
    "\tf1 = 2 * (precision * recall) / (precision + recall)\n",
    "\treturn f1\n",
    "\n",
    "print(f1_score_strings(process_long_text(longest_text, tokenizer), data['tags'][data['content'] == longest_text].values[0].split(',')))\n",
    "\n",
    "def accuracy_strings(pred, true):\n",
    "\tpred = set(pred)\n",
    "\ttrue = set(true)\n",
    "\t# normalize all strings\n",
    "\tpred = {i.lower() for i in pred}\n",
    "\ttrue = {i.lower() for i in true}\n",
    "\treturn len(pred.intersection(true)) / len(true)"
   ]
  },
  {
   "cell_type": "code",
   "execution_count": 11,
   "metadata": {},
   "outputs": [
    {
     "name": "stdout",
     "output_type": "stream",
     "text": [
      "AVG F1 on 10000 random samples: 0.20544658565482288\n",
      "AVG Accuracy on 10000 random samples: 0.1779285714285715\n"
     ]
    }
   ],
   "source": [
    "f1_scores = []\n",
    "accuracy_scores = []\n",
    "\n",
    "for i in data.sample(n=100, random_state=1).index:\n",
    "\tpred = process_long_text(data['content'][i], tokenizer)\n",
    "\ttrue = data['tags'][i].split(',')\n",
    "\tf1 = f1_score_strings(pred, true)\n",
    "\tf1_scores.append(f1)\n",
    "\taccuracy = accuracy_strings(pred, true)\n",
    "\taccuracy_scores.append(accuracy)\n",
    "\n",
    "# average f1 score\n",
    "print(f\"AVG F1 on 10000 random samples: {sum(f1_scores) / len(f1_scores)}\")\n",
    "print(f\"AVG Accuracy on 10000 random samples: {sum(accuracy_scores) / len(accuracy_scores)}\")"
   ]
  },
  {
   "cell_type": "code",
   "execution_count": 13,
   "metadata": {},
   "outputs": [
    {
     "data": {
      "text/html": [
       "<div>\n",
       "<style scoped>\n",
       "    .dataframe tbody tr th:only-of-type {\n",
       "        vertical-align: middle;\n",
       "    }\n",
       "\n",
       "    .dataframe tbody tr th {\n",
       "        vertical-align: top;\n",
       "    }\n",
       "\n",
       "    .dataframe thead th {\n",
       "        text-align: right;\n",
       "    }\n",
       "</style>\n",
       "<table border=\"1\" class=\"dataframe\">\n",
       "  <thead>\n",
       "    <tr style=\"text-align: right;\">\n",
       "      <th></th>\n",
       "      <th>content</th>\n",
       "    </tr>\n",
       "  </thead>\n",
       "  <tbody>\n",
       "    <tr>\n",
       "      <th>0</th>\n",
       "      <td>Vào tối 22/10, sau đêm bán kết của cuộc thi Ho...</td>\n",
       "    </tr>\n",
       "    <tr>\n",
       "      <th>1</th>\n",
       "      <td>Tân Hoa Xã đưa tin rằng vào ngày 9/10, phát ng...</td>\n",
       "    </tr>\n",
       "    <tr>\n",
       "      <th>2</th>\n",
       "      <td>Chuyến thăm của Lloyd Austin diễn ra chỉ vài n...</td>\n",
       "    </tr>\n",
       "    <tr>\n",
       "      <th>3</th>\n",
       "      <td>Trong dự thảo Luật Nhà giáo, Bộ GD&amp;ĐT đã đưa r...</td>\n",
       "    </tr>\n",
       "    <tr>\n",
       "      <th>4</th>\n",
       "      <td>Trong buổi gặp gỡ, Chủ tịch Hà Thị Nga đã bày ...</td>\n",
       "    </tr>\n",
       "    <tr>\n",
       "      <th>...</th>\n",
       "      <td>...</td>\n",
       "    </tr>\n",
       "    <tr>\n",
       "      <th>43898</th>\n",
       "      <td>Giá vàng tiếp tục tăng phiên thứ hai, đạt đỉnh...</td>\n",
       "    </tr>\n",
       "    <tr>\n",
       "      <th>43899</th>\n",
       "      <td>Để tỏ lòng tri ân với lịch sử và những người c...</td>\n",
       "    </tr>\n",
       "    <tr>\n",
       "      <th>43900</th>\n",
       "      <td>MangoTV vừa công bố danh sách phim có lượt xem...</td>\n",
       "    </tr>\n",
       "    <tr>\n",
       "      <th>43901</th>\n",
       "      <td>Để hoạt động đấu giá khoáng sản minh bạch và h...</td>\n",
       "    </tr>\n",
       "    <tr>\n",
       "      <th>43902</th>\n",
       "      <td>Vào lúc 19 giờ, tâm áp thấp nhiệt đới nằm ở ph...</td>\n",
       "    </tr>\n",
       "  </tbody>\n",
       "</table>\n",
       "<p>43903 rows × 1 columns</p>\n",
       "</div>"
      ],
      "text/plain": [
       "                                                 content\n",
       "0      Vào tối 22/10, sau đêm bán kết của cuộc thi Ho...\n",
       "1      Tân Hoa Xã đưa tin rằng vào ngày 9/10, phát ng...\n",
       "2      Chuyến thăm của Lloyd Austin diễn ra chỉ vài n...\n",
       "3      Trong dự thảo Luật Nhà giáo, Bộ GD&ĐT đã đưa r...\n",
       "4      Trong buổi gặp gỡ, Chủ tịch Hà Thị Nga đã bày ...\n",
       "...                                                  ...\n",
       "43898  Giá vàng tiếp tục tăng phiên thứ hai, đạt đỉnh...\n",
       "43899  Để tỏ lòng tri ân với lịch sử và những người c...\n",
       "43900  MangoTV vừa công bố danh sách phim có lượt xem...\n",
       "43901  Để hoạt động đấu giá khoáng sản minh bạch và h...\n",
       "43902  Vào lúc 19 giờ, tâm áp thấp nhiệt đới nằm ở ph...\n",
       "\n",
       "[43903 rows x 1 columns]"
      ]
     },
     "execution_count": 13,
     "metadata": {},
     "output_type": "execute_result"
    }
   ],
   "source": [
    "test_data = pd.read_csv(DATA_PATH+\"articles_testing.tsv\", sep='\\t')\n",
    "test_data"
   ]
  },
  {
   "cell_type": "code",
   "execution_count": 14,
   "metadata": {},
   "outputs": [],
   "source": [
    "def get_final_result(text):\n",
    "\tresult_set = process_long_text(text, tokenizer)\n",
    "\treturn ','.join(result_set)"
   ]
  },
  {
   "cell_type": "code",
   "execution_count": 15,
   "metadata": {},
   "outputs": [
    {
     "name": "stdout",
     "output_type": "stream",
     "text": [
      "Cực,Bắc Tông,Diệu Quang,Đế,tu viện Chơn Như,kinh Duy Ma C,Duy Ma Cất,Thủy,Đại,Thế Tôn,Đại Ca Diếp,Mục Kiền Liên,giáo,Châu,TL,Phật Giáo Nguyên Thủy,Lạc,Thông,Niết Bàn,kinh Duy Ma,Thường Chiếu,Phật học,Thích Ca,Phật giáo Nguyên,Nhà xuất bản Tôn giáo,Nam Tông,Ca Diếp,Ấn Độ,Đề Bà Đạt Đa,Pháp Loa,Phật,TPHCM,Cực Lạc,Đế Thích,Tông,Ng,Tây,Phật giáo Nguyên Thủy,Thiền Đông Độ,A Nan,Nguyễn Hòa,Bà La Môn,Thông Lạc,Tuệ Hạnh,Minh Hoàng,Duy Ma,Độ,Võ Đế,Duy Ma C,Anan,giáo Nguyên,Hoa Sen,Nan,Thiên,Huệ Năng,Viễn,đạo Phật,Trung Hoa,Bồ Đề Đạt Ma,Đường về,Phật giáo,núi Linh Thú,Duy Ma Cật,Huyền Quang,Phật Thích Ca,Thư Viện Hoa Sen,Việt Nam,giáo Nguyên Thủy\n"
     ]
    }
   ],
   "source": [
    "print(get_final_result(longest_text))"
   ]
  },
  {
   "cell_type": "code",
   "execution_count": 16,
   "metadata": {},
   "outputs": [],
   "source": [
    "test_data['tags'] = test_data['content'].apply(get_final_result)\n",
    "\n",
    "# save the result\n",
    "test_data.to_csv(DATA_PATH+\"nhom1_ner.tsv\", sep='\\t', index=False)"
   ]
  },
  {
   "cell_type": "code",
   "execution_count": 17,
   "metadata": {},
   "outputs": [
    {
     "data": {
      "text/html": [
       "<div>\n",
       "<style scoped>\n",
       "    .dataframe tbody tr th:only-of-type {\n",
       "        vertical-align: middle;\n",
       "    }\n",
       "\n",
       "    .dataframe tbody tr th {\n",
       "        vertical-align: top;\n",
       "    }\n",
       "\n",
       "    .dataframe thead th {\n",
       "        text-align: right;\n",
       "    }\n",
       "</style>\n",
       "<table border=\"1\" class=\"dataframe\">\n",
       "  <thead>\n",
       "    <tr style=\"text-align: right;\">\n",
       "      <th></th>\n",
       "      <th>content</th>\n",
       "      <th>tags</th>\n",
       "    </tr>\n",
       "  </thead>\n",
       "  <tbody>\n",
       "    <tr>\n",
       "      <th>0</th>\n",
       "      <td>Vào tối 22/10, sau đêm bán kết của cuộc thi Ho...</td>\n",
       "      <td>Lê Võ Quế Anh,Thái Lan,Nguyễn Minh Công,Việt N...</td>\n",
       "    </tr>\n",
       "    <tr>\n",
       "      <th>1</th>\n",
       "      <td>Tân Hoa Xã đưa tin rằng vào ngày 9/10, phát ng...</td>\n",
       "      <td>Anh,Sergei Naryshkin,Nga,Thụy Điển,Đan Mạch,No...</td>\n",
       "    </tr>\n",
       "    <tr>\n",
       "      <th>2</th>\n",
       "      <td>Chuyến thăm của Lloyd Austin diễn ra chỉ vài n...</td>\n",
       "      <td>miền Đông Ukraine,Donald Trump,Lầu Năm góc,Mát...</td>\n",
       "    </tr>\n",
       "    <tr>\n",
       "      <th>3</th>\n",
       "      <td>Trong dự thảo Luật Nhà giáo, Bộ GD&amp;ĐT đã đưa r...</td>\n",
       "      <td>Bộ GD,Phan Thị Hằng Hải,ĐT,Nguyễn Thị Minh,Ngu...</td>\n",
       "    </tr>\n",
       "    <tr>\n",
       "      <th>4</th>\n",
       "      <td>Trong buổi gặp gỡ, Chủ tịch Hà Thị Nga đã bày ...</td>\n",
       "      <td>Orlando Nicolas Hernandez Guillen,Hà Thị Nga,H...</td>\n",
       "    </tr>\n",
       "    <tr>\n",
       "      <th>...</th>\n",
       "      <td>...</td>\n",
       "      <td>...</td>\n",
       "    </tr>\n",
       "    <tr>\n",
       "      <th>43898</th>\n",
       "      <td>Giá vàng tiếp tục tăng phiên thứ hai, đạt đỉnh...</td>\n",
       "      <td>SJC,Doji,TD Securities,Mỹ,Donald Trump,Nga Ukr...</td>\n",
       "    </tr>\n",
       "    <tr>\n",
       "      <th>43899</th>\n",
       "      <td>Để tỏ lòng tri ân với lịch sử và những người c...</td>\n",
       "      <td>Nguyễn Hoàng Đạo,Cà Mau,Bắc,Ban Tuyên giáo Tỉn...</td>\n",
       "    </tr>\n",
       "    <tr>\n",
       "      <th>43900</th>\n",
       "      <td>MangoTV vừa công bố danh sách phim có lượt xem...</td>\n",
       "      <td>Trương Tân Thành,Bạch Lộc,IQ,Tencent,Tống Thiế...</td>\n",
       "    </tr>\n",
       "    <tr>\n",
       "      <th>43901</th>\n",
       "      <td>Để hoạt động đấu giá khoáng sản minh bạch và h...</td>\n",
       "      <td>Bộ Tài nguyên và Môi trường,Hà Nam,Quảng Nam,H...</td>\n",
       "    </tr>\n",
       "    <tr>\n",
       "      <th>43902</th>\n",
       "      <td>Vào lúc 19 giờ, tâm áp thấp nhiệt đới nằm ở ph...</td>\n",
       "      <td>Biển Đông,Bộ,đảo Hoàng Sa,Bình Định,Quần đảo H...</td>\n",
       "    </tr>\n",
       "  </tbody>\n",
       "</table>\n",
       "<p>43903 rows × 2 columns</p>\n",
       "</div>"
      ],
      "text/plain": [
       "                                                 content  \\\n",
       "0      Vào tối 22/10, sau đêm bán kết của cuộc thi Ho...   \n",
       "1      Tân Hoa Xã đưa tin rằng vào ngày 9/10, phát ng...   \n",
       "2      Chuyến thăm của Lloyd Austin diễn ra chỉ vài n...   \n",
       "3      Trong dự thảo Luật Nhà giáo, Bộ GD&ĐT đã đưa r...   \n",
       "4      Trong buổi gặp gỡ, Chủ tịch Hà Thị Nga đã bày ...   \n",
       "...                                                  ...   \n",
       "43898  Giá vàng tiếp tục tăng phiên thứ hai, đạt đỉnh...   \n",
       "43899  Để tỏ lòng tri ân với lịch sử và những người c...   \n",
       "43900  MangoTV vừa công bố danh sách phim có lượt xem...   \n",
       "43901  Để hoạt động đấu giá khoáng sản minh bạch và h...   \n",
       "43902  Vào lúc 19 giờ, tâm áp thấp nhiệt đới nằm ở ph...   \n",
       "\n",
       "                                                    tags  \n",
       "0      Lê Võ Quế Anh,Thái Lan,Nguyễn Minh Công,Việt N...  \n",
       "1      Anh,Sergei Naryshkin,Nga,Thụy Điển,Đan Mạch,No...  \n",
       "2      miền Đông Ukraine,Donald Trump,Lầu Năm góc,Mát...  \n",
       "3      Bộ GD,Phan Thị Hằng Hải,ĐT,Nguyễn Thị Minh,Ngu...  \n",
       "4      Orlando Nicolas Hernandez Guillen,Hà Thị Nga,H...  \n",
       "...                                                  ...  \n",
       "43898  SJC,Doji,TD Securities,Mỹ,Donald Trump,Nga Ukr...  \n",
       "43899  Nguyễn Hoàng Đạo,Cà Mau,Bắc,Ban Tuyên giáo Tỉn...  \n",
       "43900  Trương Tân Thành,Bạch Lộc,IQ,Tencent,Tống Thiế...  \n",
       "43901  Bộ Tài nguyên và Môi trường,Hà Nam,Quảng Nam,H...  \n",
       "43902  Biển Đông,Bộ,đảo Hoàng Sa,Bình Định,Quần đảo H...  \n",
       "\n",
       "[43903 rows x 2 columns]"
      ]
     },
     "execution_count": 17,
     "metadata": {},
     "output_type": "execute_result"
    }
   ],
   "source": [
    "test_data"
   ]
  }
 ],
 "metadata": {
  "kernelspec": {
   "display_name": "xal4food",
   "language": "python",
   "name": "python3"
  },
  "language_info": {
   "codemirror_mode": {
    "name": "ipython",
    "version": 3
   },
   "file_extension": ".py",
   "mimetype": "text/x-python",
   "name": "python",
   "nbconvert_exporter": "python",
   "pygments_lexer": "ipython3",
   "version": "3.11.10"
  }
 },
 "nbformat": 4,
 "nbformat_minor": 2
}
